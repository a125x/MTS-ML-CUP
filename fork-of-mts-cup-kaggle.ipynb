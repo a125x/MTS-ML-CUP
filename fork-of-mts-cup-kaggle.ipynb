{
 "cells": [
  {
   "cell_type": "markdown",
   "id": "0a4712d7",
   "metadata": {
    "papermill": {
     "duration": 0.010928,
     "end_time": "2023-03-27T16:37:45.876534",
     "exception": false,
     "start_time": "2023-03-27T16:37:45.865606",
     "status": "completed"
    },
    "tags": []
   },
   "source": [
    "## Imports and constants"
   ]
  },
  {
   "cell_type": "markdown",
   "id": "ccb0c385",
   "metadata": {
    "papermill": {
     "duration": 0.008947,
     "end_time": "2023-03-27T16:37:45.896832",
     "exception": false,
     "start_time": "2023-03-27T16:37:45.887885",
     "status": "completed"
    },
    "tags": []
   },
   "source": [
    "to do: \n",
    "\n",
    "transformers, features generation,\n",
    "fix left bisect as described in the changed rules"
   ]
  },
  {
   "cell_type": "code",
   "execution_count": 1,
   "id": "854b068b",
   "metadata": {
    "execution": {
     "iopub.execute_input": "2023-03-27T16:37:45.916178Z",
     "iopub.status.busy": "2023-03-27T16:37:45.915644Z",
     "iopub.status.idle": "2023-03-27T16:37:45.936764Z",
     "shell.execute_reply": "2023-03-27T16:37:45.935209Z"
    },
    "papermill": {
     "duration": 0.038033,
     "end_time": "2023-03-27T16:37:45.942970",
     "exception": false,
     "start_time": "2023-03-27T16:37:45.904937",
     "status": "completed"
    },
    "tags": []
   },
   "outputs": [],
   "source": [
    "SPLIT_SEED = 42\n",
    "KFOLD_SPLITS = 3\n",
    "\n",
    "IS_EMBEDDING_USED = True\n",
    "if IS_EMBEDDING_USED:\n",
    "    IS_GPU_USED = False\n",
    "    FAISS_ITERATIONS = 10\n",
    "    FACTORS = 10\n",
    "    \n",
    "IS_POLARS_USED = True\n",
    "    \n",
    "IS_NOTEBOOK_ON_KAGGLE = True\n",
    "IS_NOTBOOK_ON_COLAB = False\n",
    "\n",
    "IS_MODEL_TRANSFORMERS4REC = False\n",
    "IS_MODEL_CATBOOST = True\n",
    "IS_MODEL_RANDFOREST = False"
   ]
  },
  {
   "cell_type": "code",
   "execution_count": 2,
   "id": "b8be4698",
   "metadata": {
    "_kg_hide-input": true,
    "execution": {
     "iopub.execute_input": "2023-03-27T16:37:45.964569Z",
     "iopub.status.busy": "2023-03-27T16:37:45.964103Z",
     "iopub.status.idle": "2023-03-27T16:38:32.390994Z",
     "shell.execute_reply": "2023-03-27T16:38:32.389889Z"
    },
    "papermill": {
     "duration": 46.440472,
     "end_time": "2023-03-27T16:38:32.393708",
     "exception": false,
     "start_time": "2023-03-27T16:37:45.953236",
     "status": "completed"
    },
    "tags": []
   },
   "outputs": [
    {
     "name": "stdout",
     "output_type": "stream",
     "text": [
      "\u001b[33mWARNING: Running pip as the 'root' user can result in broken permissions and conflicting behaviour with the system package manager. It is recommended to use a virtual environment instead: https://pip.pypa.io/warnings/venv\u001b[0m\u001b[33m\r\n",
      "\u001b[0m\u001b[33mWARNING: Running pip as the 'root' user can result in broken permissions and conflicting behaviour with the system package manager. It is recommended to use a virtual environment instead: https://pip.pypa.io/warnings/venv\u001b[0m\u001b[33m\r\n",
      "\u001b[0m\u001b[33mWARNING: Running pip as the 'root' user can result in broken permissions and conflicting behaviour with the system package manager. It is recommended to use a virtual environment instead: https://pip.pypa.io/warnings/venv\u001b[0m\u001b[33m\r\n",
      "\u001b[0m"
     ]
    }
   ],
   "source": [
    "!pip install feather-format >> none -q\n",
    "!pip install polars -q\n",
    "\n",
    "import bisect\n",
    "import matplotlib.pyplot as plt\n",
    "import numpy as np\n",
    "import os\n",
    "import pandas as pd\n",
    "import plotly.express as px\n",
    "import polars as pl\n",
    "import pyarrow as pa\n",
    "import pyarrow.parquet as pq\n",
    "import seaborn as sns\n",
    "import sklearn.metrics as m\n",
    "import sys\n",
    "import tensorflow as tf\n",
    "import time\n",
    "import warnings\n",
    "\n",
    "from pathlib import Path\n",
    "from sklearn.model_selection import KFold\n",
    "\n",
    "if IS_EMBEDDING_USED:\n",
    "    !pip install faiss-cpu --no-cache -q\n",
    "    \n",
    "    import implicit\n",
    "    import scipy\n",
    "\n",
    "if IS_MODEL_RANDFOREST:\n",
    "    from sklearn.ensemble import RandomForestClassifier\n",
    "\n",
    "if IS_MODEL_CATBOOST:\n",
    "    from catboost import CatBoostClassifier, CatBoostRegressor, Pool\n",
    "\n",
    "%matplotlib inline\n",
    "sns.set_style('darkgrid')\n",
    "warnings.filterwarnings('ignore')"
   ]
  },
  {
   "cell_type": "code",
   "execution_count": 3,
   "id": "9c305c02",
   "metadata": {
    "_kg_hide-input": true,
    "execution": {
     "iopub.execute_input": "2023-03-27T16:38:32.413072Z",
     "iopub.status.busy": "2023-03-27T16:38:32.411346Z",
     "iopub.status.idle": "2023-03-27T16:38:32.419155Z",
     "shell.execute_reply": "2023-03-27T16:38:32.417749Z"
    },
    "papermill": {
     "duration": 0.020037,
     "end_time": "2023-03-27T16:38:32.421768",
     "exception": false,
     "start_time": "2023-03-27T16:38:32.401731",
     "status": "completed"
    },
    "tags": []
   },
   "outputs": [],
   "source": [
    "if IS_NOTEBOOK_ON_KAGGLE:\n",
    "    LOCAL_DATA_PATH = Path('/kaggle', 'input', 'mts-ml-cookies')\n",
    "    DATA_FILE = Path('dataset_full.feather')\n",
    "    TARGET_FILE = Path('target_train.feather')\n",
    "    SUBMISSION_FILE = Path('submission.feather')"
   ]
  },
  {
   "cell_type": "markdown",
   "id": "9d2bb2c9",
   "metadata": {
    "papermill": {
     "duration": 0.007679,
     "end_time": "2023-03-27T16:38:32.437451",
     "exception": false,
     "start_time": "2023-03-27T16:38:32.429772",
     "status": "completed"
    },
    "tags": []
   },
   "source": [
    "## Showing data"
   ]
  },
  {
   "cell_type": "code",
   "execution_count": 4,
   "id": "37e18675",
   "metadata": {
    "execution": {
     "iopub.execute_input": "2023-03-27T16:38:32.456311Z",
     "iopub.status.busy": "2023-03-27T16:38:32.455919Z",
     "iopub.status.idle": "2023-03-27T16:38:32.552186Z",
     "shell.execute_reply": "2023-03-27T16:38:32.551098Z"
    },
    "papermill": {
     "duration": 0.109369,
     "end_time": "2023-03-27T16:38:32.554671",
     "exception": false,
     "start_time": "2023-03-27T16:38:32.445302",
     "status": "completed"
    },
    "tags": []
   },
   "outputs": [
    {
     "data": {
      "text/html": [
       "<div>\n",
       "<style scoped>\n",
       "    .dataframe tbody tr th:only-of-type {\n",
       "        vertical-align: middle;\n",
       "    }\n",
       "\n",
       "    .dataframe tbody tr th {\n",
       "        vertical-align: top;\n",
       "    }\n",
       "\n",
       "    .dataframe thead th {\n",
       "        text-align: right;\n",
       "    }\n",
       "</style>\n",
       "<table border=\"1\" class=\"dataframe\">\n",
       "  <thead>\n",
       "    <tr style=\"text-align: right;\">\n",
       "      <th></th>\n",
       "      <th>user_id</th>\n",
       "    </tr>\n",
       "  </thead>\n",
       "  <tbody>\n",
       "    <tr>\n",
       "      <th>0</th>\n",
       "      <td>221301</td>\n",
       "    </tr>\n",
       "    <tr>\n",
       "      <th>1</th>\n",
       "      <td>31271</td>\n",
       "    </tr>\n",
       "    <tr>\n",
       "      <th>2</th>\n",
       "      <td>211594</td>\n",
       "    </tr>\n",
       "  </tbody>\n",
       "</table>\n",
       "</div>"
      ],
      "text/plain": [
       "   user_id\n",
       "0   221301\n",
       "1    31271\n",
       "2   211594"
      ]
     },
     "metadata": {},
     "output_type": "display_data"
    },
    {
     "data": {
      "text/plain": [
       "<bound method DataFrame.info of         user_id\n",
       "0        221301\n",
       "1         31271\n",
       "2        211594\n",
       "3        253119\n",
       "4        192578\n",
       "...         ...\n",
       "144719   415284\n",
       "144720   415285\n",
       "144721   415286\n",
       "144722   415306\n",
       "144723   415315\n",
       "\n",
       "[144724 rows x 1 columns]>"
      ]
     },
     "metadata": {},
     "output_type": "display_data"
    },
    {
     "data": {
      "text/plain": [
       "<bound method DataFrame.info of         user_id\n",
       "0        221301\n",
       "1         31271\n",
       "2        211594\n",
       "3        253119\n",
       "4        192578\n",
       "...         ...\n",
       "144719   415284\n",
       "144720   415285\n",
       "144721   415286\n",
       "144722   415306\n",
       "144723   415315\n",
       "\n",
       "[144724 rows x 1 columns]>"
      ]
     },
     "metadata": {},
     "output_type": "display_data"
    }
   ],
   "source": [
    "id_to_submit = pd.read_feather(Path(LOCAL_DATA_PATH, SUBMISSION_FILE))\n",
    "display(id_to_submit.head(3))\n",
    "display(id_to_submit.info)\n",
    "id_to_submit.dropna(inplace=True)\n",
    "display(id_to_submit.info)"
   ]
  },
  {
   "cell_type": "code",
   "execution_count": 5,
   "id": "09230927",
   "metadata": {
    "execution": {
     "iopub.execute_input": "2023-03-27T16:38:32.574079Z",
     "iopub.status.busy": "2023-03-27T16:38:32.572975Z",
     "iopub.status.idle": "2023-03-27T16:38:32.800908Z",
     "shell.execute_reply": "2023-03-27T16:38:32.799671Z"
    },
    "papermill": {
     "duration": 0.240502,
     "end_time": "2023-03-27T16:38:32.803626",
     "exception": false,
     "start_time": "2023-03-27T16:38:32.563124",
     "status": "completed"
    },
    "tags": []
   },
   "outputs": [
    {
     "data": {
      "text/html": [
       "<div>\n",
       "<style scoped>\n",
       "    .dataframe tbody tr th:only-of-type {\n",
       "        vertical-align: middle;\n",
       "    }\n",
       "\n",
       "    .dataframe tbody tr th {\n",
       "        vertical-align: top;\n",
       "    }\n",
       "\n",
       "    .dataframe thead th {\n",
       "        text-align: right;\n",
       "    }\n",
       "</style>\n",
       "<table border=\"1\" class=\"dataframe\">\n",
       "  <thead>\n",
       "    <tr style=\"text-align: right;\">\n",
       "      <th></th>\n",
       "      <th>age</th>\n",
       "      <th>is_male</th>\n",
       "      <th>user_id</th>\n",
       "    </tr>\n",
       "  </thead>\n",
       "  <tbody>\n",
       "    <tr>\n",
       "      <th>0</th>\n",
       "      <td>31.0</td>\n",
       "      <td>1</td>\n",
       "      <td>350459</td>\n",
       "    </tr>\n",
       "    <tr>\n",
       "      <th>1</th>\n",
       "      <td>35.0</td>\n",
       "      <td>1</td>\n",
       "      <td>188276</td>\n",
       "    </tr>\n",
       "    <tr>\n",
       "      <th>2</th>\n",
       "      <td>41.0</td>\n",
       "      <td>0</td>\n",
       "      <td>99002</td>\n",
       "    </tr>\n",
       "    <tr>\n",
       "      <th>3</th>\n",
       "      <td>33.0</td>\n",
       "      <td>0</td>\n",
       "      <td>155506</td>\n",
       "    </tr>\n",
       "    <tr>\n",
       "      <th>4</th>\n",
       "      <td>54.0</td>\n",
       "      <td>0</td>\n",
       "      <td>213873</td>\n",
       "    </tr>\n",
       "  </tbody>\n",
       "</table>\n",
       "</div>"
      ],
      "text/plain": [
       "    age is_male  user_id\n",
       "0  31.0       1   350459\n",
       "1  35.0       1   188276\n",
       "2  41.0       0    99002\n",
       "3  33.0       0   155506\n",
       "4  54.0       0   213873"
      ]
     },
     "metadata": {},
     "output_type": "display_data"
    },
    {
     "data": {
      "text/plain": [
       "<bound method DataFrame.info of          age is_male  user_id\n",
       "0       31.0       1   350459\n",
       "1       35.0       1   188276\n",
       "2       41.0       0    99002\n",
       "3       33.0       0   155506\n",
       "4       54.0       0   213873\n",
       "...      ...     ...      ...\n",
       "269995  49.0       1   225374\n",
       "269996  22.0       1    25776\n",
       "269997  28.0       0   148131\n",
       "269998  28.0       1   205570\n",
       "269999  68.0       1   103148\n",
       "\n",
       "[268922 rows x 3 columns]>"
      ]
     },
     "metadata": {},
     "output_type": "display_data"
    },
    {
     "data": {
      "text/plain": [
       "<bound method DataFrame.info of          age is_male  user_id\n",
       "0       31.0       1   350459\n",
       "1       35.0       1   188276\n",
       "2       41.0       0    99002\n",
       "3       33.0       0   155506\n",
       "4       54.0       0   213873\n",
       "...      ...     ...      ...\n",
       "269995  49.0       1   225374\n",
       "269996  22.0       1    25776\n",
       "269997  28.0       0   148131\n",
       "269998  28.0       1   205570\n",
       "269999  68.0       1   103148\n",
       "\n",
       "[263508 rows x 3 columns]>"
      ]
     },
     "metadata": {},
     "output_type": "display_data"
    },
    {
     "data": {
      "text/html": [
       "<div>\n",
       "<style scoped>\n",
       "    .dataframe tbody tr th:only-of-type {\n",
       "        vertical-align: middle;\n",
       "    }\n",
       "\n",
       "    .dataframe tbody tr th {\n",
       "        vertical-align: top;\n",
       "    }\n",
       "\n",
       "    .dataframe thead tr th {\n",
       "        text-align: left;\n",
       "    }\n",
       "</style>\n",
       "<table border=\"1\" class=\"dataframe\">\n",
       "  <thead>\n",
       "    <tr>\n",
       "      <th></th>\n",
       "      <th>field</th>\n",
       "      <th>type</th>\n",
       "    </tr>\n",
       "  </thead>\n",
       "  <tbody>\n",
       "    <tr>\n",
       "      <th>0</th>\n",
       "      <td>age</td>\n",
       "      <td>double</td>\n",
       "    </tr>\n",
       "    <tr>\n",
       "      <th>1</th>\n",
       "      <td>is_male</td>\n",
       "      <td>string</td>\n",
       "    </tr>\n",
       "    <tr>\n",
       "      <th>2</th>\n",
       "      <td>user_id</td>\n",
       "      <td>int64</td>\n",
       "    </tr>\n",
       "    <tr>\n",
       "      <th>3</th>\n",
       "      <td>__index_level_0__</td>\n",
       "      <td>int64</td>\n",
       "    </tr>\n",
       "  </tbody>\n",
       "</table>\n",
       "</div>"
      ],
      "text/plain": [
       "               field    type\n",
       "0                age  double\n",
       "1            is_male  string\n",
       "2            user_id   int64\n",
       "3  __index_level_0__   int64"
      ]
     },
     "metadata": {},
     "output_type": "display_data"
    }
   ],
   "source": [
    "targets = pd.read_feather(Path(LOCAL_DATA_PATH, TARGET_FILE)).query('age >=19') \n",
    "display(targets.head())\n",
    "display(targets.info)\n",
    "targets.dropna(inplace=True)\n",
    "display(targets.info)\n",
    "\n",
    "targets = pa.Table.from_pandas(targets)\n",
    "display(pd.DataFrame([(z.name, z.type) for z in targets.schema], columns = [['field', 'type']]))"
   ]
  },
  {
   "cell_type": "code",
   "execution_count": 6,
   "id": "bb802c60",
   "metadata": {
    "execution": {
     "iopub.execute_input": "2023-03-27T16:38:32.824541Z",
     "iopub.status.busy": "2023-03-27T16:38:32.824119Z",
     "iopub.status.idle": "2023-03-27T16:40:31.606317Z",
     "shell.execute_reply": "2023-03-27T16:40:31.604399Z"
    },
    "papermill": {
     "duration": 118.812798,
     "end_time": "2023-03-27T16:40:31.625940",
     "exception": false,
     "start_time": "2023-03-27T16:38:32.813142",
     "status": "completed"
    },
    "tags": []
   },
   "outputs": [
    {
     "data": {
      "text/html": [
       "<div>\n",
       "<style scoped>\n",
       "    .dataframe tbody tr th:only-of-type {\n",
       "        vertical-align: middle;\n",
       "    }\n",
       "\n",
       "    .dataframe tbody tr th {\n",
       "        vertical-align: top;\n",
       "    }\n",
       "\n",
       "    .dataframe thead th {\n",
       "        text-align: right;\n",
       "    }\n",
       "</style>\n",
       "<table border=\"1\" class=\"dataframe\">\n",
       "  <thead>\n",
       "    <tr style=\"text-align: right;\">\n",
       "      <th></th>\n",
       "      <th>region_name</th>\n",
       "      <th>city_name</th>\n",
       "      <th>cpe_manufacturer_name</th>\n",
       "      <th>cpe_model_name</th>\n",
       "      <th>url_host</th>\n",
       "      <th>cpe_type_cd</th>\n",
       "      <th>cpe_model_os_type</th>\n",
       "      <th>price</th>\n",
       "      <th>date</th>\n",
       "      <th>part_of_day</th>\n",
       "      <th>request_cnt</th>\n",
       "      <th>user_id</th>\n",
       "    </tr>\n",
       "  </thead>\n",
       "  <tbody>\n",
       "    <tr>\n",
       "      <th>0</th>\n",
       "      <td>Краснодарский край</td>\n",
       "      <td>Краснодар</td>\n",
       "      <td>Apple</td>\n",
       "      <td>iPhone 7</td>\n",
       "      <td>ad.adriver.ru</td>\n",
       "      <td>smartphone</td>\n",
       "      <td>iOS</td>\n",
       "      <td>20368.0</td>\n",
       "      <td>2022-06-15</td>\n",
       "      <td>morning</td>\n",
       "      <td>1</td>\n",
       "      <td>45098</td>\n",
       "    </tr>\n",
       "    <tr>\n",
       "      <th>1</th>\n",
       "      <td>Краснодарский край</td>\n",
       "      <td>Краснодар</td>\n",
       "      <td>Apple</td>\n",
       "      <td>iPhone 7</td>\n",
       "      <td>apple.com</td>\n",
       "      <td>smartphone</td>\n",
       "      <td>iOS</td>\n",
       "      <td>20368.0</td>\n",
       "      <td>2022-06-19</td>\n",
       "      <td>morning</td>\n",
       "      <td>1</td>\n",
       "      <td>45098</td>\n",
       "    </tr>\n",
       "    <tr>\n",
       "      <th>2</th>\n",
       "      <td>Краснодарский край</td>\n",
       "      <td>Краснодар</td>\n",
       "      <td>Apple</td>\n",
       "      <td>iPhone 7</td>\n",
       "      <td>avatars.mds.yandex.net</td>\n",
       "      <td>smartphone</td>\n",
       "      <td>iOS</td>\n",
       "      <td>20368.0</td>\n",
       "      <td>2022-06-12</td>\n",
       "      <td>day</td>\n",
       "      <td>1</td>\n",
       "      <td>45098</td>\n",
       "    </tr>\n",
       "    <tr>\n",
       "      <th>3</th>\n",
       "      <td>Краснодарский край</td>\n",
       "      <td>Краснодар</td>\n",
       "      <td>Apple</td>\n",
       "      <td>iPhone 7</td>\n",
       "      <td>googleads.g.doubleclick.net</td>\n",
       "      <td>smartphone</td>\n",
       "      <td>iOS</td>\n",
       "      <td>20368.0</td>\n",
       "      <td>2022-05-16</td>\n",
       "      <td>day</td>\n",
       "      <td>1</td>\n",
       "      <td>45098</td>\n",
       "    </tr>\n",
       "    <tr>\n",
       "      <th>4</th>\n",
       "      <td>Краснодарский край</td>\n",
       "      <td>Краснодар</td>\n",
       "      <td>Apple</td>\n",
       "      <td>iPhone 7</td>\n",
       "      <td>googleads.g.doubleclick.net</td>\n",
       "      <td>smartphone</td>\n",
       "      <td>iOS</td>\n",
       "      <td>20368.0</td>\n",
       "      <td>2022-05-30</td>\n",
       "      <td>day</td>\n",
       "      <td>1</td>\n",
       "      <td>45098</td>\n",
       "    </tr>\n",
       "  </tbody>\n",
       "</table>\n",
       "</div>"
      ],
      "text/plain": [
       "          region_name  city_name cpe_manufacturer_name cpe_model_name  \\\n",
       "0  Краснодарский край  Краснодар                 Apple       iPhone 7   \n",
       "1  Краснодарский край  Краснодар                 Apple       iPhone 7   \n",
       "2  Краснодарский край  Краснодар                 Apple       iPhone 7   \n",
       "3  Краснодарский край  Краснодар                 Apple       iPhone 7   \n",
       "4  Краснодарский край  Краснодар                 Apple       iPhone 7   \n",
       "\n",
       "                      url_host cpe_type_cd cpe_model_os_type    price  \\\n",
       "0                ad.adriver.ru  smartphone               iOS  20368.0   \n",
       "1                    apple.com  smartphone               iOS  20368.0   \n",
       "2       avatars.mds.yandex.net  smartphone               iOS  20368.0   \n",
       "3  googleads.g.doubleclick.net  smartphone               iOS  20368.0   \n",
       "4  googleads.g.doubleclick.net  smartphone               iOS  20368.0   \n",
       "\n",
       "        date part_of_day  request_cnt  user_id  \n",
       "0 2022-06-15     morning            1    45098  \n",
       "1 2022-06-19     morning            1    45098  \n",
       "2 2022-06-12         day            1    45098  \n",
       "3 2022-05-16         day            1    45098  \n",
       "4 2022-05-30         day            1    45098  "
      ]
     },
     "metadata": {},
     "output_type": "display_data"
    },
    {
     "data": {
      "text/plain": [
       "<bound method DataFrame.info of                   region_name  city_name cpe_manufacturer_name  \\\n",
       "0          Краснодарский край  Краснодар                 Apple   \n",
       "1          Краснодарский край  Краснодар                 Apple   \n",
       "2          Краснодарский край  Краснодар                 Apple   \n",
       "3          Краснодарский край  Краснодар                 Apple   \n",
       "4          Краснодарский край  Краснодар                 Apple   \n",
       "...                       ...        ...                   ...   \n",
       "322899430   Калужская область    Обнинск               Samsung   \n",
       "322899431   Калужская область    Обнинск               Samsung   \n",
       "322899432   Калужская область    Обнинск               Samsung   \n",
       "322899433   Калужская область    Обнинск               Samsung   \n",
       "322899434   Калужская область    Обнинск               Samsung   \n",
       "\n",
       "             cpe_model_name                     url_host cpe_type_cd  \\\n",
       "0                  iPhone 7                ad.adriver.ru  smartphone   \n",
       "1                  iPhone 7                    apple.com  smartphone   \n",
       "2                  iPhone 7       avatars.mds.yandex.net  smartphone   \n",
       "3                  iPhone 7  googleads.g.doubleclick.net  smartphone   \n",
       "4                  iPhone 7  googleads.g.doubleclick.net  smartphone   \n",
       "...                     ...                          ...         ...   \n",
       "322899430  Galaxy A30s Dual       avatars.mds.yandex.net  smartphone   \n",
       "322899431  Galaxy A30s Dual  googleads.g.doubleclick.net  smartphone   \n",
       "322899432  Galaxy A30s Dual           online.sberbank.ru  smartphone   \n",
       "322899433  Galaxy A30s Dual                  s0.2mdn.net  smartphone   \n",
       "322899434  Galaxy A30s Dual                zen.yandex.ru  smartphone   \n",
       "\n",
       "          cpe_model_os_type    price       date part_of_day  request_cnt  \\\n",
       "0                       iOS  20368.0 2022-06-15     morning            1   \n",
       "1                       iOS  20368.0 2022-06-19     morning            1   \n",
       "2                       iOS  20368.0 2022-06-12         day            1   \n",
       "3                       iOS  20368.0 2022-05-16         day            1   \n",
       "4                       iOS  20368.0 2022-05-30         day            1   \n",
       "...                     ...      ...        ...         ...          ...   \n",
       "322899430           Android  16376.0 2021-07-12     morning            1   \n",
       "322899431           Android  16376.0 2021-06-20     evening            1   \n",
       "322899432           Android  16376.0 2021-08-05         day            1   \n",
       "322899433           Android  16376.0 2021-07-19     evening            1   \n",
       "322899434           Android  16376.0 2021-08-09       night            1   \n",
       "\n",
       "           user_id  \n",
       "0            45098  \n",
       "1            45098  \n",
       "2            45098  \n",
       "3            45098  \n",
       "4            45098  \n",
       "...            ...  \n",
       "322899430   300964  \n",
       "322899431   300964  \n",
       "322899432   300964  \n",
       "322899433   300964  \n",
       "322899434   300964  \n",
       "\n",
       "[322899435 rows x 12 columns]>"
      ]
     },
     "metadata": {},
     "output_type": "display_data"
    },
    {
     "data": {
      "text/plain": [
       "<bound method DataFrame.info of                   region_name  city_name cpe_manufacturer_name  \\\n",
       "0          Краснодарский край  Краснодар                 Apple   \n",
       "1          Краснодарский край  Краснодар                 Apple   \n",
       "2          Краснодарский край  Краснодар                 Apple   \n",
       "3          Краснодарский край  Краснодар                 Apple   \n",
       "4          Краснодарский край  Краснодар                 Apple   \n",
       "...                       ...        ...                   ...   \n",
       "322899430   Калужская область    Обнинск               Samsung   \n",
       "322899431   Калужская область    Обнинск               Samsung   \n",
       "322899432   Калужская область    Обнинск               Samsung   \n",
       "322899433   Калужская область    Обнинск               Samsung   \n",
       "322899434   Калужская область    Обнинск               Samsung   \n",
       "\n",
       "             cpe_model_name                     url_host cpe_type_cd  \\\n",
       "0                  iPhone 7                ad.adriver.ru  smartphone   \n",
       "1                  iPhone 7                    apple.com  smartphone   \n",
       "2                  iPhone 7       avatars.mds.yandex.net  smartphone   \n",
       "3                  iPhone 7  googleads.g.doubleclick.net  smartphone   \n",
       "4                  iPhone 7  googleads.g.doubleclick.net  smartphone   \n",
       "...                     ...                          ...         ...   \n",
       "322899430  Galaxy A30s Dual       avatars.mds.yandex.net  smartphone   \n",
       "322899431  Galaxy A30s Dual  googleads.g.doubleclick.net  smartphone   \n",
       "322899432  Galaxy A30s Dual           online.sberbank.ru  smartphone   \n",
       "322899433  Galaxy A30s Dual                  s0.2mdn.net  smartphone   \n",
       "322899434  Galaxy A30s Dual                zen.yandex.ru  smartphone   \n",
       "\n",
       "          cpe_model_os_type    price       date part_of_day  request_cnt  \\\n",
       "0                       iOS  20368.0 2022-06-15     morning            1   \n",
       "1                       iOS  20368.0 2022-06-19     morning            1   \n",
       "2                       iOS  20368.0 2022-06-12         day            1   \n",
       "3                       iOS  20368.0 2022-05-16         day            1   \n",
       "4                       iOS  20368.0 2022-05-30         day            1   \n",
       "...                     ...      ...        ...         ...          ...   \n",
       "322899430           Android  16376.0 2021-07-12     morning            1   \n",
       "322899431           Android  16376.0 2021-06-20     evening            1   \n",
       "322899432           Android  16376.0 2021-08-05         day            1   \n",
       "322899433           Android  16376.0 2021-07-19     evening            1   \n",
       "322899434           Android  16376.0 2021-08-09       night            1   \n",
       "\n",
       "           user_id  \n",
       "0            45098  \n",
       "1            45098  \n",
       "2            45098  \n",
       "3            45098  \n",
       "4            45098  \n",
       "...            ...  \n",
       "322899430   300964  \n",
       "322899431   300964  \n",
       "322899432   300964  \n",
       "322899433   300964  \n",
       "322899434   300964  \n",
       "\n",
       "[316309953 rows x 12 columns]>"
      ]
     },
     "metadata": {},
     "output_type": "display_data"
    }
   ],
   "source": [
    "data = pd.read_feather(Path(LOCAL_DATA_PATH, DATA_FILE))\n",
    "display(data.head())\n",
    "\n",
    "display(data.info)\n",
    "data.dropna(inplace=True)\n",
    "display(data.info)"
   ]
  },
  {
   "cell_type": "code",
   "execution_count": 7,
   "id": "2c353aac",
   "metadata": {
    "execution": {
     "iopub.execute_input": "2023-03-27T16:40:31.675319Z",
     "iopub.status.busy": "2023-03-27T16:40:31.674631Z",
     "iopub.status.idle": "2023-03-27T16:40:31.701812Z",
     "shell.execute_reply": "2023-03-27T16:40:31.700435Z"
    },
    "papermill": {
     "duration": 0.056052,
     "end_time": "2023-03-27T16:40:31.705148",
     "exception": false,
     "start_time": "2023-03-27T16:40:31.649096",
     "status": "completed"
    },
    "tags": []
   },
   "outputs": [
    {
     "data": {
      "text/plain": [
       "'\\nfor column in data.columns:\\n    sns.histplot(data[column].value_counts(), bins=4)\\n    plt.show()\\n'"
      ]
     },
     "execution_count": 7,
     "metadata": {},
     "output_type": "execute_result"
    }
   ],
   "source": [
    "'''\n",
    "for column in data.columns:\n",
    "    sns.histplot(data[column].value_counts(), bins=4)\n",
    "    plt.show()\n",
    "'''"
   ]
  },
  {
   "cell_type": "code",
   "execution_count": 8,
   "id": "61207228",
   "metadata": {
    "execution": {
     "iopub.execute_input": "2023-03-27T16:40:31.727332Z",
     "iopub.status.busy": "2023-03-27T16:40:31.726841Z",
     "iopub.status.idle": "2023-03-27T16:40:42.904116Z",
     "shell.execute_reply": "2023-03-27T16:40:42.902685Z"
    },
    "papermill": {
     "duration": 11.191756,
     "end_time": "2023-03-27T16:40:42.906945",
     "exception": false,
     "start_time": "2023-03-27T16:40:31.715189",
     "status": "completed"
    },
    "tags": []
   },
   "outputs": [
    {
     "data": {
      "text/html": [
       "<div>\n",
       "<style scoped>\n",
       "    .dataframe tbody tr th:only-of-type {\n",
       "        vertical-align: middle;\n",
       "    }\n",
       "\n",
       "    .dataframe tbody tr th {\n",
       "        vertical-align: top;\n",
       "    }\n",
       "\n",
       "    .dataframe thead th {\n",
       "        text-align: right;\n",
       "    }\n",
       "</style>\n",
       "<table border=\"1\" class=\"dataframe\">\n",
       "  <thead>\n",
       "    <tr style=\"text-align: right;\">\n",
       "      <th></th>\n",
       "      <th>region_name</th>\n",
       "      <th>city_name</th>\n",
       "      <th>cpe_manufacturer_name</th>\n",
       "      <th>cpe_model_name</th>\n",
       "      <th>url_host</th>\n",
       "      <th>cpe_type_cd</th>\n",
       "      <th>cpe_model_os_type</th>\n",
       "      <th>price</th>\n",
       "      <th>date</th>\n",
       "      <th>part_of_day</th>\n",
       "      <th>request_cnt</th>\n",
       "      <th>user_id</th>\n",
       "    </tr>\n",
       "  </thead>\n",
       "  <tbody>\n",
       "    <tr>\n",
       "      <th>0</th>\n",
       "      <td>21</td>\n",
       "      <td>409</td>\n",
       "      <td>1</td>\n",
       "      <td>589</td>\n",
       "      <td>5788</td>\n",
       "      <td>2</td>\n",
       "      <td>2</td>\n",
       "      <td>20368.0</td>\n",
       "      <td>2022-06-15</td>\n",
       "      <td>2</td>\n",
       "      <td>1</td>\n",
       "      <td>45098</td>\n",
       "    </tr>\n",
       "    <tr>\n",
       "      <th>1</th>\n",
       "      <td>21</td>\n",
       "      <td>409</td>\n",
       "      <td>1</td>\n",
       "      <td>589</td>\n",
       "      <td>12900</td>\n",
       "      <td>2</td>\n",
       "      <td>2</td>\n",
       "      <td>20368.0</td>\n",
       "      <td>2022-06-19</td>\n",
       "      <td>2</td>\n",
       "      <td>1</td>\n",
       "      <td>45098</td>\n",
       "    </tr>\n",
       "    <tr>\n",
       "      <th>2</th>\n",
       "      <td>21</td>\n",
       "      <td>409</td>\n",
       "      <td>1</td>\n",
       "      <td>589</td>\n",
       "      <td>17626</td>\n",
       "      <td>2</td>\n",
       "      <td>2</td>\n",
       "      <td>20368.0</td>\n",
       "      <td>2022-06-12</td>\n",
       "      <td>0</td>\n",
       "      <td>1</td>\n",
       "      <td>45098</td>\n",
       "    </tr>\n",
       "    <tr>\n",
       "      <th>3</th>\n",
       "      <td>21</td>\n",
       "      <td>409</td>\n",
       "      <td>1</td>\n",
       "      <td>589</td>\n",
       "      <td>59366</td>\n",
       "      <td>2</td>\n",
       "      <td>2</td>\n",
       "      <td>20368.0</td>\n",
       "      <td>2022-05-16</td>\n",
       "      <td>0</td>\n",
       "      <td>1</td>\n",
       "      <td>45098</td>\n",
       "    </tr>\n",
       "    <tr>\n",
       "      <th>4</th>\n",
       "      <td>21</td>\n",
       "      <td>409</td>\n",
       "      <td>1</td>\n",
       "      <td>589</td>\n",
       "      <td>59366</td>\n",
       "      <td>2</td>\n",
       "      <td>2</td>\n",
       "      <td>20368.0</td>\n",
       "      <td>2022-05-30</td>\n",
       "      <td>0</td>\n",
       "      <td>1</td>\n",
       "      <td>45098</td>\n",
       "    </tr>\n",
       "  </tbody>\n",
       "</table>\n",
       "</div>"
      ],
      "text/plain": [
       "   region_name  city_name  cpe_manufacturer_name  cpe_model_name  url_host  \\\n",
       "0           21        409                      1             589      5788   \n",
       "1           21        409                      1             589     12900   \n",
       "2           21        409                      1             589     17626   \n",
       "3           21        409                      1             589     59366   \n",
       "4           21        409                      1             589     59366   \n",
       "\n",
       "   cpe_type_cd  cpe_model_os_type    price       date  part_of_day  \\\n",
       "0            2                  2  20368.0 2022-06-15            2   \n",
       "1            2                  2  20368.0 2022-06-19            2   \n",
       "2            2                  2  20368.0 2022-06-12            0   \n",
       "3            2                  2  20368.0 2022-05-16            0   \n",
       "4            2                  2  20368.0 2022-05-30            0   \n",
       "\n",
       "   request_cnt  user_id  \n",
       "0            1    45098  \n",
       "1            1    45098  \n",
       "2            1    45098  \n",
       "3            1    45098  \n",
       "4            1    45098  "
      ]
     },
     "execution_count": 8,
     "metadata": {},
     "output_type": "execute_result"
    }
   ],
   "source": [
    "for column in data.columns:\n",
    "    if column not in (\"date\", \"price\", \"user_id\", \"request_cnt\"):\n",
    "        data[column] = data[column].cat.codes\n",
    "    elif column == \"date\":\n",
    "        data[\"date\"] = pd.to_datetime(data[\"date\"])\n",
    "\n",
    "data.head()"
   ]
  },
  {
   "cell_type": "code",
   "execution_count": 9,
   "id": "6f9d7426",
   "metadata": {
    "execution": {
     "iopub.execute_input": "2023-03-27T16:40:42.929766Z",
     "iopub.status.busy": "2023-03-27T16:40:42.929293Z",
     "iopub.status.idle": "2023-03-27T16:40:55.480203Z",
     "shell.execute_reply": "2023-03-27T16:40:55.478256Z"
    },
    "papermill": {
     "duration": 12.56593,
     "end_time": "2023-03-27T16:40:55.483176",
     "exception": false,
     "start_time": "2023-03-27T16:40:42.917246",
     "status": "completed"
    },
    "tags": []
   },
   "outputs": [
    {
     "data": {
      "text/plain": [
       "2    316272363\n",
       "1        36078\n",
       "3         1512\n",
       "Name: cpe_type_cd, dtype: int64"
      ]
     },
     "metadata": {},
     "output_type": "display_data"
    },
    {
     "data": {
      "text/html": [
       "<div><style>\n",
       ".dataframe > thead > tr > th,\n",
       ".dataframe > tbody > tr > td {\n",
       "  text-align: right;\n",
       "}\n",
       "</style>\n",
       "<small>shape: (3, 2)</small><table border=\"1\" class=\"dataframe\"><thead><tr><th>cpe_type_cd</th><th>counts</th></tr><tr><td>i8</td><td>u32</td></tr></thead><tbody><tr><td>3</td><td>1512</td></tr><tr><td>2</td><td>316272363</td></tr><tr><td>1</td><td>36078</td></tr></tbody></table></div>"
      ],
      "text/plain": [
       "shape: (3, 2)\n",
       "┌─────────────┬───────────┐\n",
       "│ cpe_type_cd ┆ counts    │\n",
       "│ ---         ┆ ---       │\n",
       "│ i8          ┆ u32       │\n",
       "╞═════════════╪═══════════╡\n",
       "│ 3           ┆ 1512      │\n",
       "│ 2           ┆ 316272363 │\n",
       "│ 1           ┆ 36078     │\n",
       "└─────────────┴───────────┘"
      ]
     },
     "execution_count": 9,
     "metadata": {},
     "output_type": "execute_result"
    }
   ],
   "source": [
    "data = pl.from_pandas(data)\n",
    "display(data.select(['cpe_type_cd']).to_pandas()['cpe_type_cd'].value_counts())\n",
    "data['cpe_type_cd'].value_counts()"
   ]
  },
  {
   "cell_type": "markdown",
   "id": "2c8c825e",
   "metadata": {
    "papermill": {
     "duration": 0.010176,
     "end_time": "2023-03-27T16:40:55.504367",
     "exception": false,
     "start_time": "2023-03-27T16:40:55.494191",
     "status": "completed"
    },
    "tags": []
   },
   "source": [
    "## Counting users <-> items embedding"
   ]
  },
  {
   "cell_type": "code",
   "execution_count": 10,
   "id": "18e21097",
   "metadata": {
    "execution": {
     "iopub.execute_input": "2023-03-27T16:40:55.527640Z",
     "iopub.status.busy": "2023-03-27T16:40:55.527147Z",
     "iopub.status.idle": "2023-03-27T16:41:52.820932Z",
     "shell.execute_reply": "2023-03-27T16:41:52.818370Z"
    },
    "papermill": {
     "duration": 57.309636,
     "end_time": "2023-03-27T16:41:52.824678",
     "exception": false,
     "start_time": "2023-03-27T16:40:55.515042",
     "status": "completed"
    },
    "tags": []
   },
   "outputs": [
    {
     "name": "stdout",
     "output_type": "stream",
     "text": [
      "198032 urls\n",
      "404614 users\n",
      "CPU times: user 1min 41s, sys: 26.1 s, total: 2min 7s\n",
      "Wall time: 57.3 s\n"
     ]
    }
   ],
   "source": [
    "%%time\n",
    "if IS_EMBEDDING_USED:\n",
    "    data_agg = data.groupby(['user_id', 'url_host'], maintain_order=True).agg(\n",
    "        pl.sum(\"request_cnt\")\n",
    "    )\n",
    "    url_set = set(data_agg.select(['url_host']).to_pandas()['url_host'])\n",
    "    print(f'{len(url_set)} urls')\n",
    "    url_dict = {url: idurl for url, idurl in zip(url_set, range(len(url_set)))}\n",
    "    usr_set = set(data_agg.select(['user_id']).to_pandas()['user_id'])\n",
    "    print(f'{len(usr_set)} users')\n",
    "    usr_dict = {usr: user_id for usr, user_id in zip(usr_set, range(len(usr_set)))}"
   ]
  },
  {
   "cell_type": "code",
   "execution_count": 11,
   "id": "88aa52d7",
   "metadata": {
    "execution": {
     "iopub.execute_input": "2023-03-27T16:41:52.848960Z",
     "iopub.status.busy": "2023-03-27T16:41:52.848440Z",
     "iopub.status.idle": "2023-03-27T16:41:55.810746Z",
     "shell.execute_reply": "2023-03-27T16:41:55.808981Z"
    },
    "papermill": {
     "duration": 2.978743,
     "end_time": "2023-03-27T16:41:55.814129",
     "exception": false,
     "start_time": "2023-03-27T16:41:52.835386",
     "status": "completed"
    },
    "tags": []
   },
   "outputs": [
    {
     "name": "stdout",
     "output_type": "stream",
     "text": [
      "CPU times: user 2.17 s, sys: 793 ms, total: 2.96 s\n",
      "Wall time: 2.95 s\n"
     ]
    }
   ],
   "source": [
    "%%time\n",
    "if IS_EMBEDDING_USED:\n",
    "    values = np.array(data_agg['request_cnt'].to_pandas())\n",
    "    rows = np.array(data_agg['user_id'].to_pandas().map(usr_dict))\n",
    "    cols = np.array(data_agg['url_host'].to_pandas().map(url_dict))\n",
    "    mat = scipy.sparse.coo_matrix((values, (rows, cols)), shape=(rows.max() + 1, cols.max() + 1))\n",
    "    als = implicit.approximate_als.FaissAlternatingLeastSquares(\n",
    "        factors = FACTORS, iterations = FAISS_ITERATIONS, use_gpu = IS_GPU_USED, calculate_training_loss = True, regularization = 0.1\n",
    "    )"
   ]
  },
  {
   "cell_type": "code",
   "execution_count": 12,
   "id": "be411554",
   "metadata": {
    "execution": {
     "iopub.execute_input": "2023-03-27T16:41:55.838803Z",
     "iopub.status.busy": "2023-03-27T16:41:55.838272Z",
     "iopub.status.idle": "2023-03-27T16:46:15.351219Z",
     "shell.execute_reply": "2023-03-27T16:46:15.349642Z"
    },
    "papermill": {
     "duration": 259.529124,
     "end_time": "2023-03-27T16:46:15.354327",
     "exception": false,
     "start_time": "2023-03-27T16:41:55.825203",
     "status": "completed"
    },
    "tags": []
   },
   "outputs": [
    {
     "data": {
      "application/vnd.jupyter.widget-view+json": {
       "model_id": "42ab3eea87fc417abecc958727040dfa",
       "version_major": 2,
       "version_minor": 0
      },
      "text/plain": [
       "  0%|          | 0/10 [00:00<?, ?it/s]"
      ]
     },
     "metadata": {},
     "output_type": "display_data"
    },
    {
     "name": "stdout",
     "output_type": "stream",
     "text": [
      "CPU times: user 10min 55s, sys: 5min 58s, total: 16min 54s\n",
      "Wall time: 4min 19s\n"
     ]
    }
   ],
   "source": [
    "%%time\n",
    "if IS_EMBEDDING_USED:\n",
    "    als.fit(mat)"
   ]
  },
  {
   "cell_type": "code",
   "execution_count": 13,
   "id": "fecbf835",
   "metadata": {
    "execution": {
     "iopub.execute_input": "2023-03-27T16:46:15.381774Z",
     "iopub.status.busy": "2023-03-27T16:46:15.381302Z",
     "iopub.status.idle": "2023-03-27T16:46:15.387579Z",
     "shell.execute_reply": "2023-03-27T16:46:15.386302Z"
    },
    "papermill": {
     "duration": 0.023127,
     "end_time": "2023-03-27T16:46:15.391094",
     "exception": false,
     "start_time": "2023-03-27T16:46:15.367967",
     "status": "completed"
    },
    "tags": []
   },
   "outputs": [
    {
     "name": "stdout",
     "output_type": "stream",
     "text": [
      "198032\n"
     ]
    }
   ],
   "source": [
    "if IS_EMBEDDING_USED:\n",
    "    u_factors = als.user_factors \n",
    "    print(len(u_factors))"
   ]
  },
  {
   "cell_type": "code",
   "execution_count": 14,
   "id": "ee03aaae",
   "metadata": {
    "execution": {
     "iopub.execute_input": "2023-03-27T16:46:15.415539Z",
     "iopub.status.busy": "2023-03-27T16:46:15.415098Z",
     "iopub.status.idle": "2023-03-27T16:46:15.421242Z",
     "shell.execute_reply": "2023-03-27T16:46:15.419987Z"
    },
    "papermill": {
     "duration": 0.022427,
     "end_time": "2023-03-27T16:46:15.424804",
     "exception": false,
     "start_time": "2023-03-27T16:46:15.402377",
     "status": "completed"
    },
    "tags": []
   },
   "outputs": [
    {
     "name": "stdout",
     "output_type": "stream",
     "text": [
      "404614\n"
     ]
    }
   ],
   "source": [
    "if IS_EMBEDDING_USED:\n",
    "    d_factors = als.item_factors\n",
    "    print(len(d_factors))"
   ]
  },
  {
   "cell_type": "markdown",
   "id": "26f1a541",
   "metadata": {
    "papermill": {
     "duration": 0.011027,
     "end_time": "2023-03-27T16:46:15.447220",
     "exception": false,
     "start_time": "2023-03-27T16:46:15.436193",
     "status": "completed"
    },
    "tags": []
   },
   "source": [
    "## Sex prediction"
   ]
  },
  {
   "cell_type": "code",
   "execution_count": 15,
   "id": "af2c12c0",
   "metadata": {
    "execution": {
     "iopub.execute_input": "2023-03-27T16:46:15.471551Z",
     "iopub.status.busy": "2023-03-27T16:46:15.471112Z",
     "iopub.status.idle": "2023-03-27T16:46:17.540111Z",
     "shell.execute_reply": "2023-03-27T16:46:17.538737Z"
    },
    "papermill": {
     "duration": 2.084427,
     "end_time": "2023-03-27T16:46:17.542881",
     "exception": false,
     "start_time": "2023-03-27T16:46:15.458454",
     "status": "completed"
    },
    "scrolled": true,
    "tags": []
   },
   "outputs": [
    {
     "data": {
      "text/plain": [
       "<bound method DataFrame.info of          age is_male  user_id         0         1         2         3  \\\n",
       "0       31.0       1   350459 -0.041562 -0.011178 -0.011656  0.087850   \n",
       "1       35.0       1   188276  0.034047 -0.050921  0.046756  0.114737   \n",
       "2       41.0       0    99002  0.008907 -0.036523 -0.009585 -0.029234   \n",
       "3       33.0       0   155506 -0.014308 -0.044123  0.038922  0.067348   \n",
       "4       54.0       0   213873 -0.000697 -0.008681  0.007356  0.013507   \n",
       "...      ...     ...      ...       ...       ...       ...       ...   \n",
       "256749  50.0       1   176446  0.021124  0.002352  0.052535 -0.037946   \n",
       "256750  49.0       1   225374  0.137898 -0.012216  0.061525  0.004392   \n",
       "256751  28.0       0   148131 -0.034276 -0.047130  0.038980  0.072313   \n",
       "256752  28.0       1   205570 -0.054794 -0.011331 -0.022709  0.046418   \n",
       "256753  68.0       1   103148  0.016775 -0.046898 -0.031462  0.059889   \n",
       "\n",
       "               4         5         6         7         8         9  \\\n",
       "0       0.059249 -0.010939  0.015674 -0.001987 -0.024404 -0.012899   \n",
       "1       0.069693 -0.051150  0.004264 -0.042289 -0.038273 -0.044078   \n",
       "2       0.040251  0.007527  0.001558  0.015669  0.038165  0.014630   \n",
       "3       0.074553 -0.013014 -0.003994  0.012429 -0.060842 -0.017467   \n",
       "4       0.013946 -0.003085 -0.001396  0.001843 -0.011137 -0.004560   \n",
       "...          ...       ...       ...       ...       ...       ...   \n",
       "256749 -0.062130  0.127181  0.001298  0.008843 -0.034230 -0.023571   \n",
       "256750 -0.019649  0.079382 -0.054472 -0.078374 -0.002545 -0.064531   \n",
       "256751  0.084148 -0.008895  0.006803  0.013068 -0.068573 -0.005307   \n",
       "256752  0.036372  0.024868  0.031521 -0.004456  0.007305 -0.001268   \n",
       "256753 -0.042320  0.042966  0.045906  0.010333  0.035279 -0.038500   \n",
       "\n",
       "        cpe_model_name  \n",
       "0                  589  \n",
       "1                  589  \n",
       "2                  589  \n",
       "3                  589  \n",
       "4                  589  \n",
       "...                ...  \n",
       "256749             123  \n",
       "256750             123  \n",
       "256751             123  \n",
       "256752             123  \n",
       "256753             123  \n",
       "\n",
       "[256754 rows x 14 columns]>"
      ]
     },
     "metadata": {},
     "output_type": "display_data"
    },
    {
     "data": {
      "text/plain": [
       "<bound method DataFrame.info of          age is_male  user_id         0         1         2         3  \\\n",
       "0       31.0       1   350459 -0.041562 -0.011178 -0.011656  0.087850   \n",
       "1       35.0       1   188276  0.034047 -0.050921  0.046756  0.114737   \n",
       "2       41.0       0    99002  0.008907 -0.036523 -0.009585 -0.029234   \n",
       "3       33.0       0   155506 -0.014308 -0.044123  0.038922  0.067348   \n",
       "4       54.0       0   213873 -0.000697 -0.008681  0.007356  0.013507   \n",
       "...      ...     ...      ...       ...       ...       ...       ...   \n",
       "256749  50.0       1   176446  0.021124  0.002352  0.052535 -0.037946   \n",
       "256750  49.0       1   225374  0.137898 -0.012216  0.061525  0.004392   \n",
       "256751  28.0       0   148131 -0.034276 -0.047130  0.038980  0.072313   \n",
       "256752  28.0       1   205570 -0.054794 -0.011331 -0.022709  0.046418   \n",
       "256753  68.0       1   103148  0.016775 -0.046898 -0.031462  0.059889   \n",
       "\n",
       "               4         5         6         7         8         9  \\\n",
       "0       0.059249 -0.010939  0.015674 -0.001987 -0.024404 -0.012899   \n",
       "1       0.069693 -0.051150  0.004264 -0.042289 -0.038273 -0.044078   \n",
       "2       0.040251  0.007527  0.001558  0.015669  0.038165  0.014630   \n",
       "3       0.074553 -0.013014 -0.003994  0.012429 -0.060842 -0.017467   \n",
       "4       0.013946 -0.003085 -0.001396  0.001843 -0.011137 -0.004560   \n",
       "...          ...       ...       ...       ...       ...       ...   \n",
       "256749 -0.062130  0.127181  0.001298  0.008843 -0.034230 -0.023571   \n",
       "256750 -0.019649  0.079382 -0.054472 -0.078374 -0.002545 -0.064531   \n",
       "256751  0.084148 -0.008895  0.006803  0.013068 -0.068573 -0.005307   \n",
       "256752  0.036372  0.024868  0.031521 -0.004456  0.007305 -0.001268   \n",
       "256753 -0.042320  0.042966  0.045906  0.010333  0.035279 -0.038500   \n",
       "\n",
       "        cpe_model_name  \n",
       "0                  589  \n",
       "1                  589  \n",
       "2                  589  \n",
       "3                  589  \n",
       "4                  589  \n",
       "...                ...  \n",
       "256749             123  \n",
       "256750             123  \n",
       "256751             123  \n",
       "256752             123  \n",
       "256753             123  \n",
       "\n",
       "[256754 rows x 14 columns]>"
      ]
     },
     "metadata": {},
     "output_type": "display_data"
    },
    {
     "name": "stdout",
     "output_type": "stream",
     "text": [
      "1    130899\n",
      "0    125855\n",
      "Name: is_male, dtype: int64\n"
     ]
    },
    {
     "data": {
      "text/html": [
       "<div>\n",
       "<style scoped>\n",
       "    .dataframe tbody tr th:only-of-type {\n",
       "        vertical-align: middle;\n",
       "    }\n",
       "\n",
       "    .dataframe tbody tr th {\n",
       "        vertical-align: top;\n",
       "    }\n",
       "\n",
       "    .dataframe thead th {\n",
       "        text-align: right;\n",
       "    }\n",
       "</style>\n",
       "<table border=\"1\" class=\"dataframe\">\n",
       "  <thead>\n",
       "    <tr style=\"text-align: right;\">\n",
       "      <th></th>\n",
       "      <th>age</th>\n",
       "      <th>is_male</th>\n",
       "      <th>user_id</th>\n",
       "      <th>0</th>\n",
       "      <th>1</th>\n",
       "      <th>2</th>\n",
       "      <th>3</th>\n",
       "      <th>4</th>\n",
       "      <th>5</th>\n",
       "      <th>6</th>\n",
       "      <th>7</th>\n",
       "      <th>8</th>\n",
       "      <th>9</th>\n",
       "      <th>cpe_model_name</th>\n",
       "    </tr>\n",
       "  </thead>\n",
       "  <tbody>\n",
       "    <tr>\n",
       "      <th>0</th>\n",
       "      <td>31.0</td>\n",
       "      <td>1</td>\n",
       "      <td>350459</td>\n",
       "      <td>-0.041562</td>\n",
       "      <td>-0.011178</td>\n",
       "      <td>-0.011656</td>\n",
       "      <td>0.087850</td>\n",
       "      <td>0.059249</td>\n",
       "      <td>-0.010939</td>\n",
       "      <td>0.015674</td>\n",
       "      <td>-0.001987</td>\n",
       "      <td>-0.024404</td>\n",
       "      <td>-0.012899</td>\n",
       "      <td>589</td>\n",
       "    </tr>\n",
       "    <tr>\n",
       "      <th>1</th>\n",
       "      <td>35.0</td>\n",
       "      <td>1</td>\n",
       "      <td>188276</td>\n",
       "      <td>0.034047</td>\n",
       "      <td>-0.050921</td>\n",
       "      <td>0.046756</td>\n",
       "      <td>0.114737</td>\n",
       "      <td>0.069693</td>\n",
       "      <td>-0.051150</td>\n",
       "      <td>0.004264</td>\n",
       "      <td>-0.042289</td>\n",
       "      <td>-0.038273</td>\n",
       "      <td>-0.044078</td>\n",
       "      <td>589</td>\n",
       "    </tr>\n",
       "    <tr>\n",
       "      <th>2</th>\n",
       "      <td>41.0</td>\n",
       "      <td>0</td>\n",
       "      <td>99002</td>\n",
       "      <td>0.008907</td>\n",
       "      <td>-0.036523</td>\n",
       "      <td>-0.009585</td>\n",
       "      <td>-0.029234</td>\n",
       "      <td>0.040251</td>\n",
       "      <td>0.007527</td>\n",
       "      <td>0.001558</td>\n",
       "      <td>0.015669</td>\n",
       "      <td>0.038165</td>\n",
       "      <td>0.014630</td>\n",
       "      <td>589</td>\n",
       "    </tr>\n",
       "    <tr>\n",
       "      <th>3</th>\n",
       "      <td>33.0</td>\n",
       "      <td>0</td>\n",
       "      <td>155506</td>\n",
       "      <td>-0.014308</td>\n",
       "      <td>-0.044123</td>\n",
       "      <td>0.038922</td>\n",
       "      <td>0.067348</td>\n",
       "      <td>0.074553</td>\n",
       "      <td>-0.013014</td>\n",
       "      <td>-0.003994</td>\n",
       "      <td>0.012429</td>\n",
       "      <td>-0.060842</td>\n",
       "      <td>-0.017467</td>\n",
       "      <td>589</td>\n",
       "    </tr>\n",
       "    <tr>\n",
       "      <th>4</th>\n",
       "      <td>54.0</td>\n",
       "      <td>0</td>\n",
       "      <td>213873</td>\n",
       "      <td>-0.000697</td>\n",
       "      <td>-0.008681</td>\n",
       "      <td>0.007356</td>\n",
       "      <td>0.013507</td>\n",
       "      <td>0.013946</td>\n",
       "      <td>-0.003085</td>\n",
       "      <td>-0.001396</td>\n",
       "      <td>0.001843</td>\n",
       "      <td>-0.011137</td>\n",
       "      <td>-0.004560</td>\n",
       "      <td>589</td>\n",
       "    </tr>\n",
       "  </tbody>\n",
       "</table>\n",
       "</div>"
      ],
      "text/plain": [
       "    age  is_male  user_id         0         1         2         3         4  \\\n",
       "0  31.0        1   350459 -0.041562 -0.011178 -0.011656  0.087850  0.059249   \n",
       "1  35.0        1   188276  0.034047 -0.050921  0.046756  0.114737  0.069693   \n",
       "2  41.0        0    99002  0.008907 -0.036523 -0.009585 -0.029234  0.040251   \n",
       "3  33.0        0   155506 -0.014308 -0.044123  0.038922  0.067348  0.074553   \n",
       "4  54.0        0   213873 -0.000697 -0.008681  0.007356  0.013507  0.013946   \n",
       "\n",
       "          5         6         7         8         9  cpe_model_name  \n",
       "0 -0.010939  0.015674 -0.001987 -0.024404 -0.012899             589  \n",
       "1 -0.051150  0.004264 -0.042289 -0.038273 -0.044078             589  \n",
       "2  0.007527  0.001558  0.015669  0.038165  0.014630             589  \n",
       "3 -0.013014 -0.003994  0.012429 -0.060842 -0.017467             589  \n",
       "4 -0.003085 -0.001396  0.001843 -0.011137 -0.004560             589  "
      ]
     },
     "metadata": {},
     "output_type": "display_data"
    }
   ],
   "source": [
    "if IS_EMBEDDING_USED:\n",
    "    inv_usr_map = {v: k for k, v in usr_dict.items()}\n",
    "    usr_emb = pd.DataFrame(d_factors)\n",
    "    usr_emb['user_id'] = usr_emb.index.map(inv_usr_map)\n",
    "    \n",
    "    usr_targets = targets.to_pandas()\n",
    "    df = usr_targets.merge(usr_emb, how = 'inner', on = ['user_id'])\n",
    "    \n",
    "    df['cpe_model_name'] = data['cpe_model_name'].to_pandas()\n",
    "    \n",
    "    display(df.info)\n",
    "    df = df[df['is_male'] != 'NA']\n",
    "    df = df.dropna()\n",
    "    display(df.info)\n",
    "    \n",
    "    df['is_male'] = df['is_male'].map(int)\n",
    "    print(df['is_male'].value_counts())\n",
    "    display(df.head())"
   ]
  },
  {
   "cell_type": "code",
   "execution_count": 16,
   "id": "3233da8a",
   "metadata": {
    "execution": {
     "iopub.execute_input": "2023-03-27T16:46:17.569649Z",
     "iopub.status.busy": "2023-03-27T16:46:17.569151Z",
     "iopub.status.idle": "2023-03-27T16:46:18.719601Z",
     "shell.execute_reply": "2023-03-27T16:46:18.718308Z"
    },
    "papermill": {
     "duration": 1.167195,
     "end_time": "2023-03-27T16:46:18.722604",
     "exception": false,
     "start_time": "2023-03-27T16:46:17.555409",
     "status": "completed"
    },
    "tags": []
   },
   "outputs": [],
   "source": [
    "df_submit = id_to_submit.merge(usr_emb, how = 'left', on = ['user_id']).drop(['user_id'], axis = 1)\n",
    "#id_to_submit[['user_id']].merge(usr_emb, how = 'left', on = ['user_id']).drop(['user_id'], axis = 1)\n",
    "df_submit['cpe_model_name'] = data['cpe_model_name'].to_pandas()"
   ]
  },
  {
   "cell_type": "markdown",
   "id": "973c5f73",
   "metadata": {
    "papermill": {
     "duration": 0.011652,
     "end_time": "2023-03-27T16:46:18.746422",
     "exception": false,
     "start_time": "2023-03-27T16:46:18.734770",
     "status": "completed"
    },
    "tags": []
   },
   "source": [
    "#### Model trainings"
   ]
  },
  {
   "cell_type": "code",
   "execution_count": 17,
   "id": "49a71513",
   "metadata": {
    "execution": {
     "iopub.execute_input": "2023-03-27T16:46:18.773363Z",
     "iopub.status.busy": "2023-03-27T16:46:18.772870Z",
     "iopub.status.idle": "2023-03-27T16:46:18.784347Z",
     "shell.execute_reply": "2023-03-27T16:46:18.783028Z"
    },
    "papermill": {
     "duration": 0.028181,
     "end_time": "2023-03-27T16:46:18.787049",
     "exception": false,
     "start_time": "2023-03-27T16:46:18.758868",
     "status": "completed"
    },
    "tags": []
   },
   "outputs": [],
   "source": [
    "max_gini = 0\n",
    "train_index = 0\n",
    "test_index = 0\n",
    "\n",
    "if IS_MODEL_CATBOOST:\n",
    "    clf = CatBoostClassifier()\n",
    "elif IS_MODEL_RANDFOREST:\n",
    "    clf = RandomForestClassifier(random_state=SPLIT_SEED)"
   ]
  },
  {
   "cell_type": "code",
   "execution_count": 18,
   "id": "0ced9d2a",
   "metadata": {
    "execution": {
     "iopub.execute_input": "2023-03-27T16:46:18.814049Z",
     "iopub.status.busy": "2023-03-27T16:46:18.813116Z",
     "iopub.status.idle": "2023-03-27T16:51:01.751243Z",
     "shell.execute_reply": "2023-03-27T16:51:01.749892Z"
    },
    "papermill": {
     "duration": 282.96807,
     "end_time": "2023-03-27T16:51:01.767520",
     "exception": false,
     "start_time": "2023-03-27T16:46:18.799450",
     "status": "completed"
    },
    "tags": []
   },
   "outputs": [
    {
     "name": "stdout",
     "output_type": "stream",
     "text": [
      "Train indexes: [85585 85586 85587 85588 85589]; Test indexes: [0 1 2 3 4];\n",
      "Train length: 171169; Test length: 85585; Dataset length: 256754;\n",
      "Current GINI is 0.395, current max is 0.395\n",
      "\n",
      "Train indexes: [0 1 2 3 4]; Test indexes: [85585 85586 85587 85588 85589];\n",
      "Train length: 171169; Test length: 85585; Dataset length: 256754;\n",
      "Current GINI is 0.393, current max is 0.395\n",
      "\n",
      "Train indexes: [0 1 2 3 4]; Test indexes: [171170 171171 171172 171173 171174];\n",
      "Train length: 171170; Test length: 85584; Dataset length: 256754;\n",
      "Current GINI is 0.396, current max is 0.396\n",
      "\n",
      "CPU times: user 16min 33s, sys: 36.1 s, total: 17min 9s\n",
      "Wall time: 4min 42s\n"
     ]
    }
   ],
   "source": [
    "%%time\n",
    "if IS_MODEL_CATBOOST or IS_MODEL_RANDFOREST:\n",
    "    x = df.drop(['user_id', 'age', 'is_male'], axis = 1)\n",
    "    y = df['is_male']\n",
    "    cat_features = ['cpe_model_name']\n",
    "\n",
    "    kf = KFold(n_splits=KFOLD_SPLITS)\n",
    "\n",
    "    for train_index, test_index in kf.split(x):\n",
    "        print(\"Train indexes: \", train_index[:5],\n",
    "              \"; Test indexes: \", test_index[:5], \";\\n\",\n",
    "              \"Train length: \", len(train_index), \n",
    "              \"; Test length: \", len(test_index), \n",
    "              \"; Dataset length: \", len(x), ';', sep='', end='\\n')\n",
    "        \n",
    "        x_train, x_test = x.iloc[train_index], x.iloc[test_index]\n",
    "        y_train, y_test = y.iloc[train_index], y.iloc[test_index]\n",
    "        \n",
    "        if IS_MODEL_CATBOOST:\n",
    "            clf.fit(x_train, y_train, cat_features, verbose = False)\n",
    "        elif IS_MODEL_RANDFOREST:\n",
    "            clf.fit(x_train, y_train)\n",
    "        \n",
    "        gini = float(f'{2 * m.roc_auc_score(y_test, clf.predict_proba(x_test)[:,1]) - 1:2.3f}')\n",
    "        if gini > max_gini:\n",
    "            max_gini = gini\n",
    "            max_train_index = train_index\n",
    "            max_test_index = test_index\n",
    "        \n",
    "        print(f'Current GINI is {gini}, current max is {max_gini}', end=\"\\n\\n\")"
   ]
  },
  {
   "cell_type": "code",
   "execution_count": 19,
   "id": "be05c568",
   "metadata": {
    "execution": {
     "iopub.execute_input": "2023-03-27T16:51:01.795860Z",
     "iopub.status.busy": "2023-03-27T16:51:01.794809Z",
     "iopub.status.idle": "2023-03-27T16:51:01.803522Z",
     "shell.execute_reply": "2023-03-27T16:51:01.801841Z"
    },
    "papermill": {
     "duration": 0.025604,
     "end_time": "2023-03-27T16:51:01.806346",
     "exception": false,
     "start_time": "2023-03-27T16:51:01.780742",
     "status": "completed"
    },
    "tags": []
   },
   "outputs": [
    {
     "name": "stdout",
     "output_type": "stream",
     "text": [
      "Max GINI is 0.396\n",
      "Max train index is [0 1]...[171168 171169]\n",
      "Max test index is [171170 171171]...[256752 256753]\n"
     ]
    }
   ],
   "source": [
    "print(f'Max GINI is {max_gini}')\n",
    "print(f'Max train index is {max_train_index[:2]}...{max_train_index[-2:]}')\n",
    "print(f'Max test index is {max_test_index[:2]}...{max_test_index[-2:]}')"
   ]
  },
  {
   "cell_type": "code",
   "execution_count": 20,
   "id": "fa29398f",
   "metadata": {
    "execution": {
     "iopub.execute_input": "2023-03-27T16:51:01.833169Z",
     "iopub.status.busy": "2023-03-27T16:51:01.832707Z",
     "iopub.status.idle": "2023-03-27T16:52:32.636091Z",
     "shell.execute_reply": "2023-03-27T16:52:32.634742Z"
    },
    "papermill": {
     "duration": 90.833666,
     "end_time": "2023-03-27T16:52:32.652484",
     "exception": false,
     "start_time": "2023-03-27T16:51:01.818818",
     "status": "completed"
    },
    "tags": []
   },
   "outputs": [
    {
     "data": {
      "text/html": [
       "<div>\n",
       "<style scoped>\n",
       "    .dataframe tbody tr th:only-of-type {\n",
       "        vertical-align: middle;\n",
       "    }\n",
       "\n",
       "    .dataframe tbody tr th {\n",
       "        vertical-align: top;\n",
       "    }\n",
       "\n",
       "    .dataframe thead th {\n",
       "        text-align: right;\n",
       "    }\n",
       "</style>\n",
       "<table border=\"1\" class=\"dataframe\">\n",
       "  <thead>\n",
       "    <tr style=\"text-align: right;\">\n",
       "      <th></th>\n",
       "      <th>user_id</th>\n",
       "      <th>is_male</th>\n",
       "    </tr>\n",
       "  </thead>\n",
       "  <tbody>\n",
       "    <tr>\n",
       "      <th>0</th>\n",
       "      <td>221301</td>\n",
       "      <td>0.738621</td>\n",
       "    </tr>\n",
       "    <tr>\n",
       "      <th>1</th>\n",
       "      <td>31271</td>\n",
       "      <td>0.511810</td>\n",
       "    </tr>\n",
       "    <tr>\n",
       "      <th>2</th>\n",
       "      <td>211594</td>\n",
       "      <td>0.529462</td>\n",
       "    </tr>\n",
       "    <tr>\n",
       "      <th>3</th>\n",
       "      <td>253119</td>\n",
       "      <td>0.481549</td>\n",
       "    </tr>\n",
       "    <tr>\n",
       "      <th>4</th>\n",
       "      <td>192578</td>\n",
       "      <td>0.631900</td>\n",
       "    </tr>\n",
       "  </tbody>\n",
       "</table>\n",
       "</div>"
      ],
      "text/plain": [
       "   user_id   is_male\n",
       "0   221301  0.738621\n",
       "1    31271  0.511810\n",
       "2   211594  0.529462\n",
       "3   253119  0.481549\n",
       "4   192578  0.631900"
      ]
     },
     "execution_count": 20,
     "metadata": {},
     "output_type": "execute_result"
    }
   ],
   "source": [
    "if IS_MODEL_CATBOOST or IS_MODEL_RANDFOREST:\n",
    "    if IS_MODEL_CATBOOST:\n",
    "        clf.fit(x.iloc[max_train_index], y.iloc[max_train_index], cat_features, verbose = False)\n",
    "    elif IS_MODEL_RANDFOREST:\n",
    "        clf.fit(x.iloc[max_train_index], y.iloc[max_train_index])\n",
    "    id_to_submit['user_id'].unique\n",
    "    id_to_submit['is_male'] = clf.predict_proba(df_submit)[:,1]\n",
    "    \n",
    "id_to_submit.head()"
   ]
  },
  {
   "cell_type": "code",
   "execution_count": 21,
   "id": "fd392af3",
   "metadata": {
    "execution": {
     "iopub.execute_input": "2023-03-27T16:52:32.680632Z",
     "iopub.status.busy": "2023-03-27T16:52:32.680193Z",
     "iopub.status.idle": "2023-03-27T16:52:32.815367Z",
     "shell.execute_reply": "2023-03-27T16:52:32.813467Z"
    },
    "papermill": {
     "duration": 0.153443,
     "end_time": "2023-03-27T16:52:32.818644",
     "exception": false,
     "start_time": "2023-03-27T16:52:32.665201",
     "status": "completed"
    },
    "tags": []
   },
   "outputs": [
    {
     "name": "stdout",
     "output_type": "stream",
     "text": [
      "Current GINI score:  0.396\n"
     ]
    }
   ],
   "source": [
    "print(\"Current GINI score: \", float(f'{2 * m.roc_auc_score(y.iloc[max_test_index], clf.predict_proba(x.iloc[max_test_index])[:,1]) - 1:2.3f}'))"
   ]
  },
  {
   "cell_type": "markdown",
   "id": "49ca500f",
   "metadata": {
    "papermill": {
     "duration": 0.012937,
     "end_time": "2023-03-27T16:52:32.844825",
     "exception": false,
     "start_time": "2023-03-27T16:52:32.831888",
     "status": "completed"
    },
    "tags": []
   },
   "source": [
    "## Age prediction"
   ]
  },
  {
   "cell_type": "code",
   "execution_count": 22,
   "id": "b4d37c9e",
   "metadata": {
    "execution": {
     "iopub.execute_input": "2023-03-27T16:52:32.872612Z",
     "iopub.status.busy": "2023-03-27T16:52:32.872124Z",
     "iopub.status.idle": "2023-03-27T16:52:32.877823Z",
     "shell.execute_reply": "2023-03-27T16:52:32.876611Z"
    },
    "papermill": {
     "duration": 0.022685,
     "end_time": "2023-03-27T16:52:32.880345",
     "exception": false,
     "start_time": "2023-03-27T16:52:32.857660",
     "status": "completed"
    },
    "tags": []
   },
   "outputs": [],
   "source": [
    "def age_bucket(x):\n",
    "    return bisect.bisect_left([18,25,35,45,55,65], x)"
   ]
  },
  {
   "cell_type": "code",
   "execution_count": 23,
   "id": "27c98bf9",
   "metadata": {
    "execution": {
     "iopub.execute_input": "2023-03-27T16:52:32.908599Z",
     "iopub.status.busy": "2023-03-27T16:52:32.908135Z",
     "iopub.status.idle": "2023-03-27T16:52:33.646021Z",
     "shell.execute_reply": "2023-03-27T16:52:33.645006Z"
    },
    "papermill": {
     "duration": 0.755227,
     "end_time": "2023-03-27T16:52:33.648732",
     "exception": false,
     "start_time": "2023-03-27T16:52:32.893505",
     "status": "completed"
    },
    "tags": []
   },
   "outputs": [
    {
     "data": {
      "text/plain": [
       "<AxesSubplot:xlabel='age', ylabel='Count'>"
      ]
     },
     "execution_count": 23,
     "metadata": {},
     "output_type": "execute_result"
    },
    {
     "data": {
      "image/png": "[encoded data removed]",
      "text/plain": [
       "<Figure size 432x288 with 1 Axes>"
      ]
     },
     "metadata": {},
     "output_type": "display_data"
    }
   ],
   "source": [
    "'''\n",
    "df = usr_targets.merge(usr_emb, how = 'inner', on = ['user_id'])\n",
    "df = df[df['age'] != 'NA']\n",
    "df = df.dropna()\n",
    "'''\n",
    "\n",
    "df['age'] = df['age'].map(age_bucket)\n",
    "sns.histplot(df['age'], bins = 7)"
   ]
  },
  {
   "cell_type": "code",
   "execution_count": 24,
   "id": "39a31066",
   "metadata": {
    "execution": {
     "iopub.execute_input": "2023-03-27T16:52:33.679131Z",
     "iopub.status.busy": "2023-03-27T16:52:33.677635Z",
     "iopub.status.idle": "2023-03-27T16:52:33.687232Z",
     "shell.execute_reply": "2023-03-27T16:52:33.685599Z"
    },
    "papermill": {
     "duration": 0.027786,
     "end_time": "2023-03-27T16:52:33.690295",
     "exception": false,
     "start_time": "2023-03-27T16:52:33.662509",
     "status": "completed"
    },
    "tags": []
   },
   "outputs": [],
   "source": [
    "max_f1 = 0\n",
    "train_index = 0\n",
    "test_index = 0\n",
    "\n",
    "if IS_MODEL_CATBOOST:\n",
    "    clf = CatBoostClassifier()\n",
    "elif IS_MODEL_RANDFOREST:\n",
    "    clf = RandomForestClassifier(random_state=SPLIT_SEED)"
   ]
  },
  {
   "cell_type": "code",
   "execution_count": 25,
   "id": "0bf746bc",
   "metadata": {
    "execution": {
     "iopub.execute_input": "2023-03-27T16:52:33.720559Z",
     "iopub.status.busy": "2023-03-27T16:52:33.719359Z",
     "iopub.status.idle": "2023-03-27T17:13:52.798062Z",
     "shell.execute_reply": "2023-03-27T17:13:52.796258Z"
    },
    "papermill": {
     "duration": 1279.113334,
     "end_time": "2023-03-27T17:13:52.817416",
     "exception": false,
     "start_time": "2023-03-27T16:52:33.704082",
     "status": "completed"
    },
    "tags": []
   },
   "outputs": [
    {
     "name": "stdout",
     "output_type": "stream",
     "text": [
      "Train indexes: [85585 85586 85587 85588 85589]; Test indexes: [0 1 2 3 4];\n",
      "Train length: 171169; Test length: 85585; Dataset length: 256754;\n",
      "Current F1 is 0.36191340241753645, current max is 0.36191340241753645\n",
      "\n",
      "Train indexes: [0 1 2 3 4]; Test indexes: [85585 85586 85587 85588 85589];\n",
      "Train length: 171169; Test length: 85585; Dataset length: 256754;\n",
      "Current F1 is 0.358572774144682, current max is 0.36191340241753645\n",
      "\n",
      "Train indexes: [0 1 2 3 4]; Test indexes: [171170 171171 171172 171173 171174];\n",
      "Train length: 171170; Test length: 85584; Dataset length: 256754;\n",
      "Current F1 is 0.3640686645190585, current max is 0.3640686645190585\n",
      "\n"
     ]
    }
   ],
   "source": [
    "if IS_MODEL_CATBOOST or IS_MODEL_RANDFOREST:\n",
    "    x = df.drop(['user_id', 'age', 'is_male'], axis = 1)\n",
    "    y = df['age']\n",
    "\n",
    "    kf = KFold(n_splits=KFOLD_SPLITS)\n",
    "\n",
    "    for train_index, test_index in kf.split(x):\n",
    "        print(\"Train indexes: \", train_index[:5],\n",
    "              \"; Test indexes: \", test_index[:5], \";\\n\",\n",
    "              \"Train length: \", len(train_index), \n",
    "              \"; Test length: \", len(test_index), \n",
    "              \"; Dataset length: \", len(x), ';', sep='', end='\\n')\n",
    "        \n",
    "        x_train, x_test = x.iloc[train_index], x.iloc[test_index]\n",
    "        y_train, y_test = y.iloc[train_index], y.iloc[test_index]\n",
    "        if IS_MODEL_CATBOOST:\n",
    "            clf.fit(x_train, y_train, cat_features, verbose = False)\n",
    "        elif IS_MODEL_RANDFOREST:\n",
    "            clf.fit(x_train, y_train)\n",
    "        \n",
    "        f1 = m.f1_score(y_test, clf.predict(x_test), average='weighted')\n",
    "        if f1 > max_f1:\n",
    "            max_f1 = f1\n",
    "            max_train_index = train_index\n",
    "            max_test_index = test_index\n",
    "        \n",
    "        print(f'Current F1 is {f1}, current max is {max_f1}', end=\"\\n\\n\")"
   ]
  },
  {
   "cell_type": "code",
   "execution_count": 26,
   "id": "424b6793",
   "metadata": {
    "execution": {
     "iopub.execute_input": "2023-03-27T17:13:52.850946Z",
     "iopub.status.busy": "2023-03-27T17:13:52.850397Z",
     "iopub.status.idle": "2023-03-27T17:13:52.859041Z",
     "shell.execute_reply": "2023-03-27T17:13:52.857750Z"
    },
    "papermill": {
     "duration": 0.029913,
     "end_time": "2023-03-27T17:13:52.861750",
     "exception": false,
     "start_time": "2023-03-27T17:13:52.831837",
     "status": "completed"
    },
    "tags": []
   },
   "outputs": [
    {
     "name": "stdout",
     "output_type": "stream",
     "text": [
      "Max F1 is 0.3640686645190585\n",
      "Max train index is [0 1 2 3 4]\n",
      "Max test index is [171170 171171 171172 171173 171174]\n"
     ]
    }
   ],
   "source": [
    "print(f'Max F1 is {max_f1}')\n",
    "print(f'Max train index is {max_train_index[:5]}')\n",
    "print(f'Max test index is {max_test_index[:5]}')"
   ]
  },
  {
   "cell_type": "code",
   "execution_count": 27,
   "id": "c42898e8",
   "metadata": {
    "execution": {
     "iopub.execute_input": "2023-03-27T17:13:52.897462Z",
     "iopub.status.busy": "2023-03-27T17:13:52.896566Z",
     "iopub.status.idle": "2023-03-27T17:21:00.928930Z",
     "shell.execute_reply": "2023-03-27T17:21:00.927557Z"
    },
    "papermill": {
     "duration": 428.069048,
     "end_time": "2023-03-27T17:21:00.946093",
     "exception": false,
     "start_time": "2023-03-27T17:13:52.877045",
     "status": "completed"
    },
    "tags": []
   },
   "outputs": [
    {
     "data": {
      "text/html": [
       "<div>\n",
       "<style scoped>\n",
       "    .dataframe tbody tr th:only-of-type {\n",
       "        vertical-align: middle;\n",
       "    }\n",
       "\n",
       "    .dataframe tbody tr th {\n",
       "        vertical-align: top;\n",
       "    }\n",
       "\n",
       "    .dataframe thead th {\n",
       "        text-align: right;\n",
       "    }\n",
       "</style>\n",
       "<table border=\"1\" class=\"dataframe\">\n",
       "  <thead>\n",
       "    <tr style=\"text-align: right;\">\n",
       "      <th></th>\n",
       "      <th>user_id</th>\n",
       "      <th>is_male</th>\n",
       "      <th>age</th>\n",
       "    </tr>\n",
       "  </thead>\n",
       "  <tbody>\n",
       "    <tr>\n",
       "      <th>0</th>\n",
       "      <td>221301</td>\n",
       "      <td>0.738621</td>\n",
       "      <td>2</td>\n",
       "    </tr>\n",
       "    <tr>\n",
       "      <th>1</th>\n",
       "      <td>31271</td>\n",
       "      <td>0.511810</td>\n",
       "      <td>3</td>\n",
       "    </tr>\n",
       "    <tr>\n",
       "      <th>2</th>\n",
       "      <td>211594</td>\n",
       "      <td>0.529462</td>\n",
       "      <td>2</td>\n",
       "    </tr>\n",
       "    <tr>\n",
       "      <th>3</th>\n",
       "      <td>253119</td>\n",
       "      <td>0.481549</td>\n",
       "      <td>3</td>\n",
       "    </tr>\n",
       "    <tr>\n",
       "      <th>4</th>\n",
       "      <td>192578</td>\n",
       "      <td>0.631900</td>\n",
       "      <td>2</td>\n",
       "    </tr>\n",
       "  </tbody>\n",
       "</table>\n",
       "</div>"
      ],
      "text/plain": [
       "   user_id   is_male  age\n",
       "0   221301  0.738621    2\n",
       "1    31271  0.511810    3\n",
       "2   211594  0.529462    2\n",
       "3   253119  0.481549    3\n",
       "4   192578  0.631900    2"
      ]
     },
     "execution_count": 27,
     "metadata": {},
     "output_type": "execute_result"
    }
   ],
   "source": [
    "if IS_MODEL_CATBOOST or IS_MODEL_RANDFOREST:\n",
    "    if IS_MODEL_CATBOOST:\n",
    "        clf.fit(x.iloc[max_train_index], y.iloc[max_train_index], cat_features, verbose = False)\n",
    "    elif IS_MODEL_RANDFOREST:\n",
    "        clf.fit(x.iloc[max_train_index], y.iloc[max_train_index])\n",
    "    id_to_submit['age'] = clf.predict(df_submit)\n",
    "    \n",
    "id_to_submit.head()"
   ]
  },
  {
   "cell_type": "code",
   "execution_count": 28,
   "id": "7f7ea2f0",
   "metadata": {
    "execution": {
     "iopub.execute_input": "2023-03-27T17:21:00.976709Z",
     "iopub.status.busy": "2023-03-27T17:21:00.976202Z",
     "iopub.status.idle": "2023-03-27T17:21:01.404331Z",
     "shell.execute_reply": "2023-03-27T17:21:01.402361Z"
    },
    "papermill": {
     "duration": 0.447346,
     "end_time": "2023-03-27T17:21:01.407720",
     "exception": false,
     "start_time": "2023-03-27T17:21:00.960374",
     "status": "completed"
    },
    "tags": []
   },
   "outputs": [
    {
     "name": "stdout",
     "output_type": "stream",
     "text": [
      "              precision    recall  f1-score   support\n",
      "\n",
      "       18-25       0.46      0.18      0.26     10348\n",
      "       25-34       0.43      0.63      0.51     28046\n",
      "       35-44       0.35      0.47      0.40     24621\n",
      "       45-54       0.33      0.13      0.19     13362\n",
      "       55-65       0.38      0.15      0.21      7493\n",
      "         65+       0.27      0.01      0.02      1714\n",
      "\n",
      "    accuracy                           0.40     85584\n",
      "   macro avg       0.37      0.26      0.27     85584\n",
      "weighted avg       0.39      0.40      0.36     85584\n",
      "\n"
     ]
    }
   ],
   "source": [
    "if IS_MODEL_CATBOOST or IS_MODEL_RANDFOREST:\n",
    "    print(m.classification_report(\n",
    "          y.iloc[max_test_index], \n",
    "          clf.predict(x.iloc[max_test_index]), \n",
    "          target_names = ['18-25','25-34', '35-44', '45-54', '55-65', '65+']\n",
    "    ))"
   ]
  },
  {
   "cell_type": "markdown",
   "id": "2408ed26",
   "metadata": {
    "papermill": {
     "duration": 0.016538,
     "end_time": "2023-03-27T17:21:01.438937",
     "exception": false,
     "start_time": "2023-03-27T17:21:01.422399",
     "status": "completed"
    },
    "tags": []
   },
   "source": [
    "## Submission"
   ]
  },
  {
   "cell_type": "code",
   "execution_count": 29,
   "id": "6a1ce077",
   "metadata": {
    "execution": {
     "iopub.execute_input": "2023-03-27T17:21:01.473553Z",
     "iopub.status.busy": "2023-03-27T17:21:01.472119Z",
     "iopub.status.idle": "2023-03-27T17:21:01.504098Z",
     "shell.execute_reply": "2023-03-27T17:21:01.502321Z"
    },
    "papermill": {
     "duration": 0.052352,
     "end_time": "2023-03-27T17:21:01.507250",
     "exception": false,
     "start_time": "2023-03-27T17:21:01.454898",
     "status": "completed"
    },
    "tags": []
   },
   "outputs": [
    {
     "name": "stdout",
     "output_type": "stream",
     "text": [
      "<class 'pandas.core.frame.DataFrame'>\n",
      "Int64Index: 144724 entries, 0 to 144723\n",
      "Data columns (total 3 columns):\n",
      " #   Column   Non-Null Count   Dtype  \n",
      "---  ------   --------------   -----  \n",
      " 0   user_id  144724 non-null  int32  \n",
      " 1   is_male  144724 non-null  float64\n",
      " 2   age      144724 non-null  int64  \n",
      "dtypes: float64(1), int32(1), int64(1)\n",
      "memory usage: 3.9 MB\n"
     ]
    }
   ],
   "source": [
    "id_to_submit.loc[id_to_submit['age'].isna(),'age'] = 1\n",
    "id_to_submit.loc[id_to_submit['is_male'].isna(),'is_male'] = 0.511735\n",
    "id_to_submit['age'] = id_to_submit['age'].astype(int)\n",
    "id_to_submit.info()"
   ]
  },
  {
   "cell_type": "code",
   "execution_count": 30,
   "id": "e03b7d9b",
   "metadata": {
    "execution": {
     "iopub.execute_input": "2023-03-27T17:21:01.540162Z",
     "iopub.status.busy": "2023-03-27T17:21:01.539670Z",
     "iopub.status.idle": "2023-03-27T17:21:02.005867Z",
     "shell.execute_reply": "2023-03-27T17:21:02.004339Z"
    },
    "papermill": {
     "duration": 0.486296,
     "end_time": "2023-03-27T17:21:02.009584",
     "exception": false,
     "start_time": "2023-03-27T17:21:01.523288",
     "status": "completed"
    },
    "tags": []
   },
   "outputs": [
    {
     "data": {
      "text/html": [
       "<div>\n",
       "<style scoped>\n",
       "    .dataframe tbody tr th:only-of-type {\n",
       "        vertical-align: middle;\n",
       "    }\n",
       "\n",
       "    .dataframe tbody tr th {\n",
       "        vertical-align: top;\n",
       "    }\n",
       "\n",
       "    .dataframe thead th {\n",
       "        text-align: right;\n",
       "    }\n",
       "</style>\n",
       "<table border=\"1\" class=\"dataframe\">\n",
       "  <thead>\n",
       "    <tr style=\"text-align: right;\">\n",
       "      <th></th>\n",
       "      <th>user_id</th>\n",
       "      <th>is_male</th>\n",
       "      <th>age</th>\n",
       "    </tr>\n",
       "  </thead>\n",
       "  <tbody>\n",
       "    <tr>\n",
       "      <th>0</th>\n",
       "      <td>221301</td>\n",
       "      <td>0.738621</td>\n",
       "      <td>2</td>\n",
       "    </tr>\n",
       "    <tr>\n",
       "      <th>1</th>\n",
       "      <td>31271</td>\n",
       "      <td>0.511810</td>\n",
       "      <td>3</td>\n",
       "    </tr>\n",
       "    <tr>\n",
       "      <th>2</th>\n",
       "      <td>211594</td>\n",
       "      <td>0.529462</td>\n",
       "      <td>2</td>\n",
       "    </tr>\n",
       "    <tr>\n",
       "      <th>3</th>\n",
       "      <td>253119</td>\n",
       "      <td>0.481549</td>\n",
       "      <td>3</td>\n",
       "    </tr>\n",
       "    <tr>\n",
       "      <th>4</th>\n",
       "      <td>192578</td>\n",
       "      <td>0.631900</td>\n",
       "      <td>2</td>\n",
       "    </tr>\n",
       "  </tbody>\n",
       "</table>\n",
       "</div>"
      ],
      "text/plain": [
       "   user_id   is_male  age\n",
       "0   221301  0.738621    2\n",
       "1    31271  0.511810    3\n",
       "2   211594  0.529462    2\n",
       "3   253119  0.481549    3\n",
       "4   192578  0.631900    2"
      ]
     },
     "metadata": {},
     "output_type": "display_data"
    },
    {
     "data": {
      "text/plain": [
       "0.883580    552\n",
       "0.931829    501\n",
       "0.937031    430\n",
       "0.929369    408\n",
       "0.930119    391\n",
       "           ... \n",
       "0.211027      1\n",
       "0.523355      1\n",
       "0.589723      1\n",
       "0.506389      1\n",
       "0.516058      1\n",
       "Name: is_male, Length: 138865, dtype: int64"
      ]
     },
     "metadata": {},
     "output_type": "display_data"
    },
    {
     "data": {
      "text/plain": [
       "2    67907\n",
       "3    54617\n",
       "4     9523\n",
       "1     8256\n",
       "5     4334\n",
       "6       87\n",
       "Name: age, dtype: int64"
      ]
     },
     "metadata": {},
     "output_type": "display_data"
    }
   ],
   "source": [
    "display(id_to_submit.head())\n",
    "display(id_to_submit.is_male.value_counts())\n",
    "display(id_to_submit.age.value_counts())\n",
    "id_to_submit.to_csv('submission.csv', index = False)"
   ]
  },
  {
   "cell_type": "code",
   "execution_count": 31,
   "id": "7a1542b0",
   "metadata": {
    "execution": {
     "iopub.execute_input": "2023-03-27T17:21:02.042175Z",
     "iopub.status.busy": "2023-03-27T17:21:02.041711Z",
     "iopub.status.idle": "2023-03-27T17:21:02.048200Z",
     "shell.execute_reply": "2023-03-27T17:21:02.046764Z"
    },
    "papermill": {
     "duration": 0.027579,
     "end_time": "2023-03-27T17:21:02.052282",
     "exception": false,
     "start_time": "2023-03-27T17:21:02.024703",
     "status": "completed"
    },
    "tags": []
   },
   "outputs": [
    {
     "name": "stdout",
     "output_type": "stream",
     "text": [
      "Score: 1.124137329038117\n"
     ]
    }
   ],
   "source": [
    "print(f'Score: {max_gini + 2*max_f1}')"
   ]
  }
 ],
 "metadata": {
  "kernelspec": {
   "display_name": "Python 3",
   "language": "python",
   "name": "python3"
  },
  "language_info": {
   "codemirror_mode": {
    "name": "ipython",
    "version": 3
   },
   "file_extension": ".py",
   "mimetype": "text/x-python",
   "name": "python",
   "nbconvert_exporter": "python",
   "pygments_lexer": "ipython3",
   "version": "3.7.12"
  },
  "papermill": {
   "default_parameters": {},
   "duration": 2609.124724,
   "end_time": "2023-03-27T17:21:05.001223",
   "environment_variables": {},
   "exception": null,
   "input_path": "__notebook__.ipynb",
   "output_path": "__notebook__.ipynb",
   "parameters": {},
   "start_time": "2023-03-27T16:37:35.876499",
   "version": "2.3.4"
  },
  "widgets": {
   "application/vnd.jupyter.widget-state+json": {
    "state": {
     "37c64982e51849ca9379300591a47bb3": {
      "model_module": "@jupyter-widgets/controls",
      "model_module_version": "1.5.0",
      "model_name": "ProgressStyleModel",
      "state": {
       "_model_module": "@jupyter-widgets/controls",
       "_model_module_version": "1.5.0",
       "_model_name": "ProgressStyleModel",
       "_view_count": null,
       "_view_module": "@jupyter-widgets/base",
       "_view_module_version": "1.2.0",
       "_view_name": "StyleView",
       "bar_color": null,
       "description_width": ""
      }
     },
     "42ab3eea87fc417abecc958727040dfa": {
      "model_module": "@jupyter-widgets/controls",
      "model_module_version": "1.5.0",
      "model_name": "HBoxModel",
      "state": {
       "_dom_classes": [],
       "_model_module": "@jupyter-widgets/controls",
       "_model_module_version": "1.5.0",
       "_model_name": "HBoxModel",
       "_view_count": null,
       "_view_module": "@jupyter-widgets/controls",
       "_view_module_version": "1.5.0",
       "_view_name": "HBoxView",
       "box_style": "",
       "children": [
        "IPY_MODEL_ad7fec24e406430183fe191db787f6e1",
        "IPY_MODEL_8198a29c3ac54b27b34f85de12eb2a5a",
        "IPY_MODEL_4a75bf76373040f7aef94fd827f2ee73"
       ],
       "layout": "IPY_MODEL_adf1769e803c4fb0ab734656c2bd1bc3"
      }
     },
     "4a75bf76373040f7aef94fd827f2ee73": {
      "model_module": "@jupyter-widgets/controls",
      "model_module_version": "1.5.0",
      "model_name": "HTMLModel",
      "state": {
       "_dom_classes": [],
       "_model_module": "@jupyter-widgets/controls",
       "_model_module_version": "1.5.0",
       "_model_name": "HTMLModel",
       "_view_count": null,
       "_view_module": "@jupyter-widgets/controls",
       "_view_module_version": "1.5.0",
       "_view_name": "HTMLView",
       "description": "",
       "description_tooltip": null,
       "layout": "IPY_MODEL_bbfa48f1b0b448bb86bea282e61d83d4",
       "placeholder": "​",
       "style": "IPY_MODEL_a045fb77cca5431dbf63a5c92728f6c7",
       "value": " 10/10 [04:14&lt;00:00, 25.41s/it, loss=0.000423]"
      }
     },
     "8198a29c3ac54b27b34f85de12eb2a5a": {
      "model_module": "@jupyter-widgets/controls",
      "model_module_version": "1.5.0",
      "model_name": "FloatProgressModel",
      "state": {
       "_dom_classes": [],
       "_model_module": "@jupyter-widgets/controls",
       "_model_module_version": "1.5.0",
       "_model_name": "FloatProgressModel",
       "_view_count": null,
       "_view_module": "@jupyter-widgets/controls",
       "_view_module_version": "1.5.0",
       "_view_name": "ProgressView",
       "bar_style": "success",
       "description": "",
       "description_tooltip": null,
       "layout": "IPY_MODEL_ce69fd359dbc4b6b87e11fe411b2524a",
       "max": 10.0,
       "min": 0.0,
       "orientation": "horizontal",
       "style": "IPY_MODEL_37c64982e51849ca9379300591a47bb3",
       "value": 10.0
      }
     },
     "a045fb77cca5431dbf63a5c92728f6c7": {
      "model_module": "@jupyter-widgets/controls",
      "model_module_version": "1.5.0",
      "model_name": "DescriptionStyleModel",
      "state": {
       "_model_module": "@jupyter-widgets/controls",
       "_model_module_version": "1.5.0",
       "_model_name": "DescriptionStyleModel",
       "_view_count": null,
       "_view_module": "@jupyter-widgets/base",
       "_view_module_version": "1.2.0",
       "_view_name": "StyleView",
       "description_width": ""
      }
     },
     "ad7fec24e406430183fe191db787f6e1": {
      "model_module": "@jupyter-widgets/controls",
      "model_module_version": "1.5.0",
      "model_name": "HTMLModel",
      "state": {
       "_dom_classes": [],
       "_model_module": "@jupyter-widgets/controls",
       "_model_module_version": "1.5.0",
       "_model_name": "HTMLModel",
       "_view_count": null,
       "_view_module": "@jupyter-widgets/controls",
       "_view_module_version": "1.5.0",
       "_view_name": "HTMLView",
       "description": "",
       "description_tooltip": null,
       "layout": "IPY_MODEL_c991c15f77fe4e39ade744b43b2c77ba",
       "placeholder": "​",
       "style": "IPY_MODEL_d24c81660b8043ffa59ef45689171187",
       "value": "100%"
      }
     },
     "adf1769e803c4fb0ab734656c2bd1bc3": {
      "model_module": "@jupyter-widgets/base",
      "model_module_version": "1.2.0",
      "model_name": "LayoutModel",
      "state": {
       "_model_module": "@jupyter-widgets/base",
       "_model_module_version": "1.2.0",
       "_model_name": "LayoutModel",
       "_view_count": null,
       "_view_module": "@jupyter-widgets/base",
       "_view_module_version": "1.2.0",
       "_view_name": "LayoutView",
       "align_content": null,
       "align_items": null,
       "align_self": null,
       "border": null,
       "bottom": null,
       "display": null,
       "flex": null,
       "flex_flow": null,
       "grid_area": null,
       "grid_auto_columns": null,
       "grid_auto_flow": null,
       "grid_auto_rows": null,
       "grid_column": null,
       "grid_gap": null,
       "grid_row": null,
       "grid_template_areas": null,
       "grid_template_columns": null,
       "grid_template_rows": null,
       "height": null,
       "justify_content": null,
       "justify_items": null,
       "left": null,
       "margin": null,
       "max_height": null,
       "max_width": null,
       "min_height": null,
       "min_width": null,
       "object_fit": null,
       "object_position": null,
       "order": null,
       "overflow": null,
       "overflow_x": null,
       "overflow_y": null,
       "padding": null,
       "right": null,
       "top": null,
       "visibility": null,
       "width": null
      }
     },
     "bbfa48f1b0b448bb86bea282e61d83d4": {
      "model_module": "@jupyter-widgets/base",
      "model_module_version": "1.2.0",
      "model_name": "LayoutModel",
      "state": {
       "_model_module": "@jupyter-widgets/base",
       "_model_module_version": "1.2.0",
       "_model_name": "LayoutModel",
       "_view_count": null,
       "_view_module": "@jupyter-widgets/base",
       "_view_module_version": "1.2.0",
       "_view_name": "LayoutView",
       "align_content": null,
       "align_items": null,
       "align_self": null,
       "border": null,
       "bottom": null,
       "display": null,
       "flex": null,
       "flex_flow": null,
       "grid_area": null,
       "grid_auto_columns": null,
       "grid_auto_flow": null,
       "grid_auto_rows": null,
       "grid_column": null,
       "grid_gap": null,
       "grid_row": null,
       "grid_template_areas": null,
       "grid_template_columns": null,
       "grid_template_rows": null,
       "height": null,
       "justify_content": null,
       "justify_items": null,
       "left": null,
       "margin": null,
       "max_height": null,
       "max_width": null,
       "min_height": null,
       "min_width": null,
       "object_fit": null,
       "object_position": null,
       "order": null,
       "overflow": null,
       "overflow_x": null,
       "overflow_y": null,
       "padding": null,
       "right": null,
       "top": null,
       "visibility": null,
       "width": null
      }
     },
     "c991c15f77fe4e39ade744b43b2c77ba": {
      "model_module": "@jupyter-widgets/base",
      "model_module_version": "1.2.0",
      "model_name": "LayoutModel",
      "state": {
       "_model_module": "@jupyter-widgets/base",
       "_model_module_version": "1.2.0",
       "_model_name": "LayoutModel",
       "_view_count": null,
       "_view_module": "@jupyter-widgets/base",
       "_view_module_version": "1.2.0",
       "_view_name": "LayoutView",
       "align_content": null,
       "align_items": null,
       "align_self": null,
       "border": null,
       "bottom": null,
       "display": null,
       "flex": null,
       "flex_flow": null,
       "grid_area": null,
       "grid_auto_columns": null,
       "grid_auto_flow": null,
       "grid_auto_rows": null,
       "grid_column": null,
       "grid_gap": null,
       "grid_row": null,
       "grid_template_areas": null,
       "grid_template_columns": null,
       "grid_template_rows": null,
       "height": null,
       "justify_content": null,
       "justify_items": null,
       "left": null,
       "margin": null,
       "max_height": null,
       "max_width": null,
       "min_height": null,
       "min_width": null,
       "object_fit": null,
       "object_position": null,
       "order": null,
       "overflow": null,
       "overflow_x": null,
       "overflow_y": null,
       "padding": null,
       "right": null,
       "top": null,
       "visibility": null,
       "width": null
      }
     },
     "ce69fd359dbc4b6b87e11fe411b2524a": {
      "model_module": "@jupyter-widgets/base",
      "model_module_version": "1.2.0",
      "model_name": "LayoutModel",
      "state": {
       "_model_module": "@jupyter-widgets/base",
       "_model_module_version": "1.2.0",
       "_model_name": "LayoutModel",
       "_view_count": null,
       "_view_module": "@jupyter-widgets/base",
       "_view_module_version": "1.2.0",
       "_view_name": "LayoutView",
       "align_content": null,
       "align_items": null,
       "align_self": null,
       "border": null,
       "bottom": null,
       "display": null,
       "flex": null,
       "flex_flow": null,
       "grid_area": null,
       "grid_auto_columns": null,
       "grid_auto_flow": null,
       "grid_auto_rows": null,
       "grid_column": null,
       "grid_gap": null,
       "grid_row": null,
       "grid_template_areas": null,
       "grid_template_columns": null,
       "grid_template_rows": null,
       "height": null,
       "justify_content": null,
       "justify_items": null,
       "left": null,
       "margin": null,
       "max_height": null,
       "max_width": null,
       "min_height": null,
       "min_width": null,
       "object_fit": null,
       "object_position": null,
       "order": null,
       "overflow": null,
       "overflow_x": null,
       "overflow_y": null,
       "padding": null,
       "right": null,
       "top": null,
       "visibility": null,
       "width": null
      }
     },
     "d24c81660b8043ffa59ef45689171187": {
      "model_module": "@jupyter-widgets/controls",
      "model_module_version": "1.5.0",
      "model_name": "DescriptionStyleModel",
      "state": {
       "_model_module": "@jupyter-widgets/controls",
       "_model_module_version": "1.5.0",
       "_model_name": "DescriptionStyleModel",
       "_view_count": null,
       "_view_module": "@jupyter-widgets/base",
       "_view_module_version": "1.2.0",
       "_view_name": "StyleView",
       "description_width": ""
      }
     }
    },
    "version_major": 2,
    "version_minor": 0
   }
  }
 },
 "nbformat": 4,
 "nbformat_minor": 5
}
