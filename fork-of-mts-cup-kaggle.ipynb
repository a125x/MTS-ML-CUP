{
 "cells": [
  {
   "cell_type": "markdown",
   "id": "6442ca24",
   "metadata": {
    "papermill": {
     "duration": 0.014807,
     "end_time": "2023-03-26T19:56:03.912607",
     "exception": false,
     "start_time": "2023-03-26T19:56:03.897800",
     "status": "completed"
    },
    "tags": []
   },
   "source": [
    "## Imports and constants"
   ]
  },
  {
   "cell_type": "markdown",
   "id": "5ca516f0",
   "metadata": {
    "papermill": {
     "duration": 0.008314,
     "end_time": "2023-03-26T19:56:03.930015",
     "exception": false,
     "start_time": "2023-03-26T19:56:03.921701",
     "status": "completed"
    },
    "tags": []
   },
   "source": [
    "to do: \n",
    "\n",
    "transformers, features generation,\n",
    "fix left bisect as described in the changed rules"
   ]
  },
  {
   "cell_type": "code",
   "execution_count": 1,
   "id": "afc7f640",
   "metadata": {
    "execution": {
     "iopub.execute_input": "2023-03-26T19:56:03.948970Z",
     "iopub.status.busy": "2023-03-26T19:56:03.948539Z",
     "iopub.status.idle": "2023-03-26T19:56:03.969677Z",
     "shell.execute_reply": "2023-03-26T19:56:03.968747Z"
    },
    "papermill": {
     "duration": 0.033764,
     "end_time": "2023-03-26T19:56:03.972390",
     "exception": false,
     "start_time": "2023-03-26T19:56:03.938626",
     "status": "completed"
    },
    "tags": []
   },
   "outputs": [],
   "source": [
    "SPLIT_SEED = 42\n",
    "KFOLD_SPLITS = 5\n",
    "\n",
    "IS_EMBEDDING_USED = True\n",
    "if IS_EMBEDDING_USED:\n",
    "    IS_GPU_USED = False\n",
    "    FAISS_ITERATIONS = 200\n",
    "    FACTORS = 100\n",
    "    \n",
    "IS_POLARS_USED = True\n",
    "    \n",
    "IS_NOTEBOOK_ON_KAGGLE = True\n",
    "IS_NOTBOOK_ON_COLAB = False\n",
    "\n",
    "IS_MODEL_TRANSFORMERS4REC = False\n",
    "IS_MODEL_CATBOOST = True\n",
    "IS_MODEL_RANDFOREST = False"
   ]
  },
  {
   "cell_type": "code",
   "execution_count": 2,
   "id": "611e3e1d",
   "metadata": {
    "_kg_hide-input": true,
    "execution": {
     "iopub.execute_input": "2023-03-26T19:56:03.992458Z",
     "iopub.status.busy": "2023-03-26T19:56:03.992023Z",
     "iopub.status.idle": "2023-03-26T19:56:57.641922Z",
     "shell.execute_reply": "2023-03-26T19:56:57.640301Z"
    },
    "papermill": {
     "duration": 53.663467,
     "end_time": "2023-03-26T19:56:57.645004",
     "exception": false,
     "start_time": "2023-03-26T19:56:03.981537",
     "status": "completed"
    },
    "tags": []
   },
   "outputs": [
    {
     "name": "stdout",
     "output_type": "stream",
     "text": [
      "\u001b[33mWARNING: Running pip as the 'root' user can result in broken permissions and conflicting behaviour with the system package manager. It is recommended to use a virtual environment instead: https://pip.pypa.io/warnings/venv\u001b[0m\u001b[33m\r\n",
      "\u001b[0m\u001b[33mWARNING: Running pip as the 'root' user can result in broken permissions and conflicting behaviour with the system package manager. It is recommended to use a virtual environment instead: https://pip.pypa.io/warnings/venv\u001b[0m\u001b[33m\r\n",
      "\u001b[0m\u001b[33mWARNING: Running pip as the 'root' user can result in broken permissions and conflicting behaviour with the system package manager. It is recommended to use a virtual environment instead: https://pip.pypa.io/warnings/venv\u001b[0m\u001b[33m\r\n",
      "\u001b[0m"
     ]
    }
   ],
   "source": [
    "!pip install feather-format >> none -q\n",
    "!pip install polars -q\n",
    "\n",
    "import bisect\n",
    "import matplotlib.pyplot as plt\n",
    "import numpy as np\n",
    "import os\n",
    "import pandas as pd\n",
    "import plotly.express as px\n",
    "import polars as pl\n",
    "import pyarrow as pa\n",
    "import pyarrow.parquet as pq\n",
    "import seaborn as sns\n",
    "import sklearn.metrics as m\n",
    "import sys\n",
    "import tensorflow as tf\n",
    "import time\n",
    "import warnings\n",
    "\n",
    "from pathlib import Path\n",
    "from sklearn.model_selection import KFold\n",
    "\n",
    "if IS_EMBEDDING_USED:\n",
    "    !pip install faiss-cpu --no-cache -q\n",
    "    \n",
    "    import implicit\n",
    "    import scipy\n",
    "\n",
    "if IS_MODEL_RANDFOREST:\n",
    "    from sklearn.ensemble import RandomForestClassifier\n",
    "\n",
    "if IS_MODEL_CATBOOST:\n",
    "    from catboost import CatBoostClassifier, CatBoostRegressor, Pool\n",
    "\n",
    "%matplotlib inline\n",
    "sns.set_style('darkgrid')\n",
    "warnings.filterwarnings('ignore')"
   ]
  },
  {
   "cell_type": "code",
   "execution_count": 3,
   "id": "a6178d65",
   "metadata": {
    "_kg_hide-input": true,
    "execution": {
     "iopub.execute_input": "2023-03-26T19:56:57.667371Z",
     "iopub.status.busy": "2023-03-26T19:56:57.665418Z",
     "iopub.status.idle": "2023-03-26T19:56:57.676100Z",
     "shell.execute_reply": "2023-03-26T19:56:57.674597Z"
    },
    "papermill": {
     "duration": 0.025269,
     "end_time": "2023-03-26T19:56:57.679342",
     "exception": false,
     "start_time": "2023-03-26T19:56:57.654073",
     "status": "completed"
    },
    "tags": []
   },
   "outputs": [],
   "source": [
    "if IS_NOTEBOOK_ON_KAGGLE:\n",
    "    LOCAL_DATA_PATH = Path('/kaggle', 'input', 'mts-ml-cookies')\n",
    "    DATA_FILE = Path('dataset_full.feather')\n",
    "    TARGET_FILE = Path('target_train.feather')\n",
    "    SUBMISSION_FILE = Path('submission.feather')"
   ]
  },
  {
   "cell_type": "markdown",
   "id": "84f4c69d",
   "metadata": {
    "papermill": {
     "duration": 0.009564,
     "end_time": "2023-03-26T19:56:57.699068",
     "exception": false,
     "start_time": "2023-03-26T19:56:57.689504",
     "status": "completed"
    },
    "tags": []
   },
   "source": [
    "## Showing data"
   ]
  },
  {
   "cell_type": "code",
   "execution_count": 4,
   "id": "f4da06c9",
   "metadata": {
    "execution": {
     "iopub.execute_input": "2023-03-26T19:56:57.724286Z",
     "iopub.status.busy": "2023-03-26T19:56:57.723707Z",
     "iopub.status.idle": "2023-03-26T19:56:57.820331Z",
     "shell.execute_reply": "2023-03-26T19:56:57.818266Z"
    },
    "papermill": {
     "duration": 0.112123,
     "end_time": "2023-03-26T19:56:57.823798",
     "exception": false,
     "start_time": "2023-03-26T19:56:57.711675",
     "status": "completed"
    },
    "tags": []
   },
   "outputs": [
    {
     "data": {
      "text/html": [
       "<div>\n",
       "<style scoped>\n",
       "    .dataframe tbody tr th:only-of-type {\n",
       "        vertical-align: middle;\n",
       "    }\n",
       "\n",
       "    .dataframe tbody tr th {\n",
       "        vertical-align: top;\n",
       "    }\n",
       "\n",
       "    .dataframe thead th {\n",
       "        text-align: right;\n",
       "    }\n",
       "</style>\n",
       "<table border=\"1\" class=\"dataframe\">\n",
       "  <thead>\n",
       "    <tr style=\"text-align: right;\">\n",
       "      <th></th>\n",
       "      <th>user_id</th>\n",
       "    </tr>\n",
       "  </thead>\n",
       "  <tbody>\n",
       "    <tr>\n",
       "      <th>0</th>\n",
       "      <td>221301</td>\n",
       "    </tr>\n",
       "    <tr>\n",
       "      <th>1</th>\n",
       "      <td>31271</td>\n",
       "    </tr>\n",
       "    <tr>\n",
       "      <th>2</th>\n",
       "      <td>211594</td>\n",
       "    </tr>\n",
       "  </tbody>\n",
       "</table>\n",
       "</div>"
      ],
      "text/plain": [
       "   user_id\n",
       "0   221301\n",
       "1    31271\n",
       "2   211594"
      ]
     },
     "metadata": {},
     "output_type": "display_data"
    },
    {
     "data": {
      "text/plain": [
       "<bound method DataFrame.info of         user_id\n",
       "0        221301\n",
       "1         31271\n",
       "2        211594\n",
       "3        253119\n",
       "4        192578\n",
       "...         ...\n",
       "144719   415284\n",
       "144720   415285\n",
       "144721   415286\n",
       "144722   415306\n",
       "144723   415315\n",
       "\n",
       "[144724 rows x 1 columns]>"
      ]
     },
     "metadata": {},
     "output_type": "display_data"
    }
   ],
   "source": [
    "id_to_submit = pd.read_feather(Path(LOCAL_DATA_PATH, SUBMISSION_FILE))\n",
    "display(id_to_submit.head(3))\n",
    "display(id_to_submit.info)"
   ]
  },
  {
   "cell_type": "code",
   "execution_count": 5,
   "id": "304dbe3e",
   "metadata": {
    "execution": {
     "iopub.execute_input": "2023-03-26T19:56:57.847042Z",
     "iopub.status.busy": "2023-03-26T19:56:57.846540Z",
     "iopub.status.idle": "2023-03-26T19:56:58.032513Z",
     "shell.execute_reply": "2023-03-26T19:56:58.030999Z"
    },
    "papermill": {
     "duration": 0.200873,
     "end_time": "2023-03-26T19:56:58.035477",
     "exception": false,
     "start_time": "2023-03-26T19:56:57.834604",
     "status": "completed"
    },
    "tags": []
   },
   "outputs": [
    {
     "data": {
      "text/html": [
       "<div>\n",
       "<style scoped>\n",
       "    .dataframe tbody tr th:only-of-type {\n",
       "        vertical-align: middle;\n",
       "    }\n",
       "\n",
       "    .dataframe tbody tr th {\n",
       "        vertical-align: top;\n",
       "    }\n",
       "\n",
       "    .dataframe thead th {\n",
       "        text-align: right;\n",
       "    }\n",
       "</style>\n",
       "<table border=\"1\" class=\"dataframe\">\n",
       "  <thead>\n",
       "    <tr style=\"text-align: right;\">\n",
       "      <th></th>\n",
       "      <th>age</th>\n",
       "      <th>is_male</th>\n",
       "      <th>user_id</th>\n",
       "    </tr>\n",
       "  </thead>\n",
       "  <tbody>\n",
       "    <tr>\n",
       "      <th>0</th>\n",
       "      <td>31.0</td>\n",
       "      <td>1</td>\n",
       "      <td>350459</td>\n",
       "    </tr>\n",
       "    <tr>\n",
       "      <th>1</th>\n",
       "      <td>35.0</td>\n",
       "      <td>1</td>\n",
       "      <td>188276</td>\n",
       "    </tr>\n",
       "    <tr>\n",
       "      <th>2</th>\n",
       "      <td>41.0</td>\n",
       "      <td>0</td>\n",
       "      <td>99002</td>\n",
       "    </tr>\n",
       "    <tr>\n",
       "      <th>3</th>\n",
       "      <td>33.0</td>\n",
       "      <td>0</td>\n",
       "      <td>155506</td>\n",
       "    </tr>\n",
       "    <tr>\n",
       "      <th>4</th>\n",
       "      <td>54.0</td>\n",
       "      <td>0</td>\n",
       "      <td>213873</td>\n",
       "    </tr>\n",
       "  </tbody>\n",
       "</table>\n",
       "</div>"
      ],
      "text/plain": [
       "    age is_male  user_id\n",
       "0  31.0       1   350459\n",
       "1  35.0       1   188276\n",
       "2  41.0       0    99002\n",
       "3  33.0       0   155506\n",
       "4  54.0       0   213873"
      ]
     },
     "metadata": {},
     "output_type": "display_data"
    },
    {
     "data": {
      "text/html": [
       "<div>\n",
       "<style scoped>\n",
       "    .dataframe tbody tr th:only-of-type {\n",
       "        vertical-align: middle;\n",
       "    }\n",
       "\n",
       "    .dataframe tbody tr th {\n",
       "        vertical-align: top;\n",
       "    }\n",
       "\n",
       "    .dataframe thead tr th {\n",
       "        text-align: left;\n",
       "    }\n",
       "</style>\n",
       "<table border=\"1\" class=\"dataframe\">\n",
       "  <thead>\n",
       "    <tr>\n",
       "      <th></th>\n",
       "      <th>field</th>\n",
       "      <th>type</th>\n",
       "    </tr>\n",
       "  </thead>\n",
       "  <tbody>\n",
       "    <tr>\n",
       "      <th>0</th>\n",
       "      <td>age</td>\n",
       "      <td>double</td>\n",
       "    </tr>\n",
       "    <tr>\n",
       "      <th>1</th>\n",
       "      <td>is_male</td>\n",
       "      <td>string</td>\n",
       "    </tr>\n",
       "    <tr>\n",
       "      <th>2</th>\n",
       "      <td>user_id</td>\n",
       "      <td>int64</td>\n",
       "    </tr>\n",
       "    <tr>\n",
       "      <th>3</th>\n",
       "      <td>__index_level_0__</td>\n",
       "      <td>int64</td>\n",
       "    </tr>\n",
       "  </tbody>\n",
       "</table>\n",
       "</div>"
      ],
      "text/plain": [
       "               field    type\n",
       "0                age  double\n",
       "1            is_male  string\n",
       "2            user_id   int64\n",
       "3  __index_level_0__   int64"
      ]
     },
     "metadata": {},
     "output_type": "display_data"
    }
   ],
   "source": [
    "targets = pd.read_feather(Path(LOCAL_DATA_PATH, TARGET_FILE)).query('age >=19') \n",
    "display(targets.head())\n",
    "targets = pa.Table.from_pandas(targets)\n",
    "display(pd.DataFrame([(z.name, z.type) for z in targets.schema], columns = [['field', 'type']]))"
   ]
  },
  {
   "cell_type": "code",
   "execution_count": 6,
   "id": "4f4b2c7a",
   "metadata": {
    "execution": {
     "iopub.execute_input": "2023-03-26T19:56:58.057530Z",
     "iopub.status.busy": "2023-03-26T19:56:58.056731Z",
     "iopub.status.idle": "2023-03-26T19:58:45.338142Z",
     "shell.execute_reply": "2023-03-26T19:58:45.335756Z"
    },
    "papermill": {
     "duration": 107.314053,
     "end_time": "2023-03-26T19:58:45.359538",
     "exception": false,
     "start_time": "2023-03-26T19:56:58.045485",
     "status": "completed"
    },
    "tags": []
   },
   "outputs": [
    {
     "data": {
      "text/html": [
       "<div>\n",
       "<style scoped>\n",
       "    .dataframe tbody tr th:only-of-type {\n",
       "        vertical-align: middle;\n",
       "    }\n",
       "\n",
       "    .dataframe tbody tr th {\n",
       "        vertical-align: top;\n",
       "    }\n",
       "\n",
       "    .dataframe thead th {\n",
       "        text-align: right;\n",
       "    }\n",
       "</style>\n",
       "<table border=\"1\" class=\"dataframe\">\n",
       "  <thead>\n",
       "    <tr style=\"text-align: right;\">\n",
       "      <th></th>\n",
       "      <th>region_name</th>\n",
       "      <th>city_name</th>\n",
       "      <th>cpe_manufacturer_name</th>\n",
       "      <th>cpe_model_name</th>\n",
       "      <th>url_host</th>\n",
       "      <th>cpe_type_cd</th>\n",
       "      <th>cpe_model_os_type</th>\n",
       "      <th>price</th>\n",
       "      <th>date</th>\n",
       "      <th>part_of_day</th>\n",
       "      <th>request_cnt</th>\n",
       "      <th>user_id</th>\n",
       "    </tr>\n",
       "  </thead>\n",
       "  <tbody>\n",
       "    <tr>\n",
       "      <th>0</th>\n",
       "      <td>Краснодарский край</td>\n",
       "      <td>Краснодар</td>\n",
       "      <td>Apple</td>\n",
       "      <td>iPhone 7</td>\n",
       "      <td>ad.adriver.ru</td>\n",
       "      <td>smartphone</td>\n",
       "      <td>iOS</td>\n",
       "      <td>20368.0</td>\n",
       "      <td>2022-06-15</td>\n",
       "      <td>morning</td>\n",
       "      <td>1</td>\n",
       "      <td>45098</td>\n",
       "    </tr>\n",
       "    <tr>\n",
       "      <th>1</th>\n",
       "      <td>Краснодарский край</td>\n",
       "      <td>Краснодар</td>\n",
       "      <td>Apple</td>\n",
       "      <td>iPhone 7</td>\n",
       "      <td>apple.com</td>\n",
       "      <td>smartphone</td>\n",
       "      <td>iOS</td>\n",
       "      <td>20368.0</td>\n",
       "      <td>2022-06-19</td>\n",
       "      <td>morning</td>\n",
       "      <td>1</td>\n",
       "      <td>45098</td>\n",
       "    </tr>\n",
       "    <tr>\n",
       "      <th>2</th>\n",
       "      <td>Краснодарский край</td>\n",
       "      <td>Краснодар</td>\n",
       "      <td>Apple</td>\n",
       "      <td>iPhone 7</td>\n",
       "      <td>avatars.mds.yandex.net</td>\n",
       "      <td>smartphone</td>\n",
       "      <td>iOS</td>\n",
       "      <td>20368.0</td>\n",
       "      <td>2022-06-12</td>\n",
       "      <td>day</td>\n",
       "      <td>1</td>\n",
       "      <td>45098</td>\n",
       "    </tr>\n",
       "    <tr>\n",
       "      <th>3</th>\n",
       "      <td>Краснодарский край</td>\n",
       "      <td>Краснодар</td>\n",
       "      <td>Apple</td>\n",
       "      <td>iPhone 7</td>\n",
       "      <td>googleads.g.doubleclick.net</td>\n",
       "      <td>smartphone</td>\n",
       "      <td>iOS</td>\n",
       "      <td>20368.0</td>\n",
       "      <td>2022-05-16</td>\n",
       "      <td>day</td>\n",
       "      <td>1</td>\n",
       "      <td>45098</td>\n",
       "    </tr>\n",
       "    <tr>\n",
       "      <th>4</th>\n",
       "      <td>Краснодарский край</td>\n",
       "      <td>Краснодар</td>\n",
       "      <td>Apple</td>\n",
       "      <td>iPhone 7</td>\n",
       "      <td>googleads.g.doubleclick.net</td>\n",
       "      <td>smartphone</td>\n",
       "      <td>iOS</td>\n",
       "      <td>20368.0</td>\n",
       "      <td>2022-05-30</td>\n",
       "      <td>day</td>\n",
       "      <td>1</td>\n",
       "      <td>45098</td>\n",
       "    </tr>\n",
       "  </tbody>\n",
       "</table>\n",
       "</div>"
      ],
      "text/plain": [
       "          region_name  city_name cpe_manufacturer_name cpe_model_name  \\\n",
       "0  Краснодарский край  Краснодар                 Apple       iPhone 7   \n",
       "1  Краснодарский край  Краснодар                 Apple       iPhone 7   \n",
       "2  Краснодарский край  Краснодар                 Apple       iPhone 7   \n",
       "3  Краснодарский край  Краснодар                 Apple       iPhone 7   \n",
       "4  Краснодарский край  Краснодар                 Apple       iPhone 7   \n",
       "\n",
       "                      url_host cpe_type_cd cpe_model_os_type    price  \\\n",
       "0                ad.adriver.ru  smartphone               iOS  20368.0   \n",
       "1                    apple.com  smartphone               iOS  20368.0   \n",
       "2       avatars.mds.yandex.net  smartphone               iOS  20368.0   \n",
       "3  googleads.g.doubleclick.net  smartphone               iOS  20368.0   \n",
       "4  googleads.g.doubleclick.net  smartphone               iOS  20368.0   \n",
       "\n",
       "        date part_of_day  request_cnt  user_id  \n",
       "0 2022-06-15     morning            1    45098  \n",
       "1 2022-06-19     morning            1    45098  \n",
       "2 2022-06-12         day            1    45098  \n",
       "3 2022-05-16         day            1    45098  \n",
       "4 2022-05-30         day            1    45098  "
      ]
     },
     "metadata": {},
     "output_type": "display_data"
    },
    {
     "data": {
      "text/html": [
       "<div>\n",
       "<style scoped>\n",
       "    .dataframe tbody tr th:only-of-type {\n",
       "        vertical-align: middle;\n",
       "    }\n",
       "\n",
       "    .dataframe tbody tr th {\n",
       "        vertical-align: top;\n",
       "    }\n",
       "\n",
       "    .dataframe thead th {\n",
       "        text-align: right;\n",
       "    }\n",
       "</style>\n",
       "<table border=\"1\" class=\"dataframe\">\n",
       "  <thead>\n",
       "    <tr style=\"text-align: right;\">\n",
       "      <th></th>\n",
       "      <th>price</th>\n",
       "      <th>request_cnt</th>\n",
       "      <th>user_id</th>\n",
       "    </tr>\n",
       "  </thead>\n",
       "  <tbody>\n",
       "    <tr>\n",
       "      <th>count</th>\n",
       "      <td>3.163100e+08</td>\n",
       "      <td>3.228994e+08</td>\n",
       "      <td>3.228994e+08</td>\n",
       "    </tr>\n",
       "    <tr>\n",
       "      <th>mean</th>\n",
       "      <td>3.308510e+04</td>\n",
       "      <td>1.724197e+00</td>\n",
       "      <td>2.070983e+05</td>\n",
       "    </tr>\n",
       "    <tr>\n",
       "      <th>std</th>\n",
       "      <td>2.583592e+04</td>\n",
       "      <td>1.213835e+00</td>\n",
       "      <td>1.200584e+05</td>\n",
       "    </tr>\n",
       "    <tr>\n",
       "      <th>min</th>\n",
       "      <td>9.000000e+01</td>\n",
       "      <td>1.000000e+00</td>\n",
       "      <td>0.000000e+00</td>\n",
       "    </tr>\n",
       "    <tr>\n",
       "      <th>25%</th>\n",
       "      <td>1.397400e+04</td>\n",
       "      <td>1.000000e+00</td>\n",
       "      <td>1.027880e+05</td>\n",
       "    </tr>\n",
       "    <tr>\n",
       "      <th>50%</th>\n",
       "      <td>2.199000e+04</td>\n",
       "      <td>1.000000e+00</td>\n",
       "      <td>2.068870e+05</td>\n",
       "    </tr>\n",
       "    <tr>\n",
       "      <th>75%</th>\n",
       "      <td>4.999000e+04</td>\n",
       "      <td>2.000000e+00</td>\n",
       "      <td>3.113950e+05</td>\n",
       "    </tr>\n",
       "    <tr>\n",
       "      <th>max</th>\n",
       "      <td>1.956570e+05</td>\n",
       "      <td>1.600000e+01</td>\n",
       "      <td>4.153160e+05</td>\n",
       "    </tr>\n",
       "  </tbody>\n",
       "</table>\n",
       "</div>"
      ],
      "text/plain": [
       "              price   request_cnt       user_id\n",
       "count  3.163100e+08  3.228994e+08  3.228994e+08\n",
       "mean   3.308510e+04  1.724197e+00  2.070983e+05\n",
       "std    2.583592e+04  1.213835e+00  1.200584e+05\n",
       "min    9.000000e+01  1.000000e+00  0.000000e+00\n",
       "25%    1.397400e+04  1.000000e+00  1.027880e+05\n",
       "50%    2.199000e+04  1.000000e+00  2.068870e+05\n",
       "75%    4.999000e+04  2.000000e+00  3.113950e+05\n",
       "max    1.956570e+05  1.600000e+01  4.153160e+05"
      ]
     },
     "execution_count": 6,
     "metadata": {},
     "output_type": "execute_result"
    }
   ],
   "source": [
    "data = pd.read_feather(Path(LOCAL_DATA_PATH, DATA_FILE))\n",
    "display(data.head())\n",
    "data.describe()"
   ]
  },
  {
   "cell_type": "code",
   "execution_count": 7,
   "id": "b0a75577",
   "metadata": {
    "execution": {
     "iopub.execute_input": "2023-03-26T19:58:45.385387Z",
     "iopub.status.busy": "2023-03-26T19:58:45.383775Z",
     "iopub.status.idle": "2023-03-26T20:00:33.645360Z",
     "shell.execute_reply": "2023-03-26T20:00:33.643815Z"
    },
    "papermill": {
     "duration": 108.289494,
     "end_time": "2023-03-26T20:00:33.659780",
     "exception": false,
     "start_time": "2023-03-26T19:58:45.370286",
     "status": "completed"
    },
    "tags": []
   },
   "outputs": [
    {
     "data": {
      "text/html": [
       "<div>\n",
       "<style scoped>\n",
       "    .dataframe tbody tr th:only-of-type {\n",
       "        vertical-align: middle;\n",
       "    }\n",
       "\n",
       "    .dataframe tbody tr th {\n",
       "        vertical-align: top;\n",
       "    }\n",
       "\n",
       "    .dataframe thead th {\n",
       "        text-align: right;\n",
       "    }\n",
       "</style>\n",
       "<table border=\"1\" class=\"dataframe\">\n",
       "  <thead>\n",
       "    <tr style=\"text-align: right;\">\n",
       "      <th></th>\n",
       "      <th>region_name</th>\n",
       "      <th>city_name</th>\n",
       "      <th>cpe_manufacturer_name</th>\n",
       "      <th>cpe_model_name</th>\n",
       "      <th>url_host</th>\n",
       "      <th>cpe_type_cd</th>\n",
       "      <th>cpe_model_os_type</th>\n",
       "      <th>price</th>\n",
       "      <th>date</th>\n",
       "      <th>part_of_day</th>\n",
       "      <th>request_cnt</th>\n",
       "      <th>user_id</th>\n",
       "    </tr>\n",
       "  </thead>\n",
       "  <tbody>\n",
       "    <tr>\n",
       "      <th>0</th>\n",
       "      <td>Краснодарский край</td>\n",
       "      <td>Краснодар</td>\n",
       "      <td>Apple</td>\n",
       "      <td>iPhone 7</td>\n",
       "      <td>ad.adriver.ru</td>\n",
       "      <td>smartphone</td>\n",
       "      <td>iOS</td>\n",
       "      <td>20368.0</td>\n",
       "      <td>2022-06-15</td>\n",
       "      <td>morning</td>\n",
       "      <td>1</td>\n",
       "      <td>45098</td>\n",
       "    </tr>\n",
       "    <tr>\n",
       "      <th>1</th>\n",
       "      <td>Краснодарский край</td>\n",
       "      <td>Краснодар</td>\n",
       "      <td>Apple</td>\n",
       "      <td>iPhone 7</td>\n",
       "      <td>apple.com</td>\n",
       "      <td>smartphone</td>\n",
       "      <td>iOS</td>\n",
       "      <td>20368.0</td>\n",
       "      <td>2022-06-19</td>\n",
       "      <td>morning</td>\n",
       "      <td>1</td>\n",
       "      <td>45098</td>\n",
       "    </tr>\n",
       "    <tr>\n",
       "      <th>2</th>\n",
       "      <td>Краснодарский край</td>\n",
       "      <td>Краснодар</td>\n",
       "      <td>Apple</td>\n",
       "      <td>iPhone 7</td>\n",
       "      <td>avatars.mds.yandex.net</td>\n",
       "      <td>smartphone</td>\n",
       "      <td>iOS</td>\n",
       "      <td>20368.0</td>\n",
       "      <td>2022-06-12</td>\n",
       "      <td>day</td>\n",
       "      <td>1</td>\n",
       "      <td>45098</td>\n",
       "    </tr>\n",
       "    <tr>\n",
       "      <th>3</th>\n",
       "      <td>Краснодарский край</td>\n",
       "      <td>Краснодар</td>\n",
       "      <td>Apple</td>\n",
       "      <td>iPhone 7</td>\n",
       "      <td>googleads.g.doubleclick.net</td>\n",
       "      <td>smartphone</td>\n",
       "      <td>iOS</td>\n",
       "      <td>20368.0</td>\n",
       "      <td>2022-05-16</td>\n",
       "      <td>day</td>\n",
       "      <td>1</td>\n",
       "      <td>45098</td>\n",
       "    </tr>\n",
       "    <tr>\n",
       "      <th>4</th>\n",
       "      <td>Краснодарский край</td>\n",
       "      <td>Краснодар</td>\n",
       "      <td>Apple</td>\n",
       "      <td>iPhone 7</td>\n",
       "      <td>googleads.g.doubleclick.net</td>\n",
       "      <td>smartphone</td>\n",
       "      <td>iOS</td>\n",
       "      <td>20368.0</td>\n",
       "      <td>2022-05-30</td>\n",
       "      <td>day</td>\n",
       "      <td>1</td>\n",
       "      <td>45098</td>\n",
       "    </tr>\n",
       "  </tbody>\n",
       "</table>\n",
       "</div>"
      ],
      "text/plain": [
       "          region_name  city_name cpe_manufacturer_name cpe_model_name  \\\n",
       "0  Краснодарский край  Краснодар                 Apple       iPhone 7   \n",
       "1  Краснодарский край  Краснодар                 Apple       iPhone 7   \n",
       "2  Краснодарский край  Краснодар                 Apple       iPhone 7   \n",
       "3  Краснодарский край  Краснодар                 Apple       iPhone 7   \n",
       "4  Краснодарский край  Краснодар                 Apple       iPhone 7   \n",
       "\n",
       "                      url_host cpe_type_cd cpe_model_os_type    price  \\\n",
       "0                ad.adriver.ru  smartphone               iOS  20368.0   \n",
       "1                    apple.com  smartphone               iOS  20368.0   \n",
       "2       avatars.mds.yandex.net  smartphone               iOS  20368.0   \n",
       "3  googleads.g.doubleclick.net  smartphone               iOS  20368.0   \n",
       "4  googleads.g.doubleclick.net  smartphone               iOS  20368.0   \n",
       "\n",
       "        date part_of_day  request_cnt  user_id  \n",
       "0 2022-06-15     morning            1    45098  \n",
       "1 2022-06-19     morning            1    45098  \n",
       "2 2022-06-12         day            1    45098  \n",
       "3 2022-05-16         day            1    45098  \n",
       "4 2022-05-30         day            1    45098  "
      ]
     },
     "metadata": {},
     "output_type": "display_data"
    },
    {
     "data": {
      "text/html": [
       "<div>\n",
       "<style scoped>\n",
       "    .dataframe tbody tr th:only-of-type {\n",
       "        vertical-align: middle;\n",
       "    }\n",
       "\n",
       "    .dataframe tbody tr th {\n",
       "        vertical-align: top;\n",
       "    }\n",
       "\n",
       "    .dataframe thead th {\n",
       "        text-align: right;\n",
       "    }\n",
       "</style>\n",
       "<table border=\"1\" class=\"dataframe\">\n",
       "  <thead>\n",
       "    <tr style=\"text-align: right;\">\n",
       "      <th></th>\n",
       "      <th>price</th>\n",
       "      <th>request_cnt</th>\n",
       "      <th>user_id</th>\n",
       "    </tr>\n",
       "  </thead>\n",
       "  <tbody>\n",
       "    <tr>\n",
       "      <th>count</th>\n",
       "      <td>3.163100e+08</td>\n",
       "      <td>3.163100e+08</td>\n",
       "      <td>3.163100e+08</td>\n",
       "    </tr>\n",
       "    <tr>\n",
       "      <th>mean</th>\n",
       "      <td>3.308536e+04</td>\n",
       "      <td>1.723795e+00</td>\n",
       "      <td>2.070647e+05</td>\n",
       "    </tr>\n",
       "    <tr>\n",
       "      <th>std</th>\n",
       "      <td>2.583592e+04</td>\n",
       "      <td>1.213582e+00</td>\n",
       "      <td>1.200949e+05</td>\n",
       "    </tr>\n",
       "    <tr>\n",
       "      <th>min</th>\n",
       "      <td>9.000000e+01</td>\n",
       "      <td>1.000000e+00</td>\n",
       "      <td>0.000000e+00</td>\n",
       "    </tr>\n",
       "    <tr>\n",
       "      <th>25%</th>\n",
       "      <td>1.397400e+04</td>\n",
       "      <td>1.000000e+00</td>\n",
       "      <td>1.027420e+05</td>\n",
       "    </tr>\n",
       "    <tr>\n",
       "      <th>50%</th>\n",
       "      <td>2.199000e+04</td>\n",
       "      <td>1.000000e+00</td>\n",
       "      <td>2.068280e+05</td>\n",
       "    </tr>\n",
       "    <tr>\n",
       "      <th>75%</th>\n",
       "      <td>4.999000e+04</td>\n",
       "      <td>2.000000e+00</td>\n",
       "      <td>3.114000e+05</td>\n",
       "    </tr>\n",
       "    <tr>\n",
       "      <th>max</th>\n",
       "      <td>1.956570e+05</td>\n",
       "      <td>1.600000e+01</td>\n",
       "      <td>4.153160e+05</td>\n",
       "    </tr>\n",
       "  </tbody>\n",
       "</table>\n",
       "</div>"
      ],
      "text/plain": [
       "              price   request_cnt       user_id\n",
       "count  3.163100e+08  3.163100e+08  3.163100e+08\n",
       "mean   3.308536e+04  1.723795e+00  2.070647e+05\n",
       "std    2.583592e+04  1.213582e+00  1.200949e+05\n",
       "min    9.000000e+01  1.000000e+00  0.000000e+00\n",
       "25%    1.397400e+04  1.000000e+00  1.027420e+05\n",
       "50%    2.199000e+04  1.000000e+00  2.068280e+05\n",
       "75%    4.999000e+04  2.000000e+00  3.114000e+05\n",
       "max    1.956570e+05  1.600000e+01  4.153160e+05"
      ]
     },
     "execution_count": 7,
     "metadata": {},
     "output_type": "execute_result"
    }
   ],
   "source": [
    "#data[data.isnull().any(axis=1)]\n",
    "data = data.dropna()\n",
    "display(data.head())\n",
    "data.describe()"
   ]
  },
  {
   "cell_type": "code",
   "execution_count": 8,
   "id": "bd47902b",
   "metadata": {
    "execution": {
     "iopub.execute_input": "2023-03-26T20:00:33.686127Z",
     "iopub.status.busy": "2023-03-26T20:00:33.685129Z",
     "iopub.status.idle": "2023-03-26T20:00:33.694749Z",
     "shell.execute_reply": "2023-03-26T20:00:33.692815Z"
    },
    "papermill": {
     "duration": 0.02681,
     "end_time": "2023-03-26T20:00:33.697692",
     "exception": false,
     "start_time": "2023-03-26T20:00:33.670882",
     "status": "completed"
    },
    "tags": []
   },
   "outputs": [
    {
     "data": {
      "text/plain": [
       "'\\nfor column in data.columns:\\n    sns.histplot(data[column].value_counts(), bins=4)\\n    plt.show()\\n'"
      ]
     },
     "execution_count": 8,
     "metadata": {},
     "output_type": "execute_result"
    }
   ],
   "source": [
    "'''\n",
    "for column in data.columns:\n",
    "    sns.histplot(data[column].value_counts(), bins=4)\n",
    "    plt.show()\n",
    "'''"
   ]
  },
  {
   "cell_type": "code",
   "execution_count": 9,
   "id": "74bbb2af",
   "metadata": {
    "execution": {
     "iopub.execute_input": "2023-03-26T20:00:33.722778Z",
     "iopub.status.busy": "2023-03-26T20:00:33.721892Z",
     "iopub.status.idle": "2023-03-26T20:00:46.360697Z",
     "shell.execute_reply": "2023-03-26T20:00:46.358776Z"
    },
    "papermill": {
     "duration": 12.657914,
     "end_time": "2023-03-26T20:00:46.366400",
     "exception": false,
     "start_time": "2023-03-26T20:00:33.708486",
     "status": "completed"
    },
    "tags": []
   },
   "outputs": [
    {
     "data": {
      "text/html": [
       "<div>\n",
       "<style scoped>\n",
       "    .dataframe tbody tr th:only-of-type {\n",
       "        vertical-align: middle;\n",
       "    }\n",
       "\n",
       "    .dataframe tbody tr th {\n",
       "        vertical-align: top;\n",
       "    }\n",
       "\n",
       "    .dataframe thead th {\n",
       "        text-align: right;\n",
       "    }\n",
       "</style>\n",
       "<table border=\"1\" class=\"dataframe\">\n",
       "  <thead>\n",
       "    <tr style=\"text-align: right;\">\n",
       "      <th></th>\n",
       "      <th>region_name</th>\n",
       "      <th>city_name</th>\n",
       "      <th>cpe_manufacturer_name</th>\n",
       "      <th>cpe_model_name</th>\n",
       "      <th>url_host</th>\n",
       "      <th>cpe_type_cd</th>\n",
       "      <th>cpe_model_os_type</th>\n",
       "      <th>price</th>\n",
       "      <th>date</th>\n",
       "      <th>part_of_day</th>\n",
       "      <th>request_cnt</th>\n",
       "      <th>user_id</th>\n",
       "    </tr>\n",
       "  </thead>\n",
       "  <tbody>\n",
       "    <tr>\n",
       "      <th>0</th>\n",
       "      <td>21</td>\n",
       "      <td>409</td>\n",
       "      <td>1</td>\n",
       "      <td>589</td>\n",
       "      <td>5788</td>\n",
       "      <td>2</td>\n",
       "      <td>2</td>\n",
       "      <td>20368.0</td>\n",
       "      <td>2022-06-15</td>\n",
       "      <td>2</td>\n",
       "      <td>1</td>\n",
       "      <td>45098</td>\n",
       "    </tr>\n",
       "    <tr>\n",
       "      <th>1</th>\n",
       "      <td>21</td>\n",
       "      <td>409</td>\n",
       "      <td>1</td>\n",
       "      <td>589</td>\n",
       "      <td>12900</td>\n",
       "      <td>2</td>\n",
       "      <td>2</td>\n",
       "      <td>20368.0</td>\n",
       "      <td>2022-06-19</td>\n",
       "      <td>2</td>\n",
       "      <td>1</td>\n",
       "      <td>45098</td>\n",
       "    </tr>\n",
       "    <tr>\n",
       "      <th>2</th>\n",
       "      <td>21</td>\n",
       "      <td>409</td>\n",
       "      <td>1</td>\n",
       "      <td>589</td>\n",
       "      <td>17626</td>\n",
       "      <td>2</td>\n",
       "      <td>2</td>\n",
       "      <td>20368.0</td>\n",
       "      <td>2022-06-12</td>\n",
       "      <td>0</td>\n",
       "      <td>1</td>\n",
       "      <td>45098</td>\n",
       "    </tr>\n",
       "    <tr>\n",
       "      <th>3</th>\n",
       "      <td>21</td>\n",
       "      <td>409</td>\n",
       "      <td>1</td>\n",
       "      <td>589</td>\n",
       "      <td>59366</td>\n",
       "      <td>2</td>\n",
       "      <td>2</td>\n",
       "      <td>20368.0</td>\n",
       "      <td>2022-05-16</td>\n",
       "      <td>0</td>\n",
       "      <td>1</td>\n",
       "      <td>45098</td>\n",
       "    </tr>\n",
       "    <tr>\n",
       "      <th>4</th>\n",
       "      <td>21</td>\n",
       "      <td>409</td>\n",
       "      <td>1</td>\n",
       "      <td>589</td>\n",
       "      <td>59366</td>\n",
       "      <td>2</td>\n",
       "      <td>2</td>\n",
       "      <td>20368.0</td>\n",
       "      <td>2022-05-30</td>\n",
       "      <td>0</td>\n",
       "      <td>1</td>\n",
       "      <td>45098</td>\n",
       "    </tr>\n",
       "  </tbody>\n",
       "</table>\n",
       "</div>"
      ],
      "text/plain": [
       "   region_name  city_name  cpe_manufacturer_name  cpe_model_name  url_host  \\\n",
       "0           21        409                      1             589      5788   \n",
       "1           21        409                      1             589     12900   \n",
       "2           21        409                      1             589     17626   \n",
       "3           21        409                      1             589     59366   \n",
       "4           21        409                      1             589     59366   \n",
       "\n",
       "   cpe_type_cd  cpe_model_os_type    price       date  part_of_day  \\\n",
       "0            2                  2  20368.0 2022-06-15            2   \n",
       "1            2                  2  20368.0 2022-06-19            2   \n",
       "2            2                  2  20368.0 2022-06-12            0   \n",
       "3            2                  2  20368.0 2022-05-16            0   \n",
       "4            2                  2  20368.0 2022-05-30            0   \n",
       "\n",
       "   request_cnt  user_id  \n",
       "0            1    45098  \n",
       "1            1    45098  \n",
       "2            1    45098  \n",
       "3            1    45098  \n",
       "4            1    45098  "
      ]
     },
     "execution_count": 9,
     "metadata": {},
     "output_type": "execute_result"
    }
   ],
   "source": [
    "for column in data.columns:\n",
    "    if column not in (\"date\", \"price\", \"user_id\", \"request_cnt\"):\n",
    "        data[column] = data[column].cat.codes\n",
    "    elif column == \"date\":\n",
    "        data[\"date\"] = pd.to_datetime(data[\"date\"])\n",
    "\n",
    "data.head()"
   ]
  },
  {
   "cell_type": "code",
   "execution_count": 10,
   "id": "7f8b8d39",
   "metadata": {
    "execution": {
     "iopub.execute_input": "2023-03-26T20:00:46.417577Z",
     "iopub.status.busy": "2023-03-26T20:00:46.415993Z",
     "iopub.status.idle": "2023-03-26T20:00:59.233606Z",
     "shell.execute_reply": "2023-03-26T20:00:59.232278Z"
    },
    "papermill": {
     "duration": 12.850565,
     "end_time": "2023-03-26T20:00:59.236158",
     "exception": false,
     "start_time": "2023-03-26T20:00:46.385593",
     "status": "completed"
    },
    "tags": []
   },
   "outputs": [
    {
     "data": {
      "text/plain": [
       "2    316272363\n",
       "1        36078\n",
       "3         1512\n",
       "Name: cpe_type_cd, dtype: int64"
      ]
     },
     "metadata": {},
     "output_type": "display_data"
    },
    {
     "data": {
      "text/html": [
       "<div><style>\n",
       ".dataframe > thead > tr > th,\n",
       ".dataframe > tbody > tr > td {\n",
       "  text-align: right;\n",
       "}\n",
       "</style>\n",
       "<small>shape: (3, 2)</small><table border=\"1\" class=\"dataframe\"><thead><tr><th>cpe_type_cd</th><th>counts</th></tr><tr><td>i8</td><td>u32</td></tr></thead><tbody><tr><td>3</td><td>1512</td></tr><tr><td>2</td><td>316272363</td></tr><tr><td>1</td><td>36078</td></tr></tbody></table></div>"
      ],
      "text/plain": [
       "shape: (3, 2)\n",
       "┌─────────────┬───────────┐\n",
       "│ cpe_type_cd ┆ counts    │\n",
       "│ ---         ┆ ---       │\n",
       "│ i8          ┆ u32       │\n",
       "╞═════════════╪═══════════╡\n",
       "│ 3           ┆ 1512      │\n",
       "│ 2           ┆ 316272363 │\n",
       "│ 1           ┆ 36078     │\n",
       "└─────────────┴───────────┘"
      ]
     },
     "execution_count": 10,
     "metadata": {},
     "output_type": "execute_result"
    }
   ],
   "source": [
    "data = pl.from_pandas(data)\n",
    "display(data.select(['cpe_type_cd']).to_pandas()['cpe_type_cd'].value_counts())\n",
    "data['cpe_type_cd'].value_counts()"
   ]
  },
  {
   "cell_type": "markdown",
   "id": "4cf60c5c",
   "metadata": {
    "papermill": {
     "duration": 0.011363,
     "end_time": "2023-03-26T20:00:59.259141",
     "exception": false,
     "start_time": "2023-03-26T20:00:59.247778",
     "status": "completed"
    },
    "tags": []
   },
   "source": [
    "## Counting users <-> items embedding"
   ]
  },
  {
   "cell_type": "code",
   "execution_count": 11,
   "id": "4e6cb086",
   "metadata": {
    "execution": {
     "iopub.execute_input": "2023-03-26T20:00:59.283540Z",
     "iopub.status.busy": "2023-03-26T20:00:59.283114Z",
     "iopub.status.idle": "2023-03-26T20:02:05.668772Z",
     "shell.execute_reply": "2023-03-26T20:02:05.667281Z"
    },
    "papermill": {
     "duration": 66.401094,
     "end_time": "2023-03-26T20:02:05.671567",
     "exception": false,
     "start_time": "2023-03-26T20:00:59.270473",
     "status": "completed"
    },
    "tags": []
   },
   "outputs": [
    {
     "name": "stdout",
     "output_type": "stream",
     "text": [
      "198032 urls\n",
      "404614 users\n",
      "CPU times: user 1min 1s, sys: 15.1 s, total: 1min 16s\n",
      "Wall time: 1min 6s\n"
     ]
    }
   ],
   "source": [
    "%%time\n",
    "if IS_EMBEDDING_USED:\n",
    "    data_agg = data.groupby(['user_id', 'url_host'], maintain_order=True).agg(\n",
    "        pl.sum(\"request_cnt\")\n",
    "    )\n",
    "    url_set = set(data_agg.select(['url_host']).to_pandas()['url_host'])\n",
    "    print(f'{len(url_set)} urls')\n",
    "    url_dict = {url: idurl for url, idurl in zip(url_set, range(len(url_set)))}\n",
    "    usr_set = set(data_agg.select(['user_id']).to_pandas()['user_id'])\n",
    "    print(f'{len(usr_set)} users')\n",
    "    usr_dict = {usr: user_id for usr, user_id in zip(usr_set, range(len(usr_set)))}"
   ]
  },
  {
   "cell_type": "code",
   "execution_count": 12,
   "id": "db54baae",
   "metadata": {
    "execution": {
     "iopub.execute_input": "2023-03-26T20:02:05.705832Z",
     "iopub.status.busy": "2023-03-26T20:02:05.705101Z",
     "iopub.status.idle": "2023-03-26T20:02:08.896134Z",
     "shell.execute_reply": "2023-03-26T20:02:08.894481Z"
    },
    "papermill": {
     "duration": 3.215142,
     "end_time": "2023-03-26T20:02:08.899243",
     "exception": false,
     "start_time": "2023-03-26T20:02:05.684101",
     "status": "completed"
    },
    "tags": []
   },
   "outputs": [
    {
     "name": "stdout",
     "output_type": "stream",
     "text": [
      "CPU times: user 2.38 s, sys: 808 ms, total: 3.19 s\n",
      "Wall time: 3.18 s\n"
     ]
    }
   ],
   "source": [
    "%%time\n",
    "if IS_EMBEDDING_USED:\n",
    "    values = np.array(data_agg['request_cnt'].to_pandas())\n",
    "    rows = np.array(data_agg['user_id'].to_pandas().map(usr_dict))\n",
    "    cols = np.array(data_agg['url_host'].to_pandas().map(url_dict))\n",
    "    mat = scipy.sparse.coo_matrix((values, (rows, cols)), shape=(rows.max() + 1, cols.max() + 1))\n",
    "    als = implicit.approximate_als.FaissAlternatingLeastSquares(\n",
    "        factors = FACTORS, iterations = FAISS_ITERATIONS, use_gpu = IS_GPU_USED, calculate_training_loss = True, regularization = 0.1\n",
    "    )"
   ]
  },
  {
   "cell_type": "code",
   "execution_count": 13,
   "id": "bfed75c8",
   "metadata": {
    "execution": {
     "iopub.execute_input": "2023-03-26T20:02:08.925280Z",
     "iopub.status.busy": "2023-03-26T20:02:08.924636Z",
     "iopub.status.idle": "2023-03-26T23:22:36.174075Z",
     "shell.execute_reply": "2023-03-26T23:22:36.171589Z"
    },
    "papermill": {
     "duration": 12027.267057,
     "end_time": "2023-03-26T23:22:36.177995",
     "exception": false,
     "start_time": "2023-03-26T20:02:08.910938",
     "status": "completed"
    },
    "tags": []
   },
   "outputs": [
    {
     "data": {
      "application/vnd.jupyter.widget-view+json": {
       "model_id": "e763d0cbede74beeba20b81cb78b1485",
       "version_major": 2,
       "version_minor": 0
      },
      "text/plain": [
       "  0%|          | 0/200 [00:00<?, ?it/s]"
      ]
     },
     "metadata": {},
     "output_type": "display_data"
    },
    {
     "name": "stdout",
     "output_type": "stream",
     "text": [
      "CPU times: user 8h 32min 50s, sys: 4h 24min 22s, total: 12h 57min 13s\n",
      "Wall time: 3h 20min 27s\n"
     ]
    }
   ],
   "source": [
    "%%time\n",
    "if IS_EMBEDDING_USED:\n",
    "    als.fit(mat)"
   ]
  },
  {
   "cell_type": "code",
   "execution_count": 14,
   "id": "796a6832",
   "metadata": {
    "execution": {
     "iopub.execute_input": "2023-03-26T23:22:36.211470Z",
     "iopub.status.busy": "2023-03-26T23:22:36.209703Z",
     "iopub.status.idle": "2023-03-26T23:22:36.225238Z",
     "shell.execute_reply": "2023-03-26T23:22:36.223459Z"
    },
    "papermill": {
     "duration": 0.037419,
     "end_time": "2023-03-26T23:22:36.228874",
     "exception": false,
     "start_time": "2023-03-26T23:22:36.191455",
     "status": "completed"
    },
    "tags": []
   },
   "outputs": [
    {
     "name": "stdout",
     "output_type": "stream",
     "text": [
      "198032\n"
     ]
    }
   ],
   "source": [
    "if IS_EMBEDDING_USED:\n",
    "    u_factors = als.user_factors \n",
    "    print(len(u_factors))"
   ]
  },
  {
   "cell_type": "code",
   "execution_count": 15,
   "id": "e22a576f",
   "metadata": {
    "execution": {
     "iopub.execute_input": "2023-03-26T23:22:36.257056Z",
     "iopub.status.busy": "2023-03-26T23:22:36.256051Z",
     "iopub.status.idle": "2023-03-26T23:22:36.264537Z",
     "shell.execute_reply": "2023-03-26T23:22:36.263032Z"
    },
    "papermill": {
     "duration": 0.025304,
     "end_time": "2023-03-26T23:22:36.267289",
     "exception": false,
     "start_time": "2023-03-26T23:22:36.241985",
     "status": "completed"
    },
    "tags": []
   },
   "outputs": [
    {
     "name": "stdout",
     "output_type": "stream",
     "text": [
      "404614\n"
     ]
    }
   ],
   "source": [
    "if IS_EMBEDDING_USED:\n",
    "    d_factors = als.item_factors\n",
    "    print(len(d_factors))"
   ]
  },
  {
   "cell_type": "markdown",
   "id": "7bbda47f",
   "metadata": {
    "papermill": {
     "duration": 0.012111,
     "end_time": "2023-03-26T23:22:36.292004",
     "exception": false,
     "start_time": "2023-03-26T23:22:36.279893",
     "status": "completed"
    },
    "tags": []
   },
   "source": [
    "## Sex prediction"
   ]
  },
  {
   "cell_type": "code",
   "execution_count": 16,
   "id": "fc12d394",
   "metadata": {
    "execution": {
     "iopub.execute_input": "2023-03-26T23:22:36.322374Z",
     "iopub.status.busy": "2023-03-26T23:22:36.321313Z",
     "iopub.status.idle": "2023-03-26T23:22:39.291808Z",
     "shell.execute_reply": "2023-03-26T23:22:39.290238Z"
    },
    "papermill": {
     "duration": 2.989085,
     "end_time": "2023-03-26T23:22:39.294987",
     "exception": false,
     "start_time": "2023-03-26T23:22:36.305902",
     "status": "completed"
    },
    "scrolled": true,
    "tags": []
   },
   "outputs": [
    {
     "name": "stdout",
     "output_type": "stream",
     "text": [
      "1    130899\n",
      "0    125855\n",
      "Name: is_male, dtype: int64\n"
     ]
    }
   ],
   "source": [
    "if IS_EMBEDDING_USED:\n",
    "    inv_usr_map = {v: k for k, v in usr_dict.items()}\n",
    "    usr_emb = pd.DataFrame(d_factors)\n",
    "    usr_emb['user_id'] = usr_emb.index.map(inv_usr_map)\n",
    "    usr_targets = targets.to_pandas()\n",
    "    df = usr_targets.merge(usr_emb, how = 'inner', on = ['user_id'])\n",
    "    df = df[df['is_male'] != 'NA']\n",
    "    df = df.dropna()\n",
    "    df['is_male'] = df['is_male'].map(int)\n",
    "    print(df['is_male'].value_counts())"
   ]
  },
  {
   "cell_type": "markdown",
   "id": "d9599fbb",
   "metadata": {
    "papermill": {
     "duration": 0.012267,
     "end_time": "2023-03-26T23:22:39.322258",
     "exception": false,
     "start_time": "2023-03-26T23:22:39.309991",
     "status": "completed"
    },
    "tags": []
   },
   "source": [
    "#### Model trainings"
   ]
  },
  {
   "cell_type": "code",
   "execution_count": 17,
   "id": "9b6cac61",
   "metadata": {
    "execution": {
     "iopub.execute_input": "2023-03-26T23:22:39.350484Z",
     "iopub.status.busy": "2023-03-26T23:22:39.349620Z",
     "iopub.status.idle": "2023-03-26T23:22:39.363930Z",
     "shell.execute_reply": "2023-03-26T23:22:39.362712Z"
    },
    "papermill": {
     "duration": 0.031572,
     "end_time": "2023-03-26T23:22:39.366650",
     "exception": false,
     "start_time": "2023-03-26T23:22:39.335078",
     "status": "completed"
    },
    "tags": []
   },
   "outputs": [],
   "source": [
    "max_gini = 0\n",
    "train_index = 0\n",
    "test_index = 0\n",
    "\n",
    "if IS_MODEL_CATBOOST:\n",
    "    clf = CatBoostClassifier()\n",
    "elif IS_MODEL_RANDFOREST:\n",
    "    clf = RandomForestClassifier(random_state=SPLIT_SEED)"
   ]
  },
  {
   "cell_type": "code",
   "execution_count": 18,
   "id": "bd542f8f",
   "metadata": {
    "execution": {
     "iopub.execute_input": "2023-03-26T23:22:39.393451Z",
     "iopub.status.busy": "2023-03-26T23:22:39.392052Z",
     "iopub.status.idle": "2023-03-26T23:30:54.788265Z",
     "shell.execute_reply": "2023-03-26T23:30:54.786520Z"
    },
    "papermill": {
     "duration": 495.42563,
     "end_time": "2023-03-26T23:30:54.804154",
     "exception": false,
     "start_time": "2023-03-26T23:22:39.378524",
     "status": "completed"
    },
    "tags": []
   },
   "outputs": [
    {
     "name": "stdout",
     "output_type": "stream",
     "text": [
      "Train indexes: [51351 51352 51353 51354 51355]; Test indexes: [0 1 2 3 4];\n",
      "Train length: 205403; Test length: 51351; Dataset length: 256754;\n",
      "Current GINI is 0.681, current max is 0.681\n",
      "\n",
      "Train indexes: [0 1 2 3 4]; Test indexes: [51351 51352 51353 51354 51355];\n",
      "Train length: 205403; Test length: 51351; Dataset length: 256754;\n",
      "Current GINI is 0.673, current max is 0.681\n",
      "\n",
      "Train indexes: [0 1 2 3 4]; Test indexes: [102702 102703 102704 102705 102706];\n",
      "Train length: 205403; Test length: 51351; Dataset length: 256754;\n",
      "Current GINI is 0.674, current max is 0.681\n",
      "\n",
      "Train indexes: [0 1 2 3 4]; Test indexes: [154053 154054 154055 154056 154057];\n",
      "Train length: 205403; Test length: 51351; Dataset length: 256754;\n",
      "Current GINI is 0.669, current max is 0.681\n",
      "\n",
      "Train indexes: [0 1 2 3 4]; Test indexes: [205404 205405 205406 205407 205408];\n",
      "Train length: 205404; Test length: 51350; Dataset length: 256754;\n",
      "Current GINI is 0.671, current max is 0.681\n",
      "\n",
      "CPU times: user 31min 8s, sys: 43.5 s, total: 31min 52s\n",
      "Wall time: 8min 15s\n"
     ]
    }
   ],
   "source": [
    "%%time\n",
    "if IS_MODEL_CATBOOST or IS_MODEL_RANDFOREST:\n",
    "    x = df.drop(['user_id', 'age', 'is_male'], axis = 1)\n",
    "    y = df['is_male']\n",
    "\n",
    "    kf = KFold(n_splits=KFOLD_SPLITS)\n",
    "\n",
    "    for train_index, test_index in kf.split(x):\n",
    "        print(\"Train indexes: \", train_index[:5],\n",
    "              \"; Test indexes: \", test_index[:5], \";\\n\",\n",
    "              \"Train length: \", len(train_index), \n",
    "              \"; Test length: \", len(test_index), \n",
    "              \"; Dataset length: \", len(x), ';', sep='', end='\\n')\n",
    "        \n",
    "        x_train, x_test = x.iloc[train_index], x.iloc[test_index]\n",
    "        y_train, y_test = y.iloc[train_index], y.iloc[test_index]\n",
    "        \n",
    "        if IS_MODEL_CATBOOST:\n",
    "            clf.fit(x_train, y_train, verbose = False)\n",
    "        elif IS_MODEL_RANDFOREST:\n",
    "            clf.fit(x_train, y_train)\n",
    "        \n",
    "        gini = float(f'{2 * m.roc_auc_score(y_test, clf.predict_proba(x_test)[:,1]) - 1:2.3f}')\n",
    "        if gini > max_gini:\n",
    "            max_gini = gini\n",
    "            max_train_index = train_index\n",
    "            max_test_index = test_index\n",
    "        \n",
    "        print(f'Current GINI is {gini}, current max is {max_gini}', end=\"\\n\\n\")"
   ]
  },
  {
   "cell_type": "code",
   "execution_count": 19,
   "id": "10c6b8ee",
   "metadata": {
    "execution": {
     "iopub.execute_input": "2023-03-26T23:30:54.833131Z",
     "iopub.status.busy": "2023-03-26T23:30:54.832552Z",
     "iopub.status.idle": "2023-03-26T23:30:54.842628Z",
     "shell.execute_reply": "2023-03-26T23:30:54.840809Z"
    },
    "papermill": {
     "duration": 0.02862,
     "end_time": "2023-03-26T23:30:54.845909",
     "exception": false,
     "start_time": "2023-03-26T23:30:54.817289",
     "status": "completed"
    },
    "tags": []
   },
   "outputs": [
    {
     "name": "stdout",
     "output_type": "stream",
     "text": [
      "Max GINI is 0.681\n",
      "Max train index is [51351 51352 51353 51354 51355]\n",
      "Max test index is [0 1 2 3 4]\n"
     ]
    }
   ],
   "source": [
    "print(f'Max GINI is {max_gini}')\n",
    "print(f'Max train index is {max_train_index[:5]}')\n",
    "print(f'Max test index is {max_test_index[:5]}')"
   ]
  },
  {
   "cell_type": "code",
   "execution_count": 20,
   "id": "f6083f4a",
   "metadata": {
    "execution": {
     "iopub.execute_input": "2023-03-26T23:30:54.874608Z",
     "iopub.status.busy": "2023-03-26T23:30:54.874050Z",
     "iopub.status.idle": "2023-03-26T23:32:34.922107Z",
     "shell.execute_reply": "2023-03-26T23:32:34.920496Z"
    },
    "papermill": {
     "duration": 100.077248,
     "end_time": "2023-03-26T23:32:34.936202",
     "exception": false,
     "start_time": "2023-03-26T23:30:54.858954",
     "status": "completed"
    },
    "tags": []
   },
   "outputs": [
    {
     "data": {
      "text/html": [
       "<div>\n",
       "<style scoped>\n",
       "    .dataframe tbody tr th:only-of-type {\n",
       "        vertical-align: middle;\n",
       "    }\n",
       "\n",
       "    .dataframe tbody tr th {\n",
       "        vertical-align: top;\n",
       "    }\n",
       "\n",
       "    .dataframe thead th {\n",
       "        text-align: right;\n",
       "    }\n",
       "</style>\n",
       "<table border=\"1\" class=\"dataframe\">\n",
       "  <thead>\n",
       "    <tr style=\"text-align: right;\">\n",
       "      <th></th>\n",
       "      <th>user_id</th>\n",
       "      <th>is_male</th>\n",
       "    </tr>\n",
       "  </thead>\n",
       "  <tbody>\n",
       "    <tr>\n",
       "      <th>0</th>\n",
       "      <td>221301</td>\n",
       "      <td>0.958721</td>\n",
       "    </tr>\n",
       "    <tr>\n",
       "      <th>1</th>\n",
       "      <td>31271</td>\n",
       "      <td>0.514848</td>\n",
       "    </tr>\n",
       "    <tr>\n",
       "      <th>2</th>\n",
       "      <td>211594</td>\n",
       "      <td>0.504314</td>\n",
       "    </tr>\n",
       "    <tr>\n",
       "      <th>3</th>\n",
       "      <td>253119</td>\n",
       "      <td>0.514111</td>\n",
       "    </tr>\n",
       "    <tr>\n",
       "      <th>4</th>\n",
       "      <td>192578</td>\n",
       "      <td>0.830219</td>\n",
       "    </tr>\n",
       "  </tbody>\n",
       "</table>\n",
       "</div>"
      ],
      "text/plain": [
       "   user_id   is_male\n",
       "0   221301  0.958721\n",
       "1    31271  0.514848\n",
       "2   211594  0.504314\n",
       "3   253119  0.514111\n",
       "4   192578  0.830219"
      ]
     },
     "execution_count": 20,
     "metadata": {},
     "output_type": "execute_result"
    }
   ],
   "source": [
    "if IS_MODEL_CATBOOST or IS_MODEL_RANDFOREST:\n",
    "    if IS_MODEL_CATBOOST:\n",
    "        clf.fit(x.iloc[max_train_index], y.iloc[max_train_index], verbose = False)\n",
    "    elif IS_MODEL_RANDFOREST:\n",
    "        clf.fit(x.iloc[max_train_index], y.iloc[max_train_index])\n",
    "    id_to_submit['user_id'].unique\n",
    "    id_to_submit['is_male'] = clf.predict_proba(id_to_submit.merge(usr_emb, how = 'left', on = ['user_id']).drop(['user_id'], axis = 1))[:,1]\n",
    "    \n",
    "id_to_submit.head()"
   ]
  },
  {
   "cell_type": "code",
   "execution_count": 21,
   "id": "d7246b33",
   "metadata": {
    "execution": {
     "iopub.execute_input": "2023-03-26T23:32:34.962678Z",
     "iopub.status.busy": "2023-03-26T23:32:34.962262Z",
     "iopub.status.idle": "2023-03-26T23:32:35.099735Z",
     "shell.execute_reply": "2023-03-26T23:32:35.097993Z"
    },
    "papermill": {
     "duration": 0.15501,
     "end_time": "2023-03-26T23:32:35.103289",
     "exception": false,
     "start_time": "2023-03-26T23:32:34.948279",
     "status": "completed"
    },
    "tags": []
   },
   "outputs": [
    {
     "name": "stdout",
     "output_type": "stream",
     "text": [
      "Current GINI score:  0.681\n"
     ]
    }
   ],
   "source": [
    "print(\"Current GINI score: \", float(f'{2 * m.roc_auc_score(y.iloc[max_test_index], clf.predict_proba(x.iloc[max_test_index])[:,1]) - 1:2.3f}'))"
   ]
  },
  {
   "cell_type": "markdown",
   "id": "d292d053",
   "metadata": {
    "papermill": {
     "duration": 0.013539,
     "end_time": "2023-03-26T23:32:35.130924",
     "exception": false,
     "start_time": "2023-03-26T23:32:35.117385",
     "status": "completed"
    },
    "tags": []
   },
   "source": [
    "## Age prediction"
   ]
  },
  {
   "cell_type": "code",
   "execution_count": 22,
   "id": "8c06ccf6",
   "metadata": {
    "execution": {
     "iopub.execute_input": "2023-03-26T23:32:35.160094Z",
     "iopub.status.busy": "2023-03-26T23:32:35.159554Z",
     "iopub.status.idle": "2023-03-26T23:32:35.166941Z",
     "shell.execute_reply": "2023-03-26T23:32:35.165291Z"
    },
    "papermill": {
     "duration": 0.025543,
     "end_time": "2023-03-26T23:32:35.169980",
     "exception": false,
     "start_time": "2023-03-26T23:32:35.144437",
     "status": "completed"
    },
    "tags": []
   },
   "outputs": [],
   "source": [
    "def age_bucket(x):\n",
    "    return bisect.bisect_left([18,25,35,45,55,65], x)"
   ]
  },
  {
   "cell_type": "code",
   "execution_count": 23,
   "id": "75a54ef4",
   "metadata": {
    "execution": {
     "iopub.execute_input": "2023-03-26T23:32:35.319378Z",
     "iopub.status.busy": "2023-03-26T23:32:35.318871Z",
     "iopub.status.idle": "2023-03-26T23:32:38.039822Z",
     "shell.execute_reply": "2023-03-26T23:32:38.038600Z"
    },
    "papermill": {
     "duration": 2.859079,
     "end_time": "2023-03-26T23:32:38.042604",
     "exception": false,
     "start_time": "2023-03-26T23:32:35.183525",
     "status": "completed"
    },
    "tags": []
   },
   "outputs": [
    {
     "data": {
      "text/plain": [
       "<AxesSubplot:xlabel='age', ylabel='Count'>"
      ]
     },
     "execution_count": 23,
     "metadata": {},
     "output_type": "execute_result"
    },
    {
     "data": {
      "image/png": "[encoded data removed]",
      "text/plain": [
       "<Figure size 432x288 with 1 Axes>"
      ]
     },
     "metadata": {},
     "output_type": "display_data"
    }
   ],
   "source": [
    "df = usr_targets.merge(usr_emb, how = 'inner', on = ['user_id'])\n",
    "df = df[df['age'] != 'NA']\n",
    "df = df.dropna()\n",
    "df['age'] = df['age'].map(age_bucket)\n",
    "sns.histplot(df['age'], bins = 7)"
   ]
  },
  {
   "cell_type": "code",
   "execution_count": 24,
   "id": "a6e62af8",
   "metadata": {
    "execution": {
     "iopub.execute_input": "2023-03-26T23:32:38.074267Z",
     "iopub.status.busy": "2023-03-26T23:32:38.073687Z",
     "iopub.status.idle": "2023-03-26T23:32:38.082565Z",
     "shell.execute_reply": "2023-03-26T23:32:38.080821Z"
    },
    "papermill": {
     "duration": 0.027907,
     "end_time": "2023-03-26T23:32:38.085706",
     "exception": false,
     "start_time": "2023-03-26T23:32:38.057799",
     "status": "completed"
    },
    "tags": []
   },
   "outputs": [],
   "source": [
    "max_f1 = 0\n",
    "train_index = 0\n",
    "test_index = 0\n",
    "\n",
    "if IS_MODEL_CATBOOST:\n",
    "    clf = CatBoostClassifier()\n",
    "elif IS_MODEL_RANDFOREST:\n",
    "    clf = RandomForestClassifier(random_state=SPLIT_SEED)"
   ]
  },
  {
   "cell_type": "code",
   "execution_count": 25,
   "id": "b2a906d5",
   "metadata": {
    "execution": {
     "iopub.execute_input": "2023-03-26T23:32:38.116519Z",
     "iopub.status.busy": "2023-03-26T23:32:38.115938Z",
     "iopub.status.idle": "2023-03-27T00:11:53.429505Z",
     "shell.execute_reply": "2023-03-27T00:11:53.427900Z"
    },
    "papermill": {
     "duration": 2355.34598,
     "end_time": "2023-03-27T00:11:53.445779",
     "exception": false,
     "start_time": "2023-03-26T23:32:38.099799",
     "status": "completed"
    },
    "tags": []
   },
   "outputs": [
    {
     "name": "stdout",
     "output_type": "stream",
     "text": [
      "Train indexes: [51351 51352 51353 51354 51355]; Test indexes: [0 1 2 3 4];\n",
      "Train length: 205403; Test length: 51351; Dataset length: 256754;\n",
      "Current F1 is 0.4138879343850203, current max is 0.4138879343850203\n",
      "\n",
      "Train indexes: [0 1 2 3 4]; Test indexes: [51351 51352 51353 51354 51355];\n",
      "Train length: 205403; Test length: 51351; Dataset length: 256754;\n",
      "Current F1 is 0.414398548614778, current max is 0.414398548614778\n",
      "\n",
      "Train indexes: [0 1 2 3 4]; Test indexes: [102702 102703 102704 102705 102706];\n",
      "Train length: 205403; Test length: 51351; Dataset length: 256754;\n",
      "Current F1 is 0.41528066744881015, current max is 0.41528066744881015\n",
      "\n",
      "Train indexes: [0 1 2 3 4]; Test indexes: [154053 154054 154055 154056 154057];\n",
      "Train length: 205403; Test length: 51351; Dataset length: 256754;\n",
      "Current F1 is 0.41089908411800824, current max is 0.41528066744881015\n",
      "\n",
      "Train indexes: [0 1 2 3 4]; Test indexes: [205404 205405 205406 205407 205408];\n",
      "Train length: 205404; Test length: 51350; Dataset length: 256754;\n",
      "Current F1 is 0.4134194387817786, current max is 0.41528066744881015\n",
      "\n"
     ]
    }
   ],
   "source": [
    "if IS_MODEL_CATBOOST or IS_MODEL_RANDFOREST:\n",
    "    x = df.drop(['user_id', 'age', 'is_male'], axis = 1)\n",
    "    y = df['age']\n",
    "\n",
    "    kf = KFold(n_splits=KFOLD_SPLITS)\n",
    "\n",
    "    for train_index, test_index in kf.split(x):\n",
    "        print(\"Train indexes: \", train_index[:5],\n",
    "              \"; Test indexes: \", test_index[:5], \";\\n\",\n",
    "              \"Train length: \", len(train_index), \n",
    "              \"; Test length: \", len(test_index), \n",
    "              \"; Dataset length: \", len(x), ';', sep='', end='\\n')\n",
    "        \n",
    "        x_train, x_test = x.iloc[train_index], x.iloc[test_index]\n",
    "        y_train, y_test = y.iloc[train_index], y.iloc[test_index]\n",
    "        if IS_MODEL_CATBOOST:\n",
    "            clf.fit(x_train, y_train, verbose = False)\n",
    "        elif IS_MODEL_RANDFOREST:\n",
    "            clf.fit(x_train, y_train)\n",
    "        \n",
    "        f1 = m.f1_score(y_test, clf.predict(x_test), average='weighted')\n",
    "        if f1 > max_f1:\n",
    "            max_f1 = f1\n",
    "            max_train_index = train_index\n",
    "            max_test_index = test_index\n",
    "        \n",
    "        print(f'Current F1 is {f1}, current max is {max_f1}', end=\"\\n\\n\")"
   ]
  },
  {
   "cell_type": "code",
   "execution_count": 26,
   "id": "7c652112",
   "metadata": {
    "execution": {
     "iopub.execute_input": "2023-03-27T00:11:53.475275Z",
     "iopub.status.busy": "2023-03-27T00:11:53.474725Z",
     "iopub.status.idle": "2023-03-27T00:11:53.482793Z",
     "shell.execute_reply": "2023-03-27T00:11:53.481248Z"
    },
    "papermill": {
     "duration": 0.026125,
     "end_time": "2023-03-27T00:11:53.485580",
     "exception": false,
     "start_time": "2023-03-27T00:11:53.459455",
     "status": "completed"
    },
    "tags": []
   },
   "outputs": [
    {
     "name": "stdout",
     "output_type": "stream",
     "text": [
      "Max F1 is 0.41528066744881015\n",
      "Max train index is [0 1 2 3 4]\n",
      "Max test index is [102702 102703 102704 102705 102706]\n"
     ]
    }
   ],
   "source": [
    "print(f'Max F1 is {max_f1}')\n",
    "print(f'Max train index is {max_train_index[:5]}')\n",
    "print(f'Max test index is {max_test_index[:5]}')"
   ]
  },
  {
   "cell_type": "code",
   "execution_count": 27,
   "id": "a3f5cdf2",
   "metadata": {
    "execution": {
     "iopub.execute_input": "2023-03-27T00:11:53.515435Z",
     "iopub.status.busy": "2023-03-27T00:11:53.514899Z",
     "iopub.status.idle": "2023-03-27T00:19:45.289542Z",
     "shell.execute_reply": "2023-03-27T00:19:45.288235Z"
    },
    "papermill": {
     "duration": 471.807313,
     "end_time": "2023-03-27T00:19:45.306467",
     "exception": false,
     "start_time": "2023-03-27T00:11:53.499154",
     "status": "completed"
    },
    "tags": []
   },
   "outputs": [
    {
     "data": {
      "text/html": [
       "<div>\n",
       "<style scoped>\n",
       "    .dataframe tbody tr th:only-of-type {\n",
       "        vertical-align: middle;\n",
       "    }\n",
       "\n",
       "    .dataframe tbody tr th {\n",
       "        vertical-align: top;\n",
       "    }\n",
       "\n",
       "    .dataframe thead th {\n",
       "        text-align: right;\n",
       "    }\n",
       "</style>\n",
       "<table border=\"1\" class=\"dataframe\">\n",
       "  <thead>\n",
       "    <tr style=\"text-align: right;\">\n",
       "      <th></th>\n",
       "      <th>user_id</th>\n",
       "      <th>is_male</th>\n",
       "      <th>age</th>\n",
       "    </tr>\n",
       "  </thead>\n",
       "  <tbody>\n",
       "    <tr>\n",
       "      <th>0</th>\n",
       "      <td>221301</td>\n",
       "      <td>0.958721</td>\n",
       "      <td>2</td>\n",
       "    </tr>\n",
       "    <tr>\n",
       "      <th>1</th>\n",
       "      <td>31271</td>\n",
       "      <td>0.514848</td>\n",
       "      <td>3</td>\n",
       "    </tr>\n",
       "    <tr>\n",
       "      <th>2</th>\n",
       "      <td>211594</td>\n",
       "      <td>0.504314</td>\n",
       "      <td>3</td>\n",
       "    </tr>\n",
       "    <tr>\n",
       "      <th>3</th>\n",
       "      <td>253119</td>\n",
       "      <td>0.514111</td>\n",
       "      <td>3</td>\n",
       "    </tr>\n",
       "    <tr>\n",
       "      <th>4</th>\n",
       "      <td>192578</td>\n",
       "      <td>0.830219</td>\n",
       "      <td>2</td>\n",
       "    </tr>\n",
       "  </tbody>\n",
       "</table>\n",
       "</div>"
      ],
      "text/plain": [
       "   user_id   is_male  age\n",
       "0   221301  0.958721    2\n",
       "1    31271  0.514848    3\n",
       "2   211594  0.504314    3\n",
       "3   253119  0.514111    3\n",
       "4   192578  0.830219    2"
      ]
     },
     "execution_count": 27,
     "metadata": {},
     "output_type": "execute_result"
    }
   ],
   "source": [
    "if IS_MODEL_CATBOOST or IS_MODEL_RANDFOREST:\n",
    "    if IS_MODEL_CATBOOST:\n",
    "        clf.fit(x.iloc[max_train_index], y.iloc[max_train_index], verbose = False)\n",
    "    elif IS_MODEL_RANDFOREST:\n",
    "        clf.fit(x.iloc[max_train_index], y.iloc[max_train_index])\n",
    "    id_to_submit['age'] = clf.predict(id_to_submit[['user_id']].merge(usr_emb, how = 'left', on = ['user_id']).drop(['user_id'], axis = 1))\n",
    "    \n",
    "id_to_submit.head()"
   ]
  },
  {
   "cell_type": "code",
   "execution_count": 28,
   "id": "d57b1691",
   "metadata": {
    "execution": {
     "iopub.execute_input": "2023-03-27T00:19:45.337078Z",
     "iopub.status.busy": "2023-03-27T00:19:45.335366Z",
     "iopub.status.idle": "2023-03-27T00:19:45.655351Z",
     "shell.execute_reply": "2023-03-27T00:19:45.653493Z"
    },
    "papermill": {
     "duration": 0.338285,
     "end_time": "2023-03-27T00:19:45.658302",
     "exception": false,
     "start_time": "2023-03-27T00:19:45.320017",
     "status": "completed"
    },
    "tags": []
   },
   "outputs": [
    {
     "name": "stdout",
     "output_type": "stream",
     "text": [
      "              precision    recall  f1-score   support\n",
      "\n",
      "       18-25       0.53      0.30      0.38      6256\n",
      "       25-34       0.48      0.63      0.54     16816\n",
      "       35-44       0.39      0.52      0.45     14879\n",
      "       45-54       0.36      0.19      0.25      7881\n",
      "       55-65       0.44      0.18      0.26      4442\n",
      "         65+       0.33      0.02      0.03      1077\n",
      "\n",
      "    accuracy                           0.44     51351\n",
      "   macro avg       0.42      0.31      0.32     51351\n",
      "weighted avg       0.43      0.44      0.42     51351\n",
      "\n"
     ]
    }
   ],
   "source": [
    "if IS_MODEL_CATBOOST or IS_MODEL_RANDFOREST:\n",
    "    print(m.classification_report(\n",
    "          y.iloc[max_test_index], \n",
    "          clf.predict(x.iloc[max_test_index]), \n",
    "          target_names = ['18-25','25-34', '35-44', '45-54', '55-65', '65+']\n",
    "    ))"
   ]
  },
  {
   "cell_type": "markdown",
   "id": "e89765b4",
   "metadata": {
    "papermill": {
     "duration": 0.013931,
     "end_time": "2023-03-27T00:19:45.686169",
     "exception": false,
     "start_time": "2023-03-27T00:19:45.672238",
     "status": "completed"
    },
    "tags": []
   },
   "source": [
    "## Submission"
   ]
  },
  {
   "cell_type": "code",
   "execution_count": 29,
   "id": "88507ef7",
   "metadata": {
    "execution": {
     "iopub.execute_input": "2023-03-27T00:19:45.716068Z",
     "iopub.status.busy": "2023-03-27T00:19:45.714868Z",
     "iopub.status.idle": "2023-03-27T00:19:46.134284Z",
     "shell.execute_reply": "2023-03-27T00:19:46.132634Z"
    },
    "papermill": {
     "duration": 0.437874,
     "end_time": "2023-03-27T00:19:46.137722",
     "exception": false,
     "start_time": "2023-03-27T00:19:45.699848",
     "status": "completed"
    },
    "tags": []
   },
   "outputs": [
    {
     "data": {
      "text/html": [
       "<div>\n",
       "<style scoped>\n",
       "    .dataframe tbody tr th:only-of-type {\n",
       "        vertical-align: middle;\n",
       "    }\n",
       "\n",
       "    .dataframe tbody tr th {\n",
       "        vertical-align: top;\n",
       "    }\n",
       "\n",
       "    .dataframe thead th {\n",
       "        text-align: right;\n",
       "    }\n",
       "</style>\n",
       "<table border=\"1\" class=\"dataframe\">\n",
       "  <thead>\n",
       "    <tr style=\"text-align: right;\">\n",
       "      <th></th>\n",
       "      <th>user_id</th>\n",
       "      <th>is_male</th>\n",
       "      <th>age</th>\n",
       "    </tr>\n",
       "  </thead>\n",
       "  <tbody>\n",
       "    <tr>\n",
       "      <th>0</th>\n",
       "      <td>221301</td>\n",
       "      <td>0.958721</td>\n",
       "      <td>2</td>\n",
       "    </tr>\n",
       "    <tr>\n",
       "      <th>1</th>\n",
       "      <td>31271</td>\n",
       "      <td>0.514848</td>\n",
       "      <td>3</td>\n",
       "    </tr>\n",
       "    <tr>\n",
       "      <th>2</th>\n",
       "      <td>211594</td>\n",
       "      <td>0.504314</td>\n",
       "      <td>3</td>\n",
       "    </tr>\n",
       "    <tr>\n",
       "      <th>3</th>\n",
       "      <td>253119</td>\n",
       "      <td>0.514111</td>\n",
       "      <td>3</td>\n",
       "    </tr>\n",
       "    <tr>\n",
       "      <th>4</th>\n",
       "      <td>192578</td>\n",
       "      <td>0.830219</td>\n",
       "      <td>2</td>\n",
       "    </tr>\n",
       "  </tbody>\n",
       "</table>\n",
       "</div>"
      ],
      "text/plain": [
       "   user_id   is_male  age\n",
       "0   221301  0.958721    2\n",
       "1    31271  0.514848    3\n",
       "2   211594  0.504314    3\n",
       "3   253119  0.514111    3\n",
       "4   192578  0.830219    2"
      ]
     },
     "metadata": {},
     "output_type": "display_data"
    },
    {
     "data": {
      "text/plain": [
       "0.337307    3777\n",
       "0.500877      89\n",
       "0.512096      74\n",
       "0.503630      69\n",
       "0.487968      61\n",
       "            ... \n",
       "0.036573       1\n",
       "0.411905       1\n",
       "0.333259       1\n",
       "0.004926       1\n",
       "0.658295       1\n",
       "Name: is_male, Length: 138163, dtype: int64"
      ]
     },
     "metadata": {},
     "output_type": "display_data"
    },
    {
     "data": {
      "text/plain": [
       "2    60118\n",
       "3    58475\n",
       "4    11267\n",
       "1     9474\n",
       "5     5269\n",
       "6      121\n",
       "Name: age, dtype: int64"
      ]
     },
     "metadata": {},
     "output_type": "display_data"
    }
   ],
   "source": [
    "display(id_to_submit.head())\n",
    "display(id_to_submit.is_male.value_counts())\n",
    "display(id_to_submit.age.value_counts())\n",
    "id_to_submit.to_csv('submission.csv', index = False)"
   ]
  },
  {
   "cell_type": "code",
   "execution_count": 30,
   "id": "05aa965b",
   "metadata": {
    "execution": {
     "iopub.execute_input": "2023-03-27T00:19:46.168355Z",
     "iopub.status.busy": "2023-03-27T00:19:46.167892Z",
     "iopub.status.idle": "2023-03-27T00:19:46.175524Z",
     "shell.execute_reply": "2023-03-27T00:19:46.173870Z"
    },
    "papermill": {
     "duration": 0.026544,
     "end_time": "2023-03-27T00:19:46.178627",
     "exception": false,
     "start_time": "2023-03-27T00:19:46.152083",
     "status": "completed"
    },
    "tags": []
   },
   "outputs": [
    {
     "name": "stdout",
     "output_type": "stream",
     "text": [
      "Score: 1.5115613348976202\n"
     ]
    }
   ],
   "source": [
    "print(f'Score: {max_gini + 2*max_f1}')"
   ]
  }
 ],
 "metadata": {
  "kernelspec": {
   "display_name": "Python 3",
   "language": "python",
   "name": "python3"
  },
  "language_info": {
   "codemirror_mode": {
    "name": "ipython",
    "version": 3
   },
   "file_extension": ".py",
   "mimetype": "text/x-python",
   "name": "python",
   "nbconvert_exporter": "python",
   "pygments_lexer": "ipython3",
   "version": "3.7.12"
  },
  "papermill": {
   "default_parameters": {},
   "duration": 15839.070767,
   "end_time": "2023-03-27T00:19:49.151495",
   "environment_variables": {},
   "exception": null,
   "input_path": "__notebook__.ipynb",
   "output_path": "__notebook__.ipynb",
   "parameters": {},
   "start_time": "2023-03-26T19:55:50.080728",
   "version": "2.3.4"
  },
  "widgets": {
   "application/vnd.jupyter.widget-state+json": {
    "state": {
     "0870a7f987064d69ad152fc7e870b993": {
      "model_module": "@jupyter-widgets/base",
      "model_module_version": "1.2.0",
      "model_name": "LayoutModel",
      "state": {
       "_model_module": "@jupyter-widgets/base",
       "_model_module_version": "1.2.0",
       "_model_name": "LayoutModel",
       "_view_count": null,
       "_view_module": "@jupyter-widgets/base",
       "_view_module_version": "1.2.0",
       "_view_name": "LayoutView",
       "align_content": null,
       "align_items": null,
       "align_self": null,
       "border": null,
       "bottom": null,
       "display": null,
       "flex": null,
       "flex_flow": null,
       "grid_area": null,
       "grid_auto_columns": null,
       "grid_auto_flow": null,
       "grid_auto_rows": null,
       "grid_column": null,
       "grid_gap": null,
       "grid_row": null,
       "grid_template_areas": null,
       "grid_template_columns": null,
       "grid_template_rows": null,
       "height": null,
       "justify_content": null,
       "justify_items": null,
       "left": null,
       "margin": null,
       "max_height": null,
       "max_width": null,
       "min_height": null,
       "min_width": null,
       "object_fit": null,
       "object_position": null,
       "order": null,
       "overflow": null,
       "overflow_x": null,
       "overflow_y": null,
       "padding": null,
       "right": null,
       "top": null,
       "visibility": null,
       "width": null
      }
     },
     "5bb030d1dc914b4d89e6f9a2957a57f1": {
      "model_module": "@jupyter-widgets/controls",
      "model_module_version": "1.5.0",
      "model_name": "HTMLModel",
      "state": {
       "_dom_classes": [],
       "_model_module": "@jupyter-widgets/controls",
       "_model_module_version": "1.5.0",
       "_model_name": "HTMLModel",
       "_view_count": null,
       "_view_module": "@jupyter-widgets/controls",
       "_view_module_version": "1.5.0",
       "_view_name": "HTMLView",
       "description": "",
       "description_tooltip": null,
       "layout": "IPY_MODEL_0870a7f987064d69ad152fc7e870b993",
       "placeholder": "​",
       "style": "IPY_MODEL_badfd3d5aede4c8caed96e7c51967f58",
       "value": " 200/200 [3:20:16&lt;00:00, 59.23s/it, loss=0.000249]"
      }
     },
     "9b07e8d9c7044711a8392d6b712a8e3e": {
      "model_module": "@jupyter-widgets/controls",
      "model_module_version": "1.5.0",
      "model_name": "HTMLModel",
      "state": {
       "_dom_classes": [],
       "_model_module": "@jupyter-widgets/controls",
       "_model_module_version": "1.5.0",
       "_model_name": "HTMLModel",
       "_view_count": null,
       "_view_module": "@jupyter-widgets/controls",
       "_view_module_version": "1.5.0",
       "_view_name": "HTMLView",
       "description": "",
       "description_tooltip": null,
       "layout": "IPY_MODEL_ce09f5fb0e154495aaa249a1df0c2001",
       "placeholder": "​",
       "style": "IPY_MODEL_a46287e2e3a24a009b89a74b6729f8fb",
       "value": "100%"
      }
     },
     "a46287e2e3a24a009b89a74b6729f8fb": {
      "model_module": "@jupyter-widgets/controls",
      "model_module_version": "1.5.0",
      "model_name": "DescriptionStyleModel",
      "state": {
       "_model_module": "@jupyter-widgets/controls",
       "_model_module_version": "1.5.0",
       "_model_name": "DescriptionStyleModel",
       "_view_count": null,
       "_view_module": "@jupyter-widgets/base",
       "_view_module_version": "1.2.0",
       "_view_name": "StyleView",
       "description_width": ""
      }
     },
     "badfd3d5aede4c8caed96e7c51967f58": {
      "model_module": "@jupyter-widgets/controls",
      "model_module_version": "1.5.0",
      "model_name": "DescriptionStyleModel",
      "state": {
       "_model_module": "@jupyter-widgets/controls",
       "_model_module_version": "1.5.0",
       "_model_name": "DescriptionStyleModel",
       "_view_count": null,
       "_view_module": "@jupyter-widgets/base",
       "_view_module_version": "1.2.0",
       "_view_name": "StyleView",
       "description_width": ""
      }
     },
     "ce09f5fb0e154495aaa249a1df0c2001": {
      "model_module": "@jupyter-widgets/base",
      "model_module_version": "1.2.0",
      "model_name": "LayoutModel",
      "state": {
       "_model_module": "@jupyter-widgets/base",
       "_model_module_version": "1.2.0",
       "_model_name": "LayoutModel",
       "_view_count": null,
       "_view_module": "@jupyter-widgets/base",
       "_view_module_version": "1.2.0",
       "_view_name": "LayoutView",
       "align_content": null,
       "align_items": null,
       "align_self": null,
       "border": null,
       "bottom": null,
       "display": null,
       "flex": null,
       "flex_flow": null,
       "grid_area": null,
       "grid_auto_columns": null,
       "grid_auto_flow": null,
       "grid_auto_rows": null,
       "grid_column": null,
       "grid_gap": null,
       "grid_row": null,
       "grid_template_areas": null,
       "grid_template_columns": null,
       "grid_template_rows": null,
       "height": null,
       "justify_content": null,
       "justify_items": null,
       "left": null,
       "margin": null,
       "max_height": null,
       "max_width": null,
       "min_height": null,
       "min_width": null,
       "object_fit": null,
       "object_position": null,
       "order": null,
       "overflow": null,
       "overflow_x": null,
       "overflow_y": null,
       "padding": null,
       "right": null,
       "top": null,
       "visibility": null,
       "width": null
      }
     },
     "d5900b97745c40a3a8df34f0a20c7011": {
      "model_module": "@jupyter-widgets/base",
      "model_module_version": "1.2.0",
      "model_name": "LayoutModel",
      "state": {
       "_model_module": "@jupyter-widgets/base",
       "_model_module_version": "1.2.0",
       "_model_name": "LayoutModel",
       "_view_count": null,
       "_view_module": "@jupyter-widgets/base",
       "_view_module_version": "1.2.0",
       "_view_name": "LayoutView",
       "align_content": null,
       "align_items": null,
       "align_self": null,
       "border": null,
       "bottom": null,
       "display": null,
       "flex": null,
       "flex_flow": null,
       "grid_area": null,
       "grid_auto_columns": null,
       "grid_auto_flow": null,
       "grid_auto_rows": null,
       "grid_column": null,
       "grid_gap": null,
       "grid_row": null,
       "grid_template_areas": null,
       "grid_template_columns": null,
       "grid_template_rows": null,
       "height": null,
       "justify_content": null,
       "justify_items": null,
       "left": null,
       "margin": null,
       "max_height": null,
       "max_width": null,
       "min_height": null,
       "min_width": null,
       "object_fit": null,
       "object_position": null,
       "order": null,
       "overflow": null,
       "overflow_x": null,
       "overflow_y": null,
       "padding": null,
       "right": null,
       "top": null,
       "visibility": null,
       "width": null
      }
     },
     "d609d4fd42ab4cf4b604cdd123ba575a": {
      "model_module": "@jupyter-widgets/controls",
      "model_module_version": "1.5.0",
      "model_name": "FloatProgressModel",
      "state": {
       "_dom_classes": [],
       "_model_module": "@jupyter-widgets/controls",
       "_model_module_version": "1.5.0",
       "_model_name": "FloatProgressModel",
       "_view_count": null,
       "_view_module": "@jupyter-widgets/controls",
       "_view_module_version": "1.5.0",
       "_view_name": "ProgressView",
       "bar_style": "success",
       "description": "",
       "description_tooltip": null,
       "layout": "IPY_MODEL_d5900b97745c40a3a8df34f0a20c7011",
       "max": 200.0,
       "min": 0.0,
       "orientation": "horizontal",
       "style": "IPY_MODEL_db7cfdcd9e654aafaf2fd98de4348032",
       "value": 200.0
      }
     },
     "db7cfdcd9e654aafaf2fd98de4348032": {
      "model_module": "@jupyter-widgets/controls",
      "model_module_version": "1.5.0",
      "model_name": "ProgressStyleModel",
      "state": {
       "_model_module": "@jupyter-widgets/controls",
       "_model_module_version": "1.5.0",
       "_model_name": "ProgressStyleModel",
       "_view_count": null,
       "_view_module": "@jupyter-widgets/base",
       "_view_module_version": "1.2.0",
       "_view_name": "StyleView",
       "bar_color": null,
       "description_width": ""
      }
     },
     "e763d0cbede74beeba20b81cb78b1485": {
      "model_module": "@jupyter-widgets/controls",
      "model_module_version": "1.5.0",
      "model_name": "HBoxModel",
      "state": {
       "_dom_classes": [],
       "_model_module": "@jupyter-widgets/controls",
       "_model_module_version": "1.5.0",
       "_model_name": "HBoxModel",
       "_view_count": null,
       "_view_module": "@jupyter-widgets/controls",
       "_view_module_version": "1.5.0",
       "_view_name": "HBoxView",
       "box_style": "",
       "children": [
        "IPY_MODEL_9b07e8d9c7044711a8392d6b712a8e3e",
        "IPY_MODEL_d609d4fd42ab4cf4b604cdd123ba575a",
        "IPY_MODEL_5bb030d1dc914b4d89e6f9a2957a57f1"
       ],
       "layout": "IPY_MODEL_f08986f70b8f48c184deb1459558ca59"
      }
     },
     "f08986f70b8f48c184deb1459558ca59": {
      "model_module": "@jupyter-widgets/base",
      "model_module_version": "1.2.0",
      "model_name": "LayoutModel",
      "state": {
       "_model_module": "@jupyter-widgets/base",
       "_model_module_version": "1.2.0",
       "_model_name": "LayoutModel",
       "_view_count": null,
       "_view_module": "@jupyter-widgets/base",
       "_view_module_version": "1.2.0",
       "_view_name": "LayoutView",
       "align_content": null,
       "align_items": null,
       "align_self": null,
       "border": null,
       "bottom": null,
       "display": null,
       "flex": null,
       "flex_flow": null,
       "grid_area": null,
       "grid_auto_columns": null,
       "grid_auto_flow": null,
       "grid_auto_rows": null,
       "grid_column": null,
       "grid_gap": null,
       "grid_row": null,
       "grid_template_areas": null,
       "grid_template_columns": null,
       "grid_template_rows": null,
       "height": null,
       "justify_content": null,
       "justify_items": null,
       "left": null,
       "margin": null,
       "max_height": null,
       "max_width": null,
       "min_height": null,
       "min_width": null,
       "object_fit": null,
       "object_position": null,
       "order": null,
       "overflow": null,
       "overflow_x": null,
       "overflow_y": null,
       "padding": null,
       "right": null,
       "top": null,
       "visibility": null,
       "width": null
      }
     }
    },
    "version_major": 2,
    "version_minor": 0
   }
  }
 },
 "nbformat": 4,
 "nbformat_minor": 5
}
