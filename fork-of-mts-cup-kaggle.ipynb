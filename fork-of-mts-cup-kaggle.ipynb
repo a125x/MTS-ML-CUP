{
 "cells": [
  {
   "cell_type": "markdown",
   "id": "252fa519",
   "metadata": {
    "papermill": {
     "duration": 0.009617,
     "end_time": "2023-03-27T11:43:35.409978",
     "exception": false,
     "start_time": "2023-03-27T11:43:35.400361",
     "status": "completed"
    },
    "tags": []
   },
   "source": [
    "## Imports and constants"
   ]
  },
  {
   "cell_type": "markdown",
   "id": "982f2ed3",
   "metadata": {
    "papermill": {
     "duration": 0.007895,
     "end_time": "2023-03-27T11:43:35.426420",
     "exception": false,
     "start_time": "2023-03-27T11:43:35.418525",
     "status": "completed"
    },
    "tags": []
   },
   "source": [
    "to do: \n",
    "\n",
    "transformers, features generation,\n",
    "fix left bisect as described in the changed rules"
   ]
  },
  {
   "cell_type": "code",
   "execution_count": 1,
   "id": "04f648ef",
   "metadata": {
    "execution": {
     "iopub.execute_input": "2023-03-27T11:43:35.445719Z",
     "iopub.status.busy": "2023-03-27T11:43:35.444706Z",
     "iopub.status.idle": "2023-03-27T11:43:35.458196Z",
     "shell.execute_reply": "2023-03-27T11:43:35.457347Z"
    },
    "papermill": {
     "duration": 0.026078,
     "end_time": "2023-03-27T11:43:35.460711",
     "exception": false,
     "start_time": "2023-03-27T11:43:35.434633",
     "status": "completed"
    },
    "tags": []
   },
   "outputs": [],
   "source": [
    "SPLIT_SEED = 42\n",
    "KFOLD_SPLITS = 5\n",
    "\n",
    "IS_EMBEDDING_USED = True\n",
    "if IS_EMBEDDING_USED:\n",
    "    IS_GPU_USED = False\n",
    "    FAISS_ITERATIONS = 100\n",
    "    FACTORS = 100\n",
    "    \n",
    "IS_POLARS_USED = True\n",
    "    \n",
    "IS_NOTEBOOK_ON_KAGGLE = True\n",
    "IS_NOTBOOK_ON_COLAB = False\n",
    "\n",
    "IS_MODEL_TRANSFORMERS4REC = False\n",
    "IS_MODEL_CATBOOST = True\n",
    "IS_MODEL_RANDFOREST = False"
   ]
  },
  {
   "cell_type": "code",
   "execution_count": 2,
   "id": "fc2d0fcc",
   "metadata": {
    "_kg_hide-input": true,
    "execution": {
     "iopub.execute_input": "2023-03-27T11:43:35.479831Z",
     "iopub.status.busy": "2023-03-27T11:43:35.479040Z",
     "iopub.status.idle": "2023-03-27T11:44:20.443497Z",
     "shell.execute_reply": "2023-03-27T11:44:20.442189Z"
    },
    "papermill": {
     "duration": 44.977515,
     "end_time": "2023-03-27T11:44:20.446742",
     "exception": false,
     "start_time": "2023-03-27T11:43:35.469227",
     "status": "completed"
    },
    "tags": []
   },
   "outputs": [
    {
     "name": "stdout",
     "output_type": "stream",
     "text": [
      "\u001b[33mWARNING: Running pip as the 'root' user can result in broken permissions and conflicting behaviour with the system package manager. It is recommended to use a virtual environment instead: https://pip.pypa.io/warnings/venv\u001b[0m\u001b[33m\r\n",
      "\u001b[0m\u001b[33mWARNING: Running pip as the 'root' user can result in broken permissions and conflicting behaviour with the system package manager. It is recommended to use a virtual environment instead: https://pip.pypa.io/warnings/venv\u001b[0m\u001b[33m\r\n",
      "\u001b[0m\u001b[33mWARNING: Running pip as the 'root' user can result in broken permissions and conflicting behaviour with the system package manager. It is recommended to use a virtual environment instead: https://pip.pypa.io/warnings/venv\u001b[0m\u001b[33m\r\n",
      "\u001b[0m"
     ]
    }
   ],
   "source": [
    "!pip install feather-format >> none -q\n",
    "!pip install polars -q\n",
    "\n",
    "import bisect\n",
    "import matplotlib.pyplot as plt\n",
    "import numpy as np\n",
    "import os\n",
    "import pandas as pd\n",
    "import plotly.express as px\n",
    "import polars as pl\n",
    "import pyarrow as pa\n",
    "import pyarrow.parquet as pq\n",
    "import seaborn as sns\n",
    "import sklearn.metrics as m\n",
    "import sys\n",
    "import tensorflow as tf\n",
    "import time\n",
    "import warnings\n",
    "\n",
    "from pathlib import Path\n",
    "from sklearn.model_selection import KFold\n",
    "\n",
    "if IS_EMBEDDING_USED:\n",
    "    !pip install faiss-cpu --no-cache -q\n",
    "    \n",
    "    import implicit\n",
    "    import scipy\n",
    "\n",
    "if IS_MODEL_RANDFOREST:\n",
    "    from sklearn.ensemble import RandomForestClassifier\n",
    "\n",
    "if IS_MODEL_CATBOOST:\n",
    "    from catboost import CatBoostClassifier, CatBoostRegressor, Pool\n",
    "\n",
    "%matplotlib inline\n",
    "sns.set_style('darkgrid')\n",
    "warnings.filterwarnings('ignore')"
   ]
  },
  {
   "cell_type": "code",
   "execution_count": 3,
   "id": "c8c748d0",
   "metadata": {
    "_kg_hide-input": true,
    "execution": {
     "iopub.execute_input": "2023-03-27T11:44:20.473697Z",
     "iopub.status.busy": "2023-03-27T11:44:20.471811Z",
     "iopub.status.idle": "2023-03-27T11:44:20.479229Z",
     "shell.execute_reply": "2023-03-27T11:44:20.478160Z"
    },
    "papermill": {
     "duration": 0.02246,
     "end_time": "2023-03-27T11:44:20.481610",
     "exception": false,
     "start_time": "2023-03-27T11:44:20.459150",
     "status": "completed"
    },
    "tags": []
   },
   "outputs": [],
   "source": [
    "if IS_NOTEBOOK_ON_KAGGLE:\n",
    "    LOCAL_DATA_PATH = Path('/kaggle', 'input', 'mts-ml-cookies')\n",
    "    DATA_FILE = Path('dataset_full.feather')\n",
    "    TARGET_FILE = Path('target_train.feather')\n",
    "    SUBMISSION_FILE = Path('submission.feather')"
   ]
  },
  {
   "cell_type": "markdown",
   "id": "b2248ea9",
   "metadata": {
    "papermill": {
     "duration": 0.0081,
     "end_time": "2023-03-27T11:44:20.498275",
     "exception": false,
     "start_time": "2023-03-27T11:44:20.490175",
     "status": "completed"
    },
    "tags": []
   },
   "source": [
    "## Showing data"
   ]
  },
  {
   "cell_type": "code",
   "execution_count": 4,
   "id": "930865fa",
   "metadata": {
    "execution": {
     "iopub.execute_input": "2023-03-27T11:44:20.518998Z",
     "iopub.status.busy": "2023-03-27T11:44:20.518069Z",
     "iopub.status.idle": "2023-03-27T11:44:20.637761Z",
     "shell.execute_reply": "2023-03-27T11:44:20.636582Z"
    },
    "papermill": {
     "duration": 0.13291,
     "end_time": "2023-03-27T11:44:20.640856",
     "exception": false,
     "start_time": "2023-03-27T11:44:20.507946",
     "status": "completed"
    },
    "tags": []
   },
   "outputs": [
    {
     "data": {
      "text/html": [
       "<div>\n",
       "<style scoped>\n",
       "    .dataframe tbody tr th:only-of-type {\n",
       "        vertical-align: middle;\n",
       "    }\n",
       "\n",
       "    .dataframe tbody tr th {\n",
       "        vertical-align: top;\n",
       "    }\n",
       "\n",
       "    .dataframe thead th {\n",
       "        text-align: right;\n",
       "    }\n",
       "</style>\n",
       "<table border=\"1\" class=\"dataframe\">\n",
       "  <thead>\n",
       "    <tr style=\"text-align: right;\">\n",
       "      <th></th>\n",
       "      <th>user_id</th>\n",
       "    </tr>\n",
       "  </thead>\n",
       "  <tbody>\n",
       "    <tr>\n",
       "      <th>0</th>\n",
       "      <td>221301</td>\n",
       "    </tr>\n",
       "    <tr>\n",
       "      <th>1</th>\n",
       "      <td>31271</td>\n",
       "    </tr>\n",
       "    <tr>\n",
       "      <th>2</th>\n",
       "      <td>211594</td>\n",
       "    </tr>\n",
       "  </tbody>\n",
       "</table>\n",
       "</div>"
      ],
      "text/plain": [
       "   user_id\n",
       "0   221301\n",
       "1    31271\n",
       "2   211594"
      ]
     },
     "metadata": {},
     "output_type": "display_data"
    },
    {
     "data": {
      "text/plain": [
       "<bound method DataFrame.info of         user_id\n",
       "0        221301\n",
       "1         31271\n",
       "2        211594\n",
       "3        253119\n",
       "4        192578\n",
       "...         ...\n",
       "144719   415284\n",
       "144720   415285\n",
       "144721   415286\n",
       "144722   415306\n",
       "144723   415315\n",
       "\n",
       "[144724 rows x 1 columns]>"
      ]
     },
     "metadata": {},
     "output_type": "display_data"
    },
    {
     "data": {
      "text/plain": [
       "<bound method DataFrame.info of         user_id\n",
       "0        221301\n",
       "1         31271\n",
       "2        211594\n",
       "3        253119\n",
       "4        192578\n",
       "...         ...\n",
       "144719   415284\n",
       "144720   415285\n",
       "144721   415286\n",
       "144722   415306\n",
       "144723   415315\n",
       "\n",
       "[144724 rows x 1 columns]>"
      ]
     },
     "metadata": {},
     "output_type": "display_data"
    }
   ],
   "source": [
    "id_to_submit = pd.read_feather(Path(LOCAL_DATA_PATH, SUBMISSION_FILE))\n",
    "display(id_to_submit.head(3))\n",
    "display(id_to_submit.info)\n",
    "id_to_submit.dropna(inplace=True)\n",
    "display(id_to_submit.info)"
   ]
  },
  {
   "cell_type": "code",
   "execution_count": 5,
   "id": "2dad7aa7",
   "metadata": {
    "execution": {
     "iopub.execute_input": "2023-03-27T11:44:20.665234Z",
     "iopub.status.busy": "2023-03-27T11:44:20.664491Z",
     "iopub.status.idle": "2023-03-27T11:44:20.870252Z",
     "shell.execute_reply": "2023-03-27T11:44:20.869014Z"
    },
    "papermill": {
     "duration": 0.22301,
     "end_time": "2023-03-27T11:44:20.872851",
     "exception": false,
     "start_time": "2023-03-27T11:44:20.649841",
     "status": "completed"
    },
    "tags": []
   },
   "outputs": [
    {
     "data": {
      "text/html": [
       "<div>\n",
       "<style scoped>\n",
       "    .dataframe tbody tr th:only-of-type {\n",
       "        vertical-align: middle;\n",
       "    }\n",
       "\n",
       "    .dataframe tbody tr th {\n",
       "        vertical-align: top;\n",
       "    }\n",
       "\n",
       "    .dataframe thead th {\n",
       "        text-align: right;\n",
       "    }\n",
       "</style>\n",
       "<table border=\"1\" class=\"dataframe\">\n",
       "  <thead>\n",
       "    <tr style=\"text-align: right;\">\n",
       "      <th></th>\n",
       "      <th>age</th>\n",
       "      <th>is_male</th>\n",
       "      <th>user_id</th>\n",
       "    </tr>\n",
       "  </thead>\n",
       "  <tbody>\n",
       "    <tr>\n",
       "      <th>0</th>\n",
       "      <td>31.0</td>\n",
       "      <td>1</td>\n",
       "      <td>350459</td>\n",
       "    </tr>\n",
       "    <tr>\n",
       "      <th>1</th>\n",
       "      <td>35.0</td>\n",
       "      <td>1</td>\n",
       "      <td>188276</td>\n",
       "    </tr>\n",
       "    <tr>\n",
       "      <th>2</th>\n",
       "      <td>41.0</td>\n",
       "      <td>0</td>\n",
       "      <td>99002</td>\n",
       "    </tr>\n",
       "    <tr>\n",
       "      <th>3</th>\n",
       "      <td>33.0</td>\n",
       "      <td>0</td>\n",
       "      <td>155506</td>\n",
       "    </tr>\n",
       "    <tr>\n",
       "      <th>4</th>\n",
       "      <td>54.0</td>\n",
       "      <td>0</td>\n",
       "      <td>213873</td>\n",
       "    </tr>\n",
       "  </tbody>\n",
       "</table>\n",
       "</div>"
      ],
      "text/plain": [
       "    age is_male  user_id\n",
       "0  31.0       1   350459\n",
       "1  35.0       1   188276\n",
       "2  41.0       0    99002\n",
       "3  33.0       0   155506\n",
       "4  54.0       0   213873"
      ]
     },
     "metadata": {},
     "output_type": "display_data"
    },
    {
     "data": {
      "text/plain": [
       "<bound method DataFrame.info of          age is_male  user_id\n",
       "0       31.0       1   350459\n",
       "1       35.0       1   188276\n",
       "2       41.0       0    99002\n",
       "3       33.0       0   155506\n",
       "4       54.0       0   213873\n",
       "...      ...     ...      ...\n",
       "269995  49.0       1   225374\n",
       "269996  22.0       1    25776\n",
       "269997  28.0       0   148131\n",
       "269998  28.0       1   205570\n",
       "269999  68.0       1   103148\n",
       "\n",
       "[268922 rows x 3 columns]>"
      ]
     },
     "metadata": {},
     "output_type": "display_data"
    },
    {
     "data": {
      "text/plain": [
       "<bound method DataFrame.info of          age is_male  user_id\n",
       "0       31.0       1   350459\n",
       "1       35.0       1   188276\n",
       "2       41.0       0    99002\n",
       "3       33.0       0   155506\n",
       "4       54.0       0   213873\n",
       "...      ...     ...      ...\n",
       "269995  49.0       1   225374\n",
       "269996  22.0       1    25776\n",
       "269997  28.0       0   148131\n",
       "269998  28.0       1   205570\n",
       "269999  68.0       1   103148\n",
       "\n",
       "[263508 rows x 3 columns]>"
      ]
     },
     "metadata": {},
     "output_type": "display_data"
    },
    {
     "data": {
      "text/html": [
       "<div>\n",
       "<style scoped>\n",
       "    .dataframe tbody tr th:only-of-type {\n",
       "        vertical-align: middle;\n",
       "    }\n",
       "\n",
       "    .dataframe tbody tr th {\n",
       "        vertical-align: top;\n",
       "    }\n",
       "\n",
       "    .dataframe thead tr th {\n",
       "        text-align: left;\n",
       "    }\n",
       "</style>\n",
       "<table border=\"1\" class=\"dataframe\">\n",
       "  <thead>\n",
       "    <tr>\n",
       "      <th></th>\n",
       "      <th>field</th>\n",
       "      <th>type</th>\n",
       "    </tr>\n",
       "  </thead>\n",
       "  <tbody>\n",
       "    <tr>\n",
       "      <th>0</th>\n",
       "      <td>age</td>\n",
       "      <td>double</td>\n",
       "    </tr>\n",
       "    <tr>\n",
       "      <th>1</th>\n",
       "      <td>is_male</td>\n",
       "      <td>string</td>\n",
       "    </tr>\n",
       "    <tr>\n",
       "      <th>2</th>\n",
       "      <td>user_id</td>\n",
       "      <td>int64</td>\n",
       "    </tr>\n",
       "    <tr>\n",
       "      <th>3</th>\n",
       "      <td>__index_level_0__</td>\n",
       "      <td>int64</td>\n",
       "    </tr>\n",
       "  </tbody>\n",
       "</table>\n",
       "</div>"
      ],
      "text/plain": [
       "               field    type\n",
       "0                age  double\n",
       "1            is_male  string\n",
       "2            user_id   int64\n",
       "3  __index_level_0__   int64"
      ]
     },
     "metadata": {},
     "output_type": "display_data"
    }
   ],
   "source": [
    "targets = pd.read_feather(Path(LOCAL_DATA_PATH, TARGET_FILE)).query('age >=19') \n",
    "display(targets.head())\n",
    "display(targets.info)\n",
    "targets.dropna(inplace=True)\n",
    "display(targets.info)\n",
    "\n",
    "targets = pa.Table.from_pandas(targets)\n",
    "display(pd.DataFrame([(z.name, z.type) for z in targets.schema], columns = [['field', 'type']]))"
   ]
  },
  {
   "cell_type": "code",
   "execution_count": 6,
   "id": "ecf75ee4",
   "metadata": {
    "execution": {
     "iopub.execute_input": "2023-03-27T11:44:20.894233Z",
     "iopub.status.busy": "2023-03-27T11:44:20.893713Z",
     "iopub.status.idle": "2023-03-27T11:45:48.123698Z",
     "shell.execute_reply": "2023-03-27T11:45:48.121123Z"
    },
    "papermill": {
     "duration": 87.255148,
     "end_time": "2023-03-27T11:45:48.137730",
     "exception": false,
     "start_time": "2023-03-27T11:44:20.882582",
     "status": "completed"
    },
    "tags": []
   },
   "outputs": [
    {
     "data": {
      "text/html": [
       "<div>\n",
       "<style scoped>\n",
       "    .dataframe tbody tr th:only-of-type {\n",
       "        vertical-align: middle;\n",
       "    }\n",
       "\n",
       "    .dataframe tbody tr th {\n",
       "        vertical-align: top;\n",
       "    }\n",
       "\n",
       "    .dataframe thead th {\n",
       "        text-align: right;\n",
       "    }\n",
       "</style>\n",
       "<table border=\"1\" class=\"dataframe\">\n",
       "  <thead>\n",
       "    <tr style=\"text-align: right;\">\n",
       "      <th></th>\n",
       "      <th>region_name</th>\n",
       "      <th>city_name</th>\n",
       "      <th>cpe_manufacturer_name</th>\n",
       "      <th>cpe_model_name</th>\n",
       "      <th>url_host</th>\n",
       "      <th>cpe_type_cd</th>\n",
       "      <th>cpe_model_os_type</th>\n",
       "      <th>price</th>\n",
       "      <th>date</th>\n",
       "      <th>part_of_day</th>\n",
       "      <th>request_cnt</th>\n",
       "      <th>user_id</th>\n",
       "    </tr>\n",
       "  </thead>\n",
       "  <tbody>\n",
       "    <tr>\n",
       "      <th>0</th>\n",
       "      <td>Краснодарский край</td>\n",
       "      <td>Краснодар</td>\n",
       "      <td>Apple</td>\n",
       "      <td>iPhone 7</td>\n",
       "      <td>ad.adriver.ru</td>\n",
       "      <td>smartphone</td>\n",
       "      <td>iOS</td>\n",
       "      <td>20368.0</td>\n",
       "      <td>2022-06-15</td>\n",
       "      <td>morning</td>\n",
       "      <td>1</td>\n",
       "      <td>45098</td>\n",
       "    </tr>\n",
       "    <tr>\n",
       "      <th>1</th>\n",
       "      <td>Краснодарский край</td>\n",
       "      <td>Краснодар</td>\n",
       "      <td>Apple</td>\n",
       "      <td>iPhone 7</td>\n",
       "      <td>apple.com</td>\n",
       "      <td>smartphone</td>\n",
       "      <td>iOS</td>\n",
       "      <td>20368.0</td>\n",
       "      <td>2022-06-19</td>\n",
       "      <td>morning</td>\n",
       "      <td>1</td>\n",
       "      <td>45098</td>\n",
       "    </tr>\n",
       "    <tr>\n",
       "      <th>2</th>\n",
       "      <td>Краснодарский край</td>\n",
       "      <td>Краснодар</td>\n",
       "      <td>Apple</td>\n",
       "      <td>iPhone 7</td>\n",
       "      <td>avatars.mds.yandex.net</td>\n",
       "      <td>smartphone</td>\n",
       "      <td>iOS</td>\n",
       "      <td>20368.0</td>\n",
       "      <td>2022-06-12</td>\n",
       "      <td>day</td>\n",
       "      <td>1</td>\n",
       "      <td>45098</td>\n",
       "    </tr>\n",
       "    <tr>\n",
       "      <th>3</th>\n",
       "      <td>Краснодарский край</td>\n",
       "      <td>Краснодар</td>\n",
       "      <td>Apple</td>\n",
       "      <td>iPhone 7</td>\n",
       "      <td>googleads.g.doubleclick.net</td>\n",
       "      <td>smartphone</td>\n",
       "      <td>iOS</td>\n",
       "      <td>20368.0</td>\n",
       "      <td>2022-05-16</td>\n",
       "      <td>day</td>\n",
       "      <td>1</td>\n",
       "      <td>45098</td>\n",
       "    </tr>\n",
       "    <tr>\n",
       "      <th>4</th>\n",
       "      <td>Краснодарский край</td>\n",
       "      <td>Краснодар</td>\n",
       "      <td>Apple</td>\n",
       "      <td>iPhone 7</td>\n",
       "      <td>googleads.g.doubleclick.net</td>\n",
       "      <td>smartphone</td>\n",
       "      <td>iOS</td>\n",
       "      <td>20368.0</td>\n",
       "      <td>2022-05-30</td>\n",
       "      <td>day</td>\n",
       "      <td>1</td>\n",
       "      <td>45098</td>\n",
       "    </tr>\n",
       "  </tbody>\n",
       "</table>\n",
       "</div>"
      ],
      "text/plain": [
       "          region_name  city_name cpe_manufacturer_name cpe_model_name  \\\n",
       "0  Краснодарский край  Краснодар                 Apple       iPhone 7   \n",
       "1  Краснодарский край  Краснодар                 Apple       iPhone 7   \n",
       "2  Краснодарский край  Краснодар                 Apple       iPhone 7   \n",
       "3  Краснодарский край  Краснодар                 Apple       iPhone 7   \n",
       "4  Краснодарский край  Краснодар                 Apple       iPhone 7   \n",
       "\n",
       "                      url_host cpe_type_cd cpe_model_os_type    price  \\\n",
       "0                ad.adriver.ru  smartphone               iOS  20368.0   \n",
       "1                    apple.com  smartphone               iOS  20368.0   \n",
       "2       avatars.mds.yandex.net  smartphone               iOS  20368.0   \n",
       "3  googleads.g.doubleclick.net  smartphone               iOS  20368.0   \n",
       "4  googleads.g.doubleclick.net  smartphone               iOS  20368.0   \n",
       "\n",
       "        date part_of_day  request_cnt  user_id  \n",
       "0 2022-06-15     morning            1    45098  \n",
       "1 2022-06-19     morning            1    45098  \n",
       "2 2022-06-12         day            1    45098  \n",
       "3 2022-05-16         day            1    45098  \n",
       "4 2022-05-30         day            1    45098  "
      ]
     },
     "metadata": {},
     "output_type": "display_data"
    },
    {
     "data": {
      "text/plain": [
       "<bound method DataFrame.info of                   region_name  city_name cpe_manufacturer_name  \\\n",
       "0          Краснодарский край  Краснодар                 Apple   \n",
       "1          Краснодарский край  Краснодар                 Apple   \n",
       "2          Краснодарский край  Краснодар                 Apple   \n",
       "3          Краснодарский край  Краснодар                 Apple   \n",
       "4          Краснодарский край  Краснодар                 Apple   \n",
       "...                       ...        ...                   ...   \n",
       "322899430   Калужская область    Обнинск               Samsung   \n",
       "322899431   Калужская область    Обнинск               Samsung   \n",
       "322899432   Калужская область    Обнинск               Samsung   \n",
       "322899433   Калужская область    Обнинск               Samsung   \n",
       "322899434   Калужская область    Обнинск               Samsung   \n",
       "\n",
       "             cpe_model_name                     url_host cpe_type_cd  \\\n",
       "0                  iPhone 7                ad.adriver.ru  smartphone   \n",
       "1                  iPhone 7                    apple.com  smartphone   \n",
       "2                  iPhone 7       avatars.mds.yandex.net  smartphone   \n",
       "3                  iPhone 7  googleads.g.doubleclick.net  smartphone   \n",
       "4                  iPhone 7  googleads.g.doubleclick.net  smartphone   \n",
       "...                     ...                          ...         ...   \n",
       "322899430  Galaxy A30s Dual       avatars.mds.yandex.net  smartphone   \n",
       "322899431  Galaxy A30s Dual  googleads.g.doubleclick.net  smartphone   \n",
       "322899432  Galaxy A30s Dual           online.sberbank.ru  smartphone   \n",
       "322899433  Galaxy A30s Dual                  s0.2mdn.net  smartphone   \n",
       "322899434  Galaxy A30s Dual                zen.yandex.ru  smartphone   \n",
       "\n",
       "          cpe_model_os_type    price       date part_of_day  request_cnt  \\\n",
       "0                       iOS  20368.0 2022-06-15     morning            1   \n",
       "1                       iOS  20368.0 2022-06-19     morning            1   \n",
       "2                       iOS  20368.0 2022-06-12         day            1   \n",
       "3                       iOS  20368.0 2022-05-16         day            1   \n",
       "4                       iOS  20368.0 2022-05-30         day            1   \n",
       "...                     ...      ...        ...         ...          ...   \n",
       "322899430           Android  16376.0 2021-07-12     morning            1   \n",
       "322899431           Android  16376.0 2021-06-20     evening            1   \n",
       "322899432           Android  16376.0 2021-08-05         day            1   \n",
       "322899433           Android  16376.0 2021-07-19     evening            1   \n",
       "322899434           Android  16376.0 2021-08-09       night            1   \n",
       "\n",
       "           user_id  \n",
       "0            45098  \n",
       "1            45098  \n",
       "2            45098  \n",
       "3            45098  \n",
       "4            45098  \n",
       "...            ...  \n",
       "322899430   300964  \n",
       "322899431   300964  \n",
       "322899432   300964  \n",
       "322899433   300964  \n",
       "322899434   300964  \n",
       "\n",
       "[322899435 rows x 12 columns]>"
      ]
     },
     "metadata": {},
     "output_type": "display_data"
    },
    {
     "data": {
      "text/plain": [
       "<bound method DataFrame.info of                   region_name  city_name cpe_manufacturer_name  \\\n",
       "0          Краснодарский край  Краснодар                 Apple   \n",
       "1          Краснодарский край  Краснодар                 Apple   \n",
       "2          Краснодарский край  Краснодар                 Apple   \n",
       "3          Краснодарский край  Краснодар                 Apple   \n",
       "4          Краснодарский край  Краснодар                 Apple   \n",
       "...                       ...        ...                   ...   \n",
       "322899430   Калужская область    Обнинск               Samsung   \n",
       "322899431   Калужская область    Обнинск               Samsung   \n",
       "322899432   Калужская область    Обнинск               Samsung   \n",
       "322899433   Калужская область    Обнинск               Samsung   \n",
       "322899434   Калужская область    Обнинск               Samsung   \n",
       "\n",
       "             cpe_model_name                     url_host cpe_type_cd  \\\n",
       "0                  iPhone 7                ad.adriver.ru  smartphone   \n",
       "1                  iPhone 7                    apple.com  smartphone   \n",
       "2                  iPhone 7       avatars.mds.yandex.net  smartphone   \n",
       "3                  iPhone 7  googleads.g.doubleclick.net  smartphone   \n",
       "4                  iPhone 7  googleads.g.doubleclick.net  smartphone   \n",
       "...                     ...                          ...         ...   \n",
       "322899430  Galaxy A30s Dual       avatars.mds.yandex.net  smartphone   \n",
       "322899431  Galaxy A30s Dual  googleads.g.doubleclick.net  smartphone   \n",
       "322899432  Galaxy A30s Dual           online.sberbank.ru  smartphone   \n",
       "322899433  Galaxy A30s Dual                  s0.2mdn.net  smartphone   \n",
       "322899434  Galaxy A30s Dual                zen.yandex.ru  smartphone   \n",
       "\n",
       "          cpe_model_os_type    price       date part_of_day  request_cnt  \\\n",
       "0                       iOS  20368.0 2022-06-15     morning            1   \n",
       "1                       iOS  20368.0 2022-06-19     morning            1   \n",
       "2                       iOS  20368.0 2022-06-12         day            1   \n",
       "3                       iOS  20368.0 2022-05-16         day            1   \n",
       "4                       iOS  20368.0 2022-05-30         day            1   \n",
       "...                     ...      ...        ...         ...          ...   \n",
       "322899430           Android  16376.0 2021-07-12     morning            1   \n",
       "322899431           Android  16376.0 2021-06-20     evening            1   \n",
       "322899432           Android  16376.0 2021-08-05         day            1   \n",
       "322899433           Android  16376.0 2021-07-19     evening            1   \n",
       "322899434           Android  16376.0 2021-08-09       night            1   \n",
       "\n",
       "           user_id  \n",
       "0            45098  \n",
       "1            45098  \n",
       "2            45098  \n",
       "3            45098  \n",
       "4            45098  \n",
       "...            ...  \n",
       "322899430   300964  \n",
       "322899431   300964  \n",
       "322899432   300964  \n",
       "322899433   300964  \n",
       "322899434   300964  \n",
       "\n",
       "[316309953 rows x 12 columns]>"
      ]
     },
     "metadata": {},
     "output_type": "display_data"
    }
   ],
   "source": [
    "data = pd.read_feather(Path(LOCAL_DATA_PATH, DATA_FILE))\n",
    "display(data.head())\n",
    "\n",
    "display(data.info)\n",
    "data.dropna(inplace=True)\n",
    "display(data.info)"
   ]
  },
  {
   "cell_type": "code",
   "execution_count": 7,
   "id": "2e54bb69",
   "metadata": {
    "execution": {
     "iopub.execute_input": "2023-03-27T11:45:48.160727Z",
     "iopub.status.busy": "2023-03-27T11:45:48.159903Z",
     "iopub.status.idle": "2023-03-27T11:45:48.168282Z",
     "shell.execute_reply": "2023-03-27T11:45:48.167076Z"
    },
    "papermill": {
     "duration": 0.023698,
     "end_time": "2023-03-27T11:45:48.171629",
     "exception": false,
     "start_time": "2023-03-27T11:45:48.147931",
     "status": "completed"
    },
    "tags": []
   },
   "outputs": [
    {
     "data": {
      "text/plain": [
       "'\\nfor column in data.columns:\\n    sns.histplot(data[column].value_counts(), bins=4)\\n    plt.show()\\n'"
      ]
     },
     "execution_count": 7,
     "metadata": {},
     "output_type": "execute_result"
    }
   ],
   "source": [
    "'''\n",
    "for column in data.columns:\n",
    "    sns.histplot(data[column].value_counts(), bins=4)\n",
    "    plt.show()\n",
    "'''"
   ]
  },
  {
   "cell_type": "code",
   "execution_count": 8,
   "id": "6cd7f764",
   "metadata": {
    "execution": {
     "iopub.execute_input": "2023-03-27T11:45:48.219044Z",
     "iopub.status.busy": "2023-03-27T11:45:48.218486Z",
     "iopub.status.idle": "2023-03-27T11:45:58.091770Z",
     "shell.execute_reply": "2023-03-27T11:45:58.090721Z"
    },
    "papermill": {
     "duration": 9.90016,
     "end_time": "2023-03-27T11:45:58.094353",
     "exception": false,
     "start_time": "2023-03-27T11:45:48.194193",
     "status": "completed"
    },
    "tags": []
   },
   "outputs": [
    {
     "data": {
      "text/html": [
       "<div>\n",
       "<style scoped>\n",
       "    .dataframe tbody tr th:only-of-type {\n",
       "        vertical-align: middle;\n",
       "    }\n",
       "\n",
       "    .dataframe tbody tr th {\n",
       "        vertical-align: top;\n",
       "    }\n",
       "\n",
       "    .dataframe thead th {\n",
       "        text-align: right;\n",
       "    }\n",
       "</style>\n",
       "<table border=\"1\" class=\"dataframe\">\n",
       "  <thead>\n",
       "    <tr style=\"text-align: right;\">\n",
       "      <th></th>\n",
       "      <th>region_name</th>\n",
       "      <th>city_name</th>\n",
       "      <th>cpe_manufacturer_name</th>\n",
       "      <th>cpe_model_name</th>\n",
       "      <th>url_host</th>\n",
       "      <th>cpe_type_cd</th>\n",
       "      <th>cpe_model_os_type</th>\n",
       "      <th>price</th>\n",
       "      <th>date</th>\n",
       "      <th>part_of_day</th>\n",
       "      <th>request_cnt</th>\n",
       "      <th>user_id</th>\n",
       "    </tr>\n",
       "  </thead>\n",
       "  <tbody>\n",
       "    <tr>\n",
       "      <th>0</th>\n",
       "      <td>21</td>\n",
       "      <td>409</td>\n",
       "      <td>1</td>\n",
       "      <td>589</td>\n",
       "      <td>5788</td>\n",
       "      <td>2</td>\n",
       "      <td>2</td>\n",
       "      <td>20368.0</td>\n",
       "      <td>2022-06-15</td>\n",
       "      <td>2</td>\n",
       "      <td>1</td>\n",
       "      <td>45098</td>\n",
       "    </tr>\n",
       "    <tr>\n",
       "      <th>1</th>\n",
       "      <td>21</td>\n",
       "      <td>409</td>\n",
       "      <td>1</td>\n",
       "      <td>589</td>\n",
       "      <td>12900</td>\n",
       "      <td>2</td>\n",
       "      <td>2</td>\n",
       "      <td>20368.0</td>\n",
       "      <td>2022-06-19</td>\n",
       "      <td>2</td>\n",
       "      <td>1</td>\n",
       "      <td>45098</td>\n",
       "    </tr>\n",
       "    <tr>\n",
       "      <th>2</th>\n",
       "      <td>21</td>\n",
       "      <td>409</td>\n",
       "      <td>1</td>\n",
       "      <td>589</td>\n",
       "      <td>17626</td>\n",
       "      <td>2</td>\n",
       "      <td>2</td>\n",
       "      <td>20368.0</td>\n",
       "      <td>2022-06-12</td>\n",
       "      <td>0</td>\n",
       "      <td>1</td>\n",
       "      <td>45098</td>\n",
       "    </tr>\n",
       "    <tr>\n",
       "      <th>3</th>\n",
       "      <td>21</td>\n",
       "      <td>409</td>\n",
       "      <td>1</td>\n",
       "      <td>589</td>\n",
       "      <td>59366</td>\n",
       "      <td>2</td>\n",
       "      <td>2</td>\n",
       "      <td>20368.0</td>\n",
       "      <td>2022-05-16</td>\n",
       "      <td>0</td>\n",
       "      <td>1</td>\n",
       "      <td>45098</td>\n",
       "    </tr>\n",
       "    <tr>\n",
       "      <th>4</th>\n",
       "      <td>21</td>\n",
       "      <td>409</td>\n",
       "      <td>1</td>\n",
       "      <td>589</td>\n",
       "      <td>59366</td>\n",
       "      <td>2</td>\n",
       "      <td>2</td>\n",
       "      <td>20368.0</td>\n",
       "      <td>2022-05-30</td>\n",
       "      <td>0</td>\n",
       "      <td>1</td>\n",
       "      <td>45098</td>\n",
       "    </tr>\n",
       "  </tbody>\n",
       "</table>\n",
       "</div>"
      ],
      "text/plain": [
       "   region_name  city_name  cpe_manufacturer_name  cpe_model_name  url_host  \\\n",
       "0           21        409                      1             589      5788   \n",
       "1           21        409                      1             589     12900   \n",
       "2           21        409                      1             589     17626   \n",
       "3           21        409                      1             589     59366   \n",
       "4           21        409                      1             589     59366   \n",
       "\n",
       "   cpe_type_cd  cpe_model_os_type    price       date  part_of_day  \\\n",
       "0            2                  2  20368.0 2022-06-15            2   \n",
       "1            2                  2  20368.0 2022-06-19            2   \n",
       "2            2                  2  20368.0 2022-06-12            0   \n",
       "3            2                  2  20368.0 2022-05-16            0   \n",
       "4            2                  2  20368.0 2022-05-30            0   \n",
       "\n",
       "   request_cnt  user_id  \n",
       "0            1    45098  \n",
       "1            1    45098  \n",
       "2            1    45098  \n",
       "3            1    45098  \n",
       "4            1    45098  "
      ]
     },
     "execution_count": 8,
     "metadata": {},
     "output_type": "execute_result"
    }
   ],
   "source": [
    "for column in data.columns:\n",
    "    if column not in (\"date\", \"price\", \"user_id\", \"request_cnt\"):\n",
    "        data[column] = data[column].cat.codes\n",
    "    elif column == \"date\":\n",
    "        data[\"date\"] = pd.to_datetime(data[\"date\"])\n",
    "\n",
    "data.head()"
   ]
  },
  {
   "cell_type": "code",
   "execution_count": 9,
   "id": "692c397e",
   "metadata": {
    "execution": {
     "iopub.execute_input": "2023-03-27T11:45:58.117657Z",
     "iopub.status.busy": "2023-03-27T11:45:58.116774Z",
     "iopub.status.idle": "2023-03-27T11:46:10.243464Z",
     "shell.execute_reply": "2023-03-27T11:46:10.242280Z"
    },
    "papermill": {
     "duration": 12.140645,
     "end_time": "2023-03-27T11:46:10.245702",
     "exception": false,
     "start_time": "2023-03-27T11:45:58.105057",
     "status": "completed"
    },
    "tags": []
   },
   "outputs": [
    {
     "data": {
      "text/plain": [
       "2    316272363\n",
       "1        36078\n",
       "3         1512\n",
       "Name: cpe_type_cd, dtype: int64"
      ]
     },
     "metadata": {},
     "output_type": "display_data"
    },
    {
     "data": {
      "text/html": [
       "<div><style>\n",
       ".dataframe > thead > tr > th,\n",
       ".dataframe > tbody > tr > td {\n",
       "  text-align: right;\n",
       "}\n",
       "</style>\n",
       "<small>shape: (3, 2)</small><table border=\"1\" class=\"dataframe\"><thead><tr><th>cpe_type_cd</th><th>counts</th></tr><tr><td>i8</td><td>u32</td></tr></thead><tbody><tr><td>3</td><td>1512</td></tr><tr><td>2</td><td>316272363</td></tr><tr><td>1</td><td>36078</td></tr></tbody></table></div>"
      ],
      "text/plain": [
       "shape: (3, 2)\n",
       "┌─────────────┬───────────┐\n",
       "│ cpe_type_cd ┆ counts    │\n",
       "│ ---         ┆ ---       │\n",
       "│ i8          ┆ u32       │\n",
       "╞═════════════╪═══════════╡\n",
       "│ 3           ┆ 1512      │\n",
       "│ 2           ┆ 316272363 │\n",
       "│ 1           ┆ 36078     │\n",
       "└─────────────┴───────────┘"
      ]
     },
     "execution_count": 9,
     "metadata": {},
     "output_type": "execute_result"
    }
   ],
   "source": [
    "data = pl.from_pandas(data)\n",
    "display(data.select(['cpe_type_cd']).to_pandas()['cpe_type_cd'].value_counts())\n",
    "data['cpe_type_cd'].value_counts()"
   ]
  },
  {
   "cell_type": "markdown",
   "id": "2e4a0aa8",
   "metadata": {
    "papermill": {
     "duration": 0.01037,
     "end_time": "2023-03-27T11:46:10.266919",
     "exception": false,
     "start_time": "2023-03-27T11:46:10.256549",
     "status": "completed"
    },
    "tags": []
   },
   "source": [
    "## Counting users <-> items embedding"
   ]
  },
  {
   "cell_type": "code",
   "execution_count": 10,
   "id": "e7cac491",
   "metadata": {
    "execution": {
     "iopub.execute_input": "2023-03-27T11:46:10.290248Z",
     "iopub.status.busy": "2023-03-27T11:46:10.289564Z",
     "iopub.status.idle": "2023-03-27T11:46:44.794595Z",
     "shell.execute_reply": "2023-03-27T11:46:44.793772Z"
    },
    "papermill": {
     "duration": 34.519884,
     "end_time": "2023-03-27T11:46:44.797501",
     "exception": false,
     "start_time": "2023-03-27T11:46:10.277617",
     "status": "completed"
    },
    "tags": []
   },
   "outputs": [
    {
     "name": "stdout",
     "output_type": "stream",
     "text": [
      "198032 urls\n",
      "404614 users\n",
      "CPU times: user 1min 4s, sys: 14.3 s, total: 1min 18s\n",
      "Wall time: 34.5 s\n"
     ]
    }
   ],
   "source": [
    "%%time\n",
    "if IS_EMBEDDING_USED:\n",
    "    data_agg = data.groupby(['user_id', 'url_host'], maintain_order=True).agg(\n",
    "        pl.sum(\"request_cnt\")\n",
    "    )\n",
    "    url_set = set(data_agg.select(['url_host']).to_pandas()['url_host'])\n",
    "    print(f'{len(url_set)} urls')\n",
    "    url_dict = {url: idurl for url, idurl in zip(url_set, range(len(url_set)))}\n",
    "    usr_set = set(data_agg.select(['user_id']).to_pandas()['user_id'])\n",
    "    print(f'{len(usr_set)} users')\n",
    "    usr_dict = {usr: user_id for usr, user_id in zip(usr_set, range(len(usr_set)))}"
   ]
  },
  {
   "cell_type": "code",
   "execution_count": 11,
   "id": "7049e33e",
   "metadata": {
    "execution": {
     "iopub.execute_input": "2023-03-27T11:46:44.821743Z",
     "iopub.status.busy": "2023-03-27T11:46:44.821351Z",
     "iopub.status.idle": "2023-03-27T11:46:47.051810Z",
     "shell.execute_reply": "2023-03-27T11:46:47.050966Z"
    },
    "papermill": {
     "duration": 2.244994,
     "end_time": "2023-03-27T11:46:47.054188",
     "exception": false,
     "start_time": "2023-03-27T11:46:44.809194",
     "status": "completed"
    },
    "tags": []
   },
   "outputs": [
    {
     "name": "stdout",
     "output_type": "stream",
     "text": [
      "CPU times: user 1.74 s, sys: 492 ms, total: 2.24 s\n",
      "Wall time: 2.22 s\n"
     ]
    }
   ],
   "source": [
    "%%time\n",
    "if IS_EMBEDDING_USED:\n",
    "    values = np.array(data_agg['request_cnt'].to_pandas())\n",
    "    rows = np.array(data_agg['user_id'].to_pandas().map(usr_dict))\n",
    "    cols = np.array(data_agg['url_host'].to_pandas().map(url_dict))\n",
    "    mat = scipy.sparse.coo_matrix((values, (rows, cols)), shape=(rows.max() + 1, cols.max() + 1))\n",
    "    als = implicit.approximate_als.FaissAlternatingLeastSquares(\n",
    "        factors = FACTORS, iterations = FAISS_ITERATIONS, use_gpu = IS_GPU_USED, calculate_training_loss = True, regularization = 0.1\n",
    "    )"
   ]
  },
  {
   "cell_type": "code",
   "execution_count": 12,
   "id": "ffcf2358",
   "metadata": {
    "execution": {
     "iopub.execute_input": "2023-03-27T11:46:47.078162Z",
     "iopub.status.busy": "2023-03-27T11:46:47.077425Z",
     "iopub.status.idle": "2023-03-27T13:10:52.423919Z",
     "shell.execute_reply": "2023-03-27T13:10:52.422464Z"
    },
    "papermill": {
     "duration": 5045.361719,
     "end_time": "2023-03-27T13:10:52.426756",
     "exception": false,
     "start_time": "2023-03-27T11:46:47.065037",
     "status": "completed"
    },
    "tags": []
   },
   "outputs": [
    {
     "data": {
      "application/vnd.jupyter.widget-view+json": {
       "model_id": "f9022e1d6aff4410a001b60a0ba39c1e",
       "version_major": 2,
       "version_minor": 0
      },
      "text/plain": [
       "  0%|          | 0/100 [00:00<?, ?it/s]"
      ]
     },
     "metadata": {},
     "output_type": "display_data"
    },
    {
     "name": "stdout",
     "output_type": "stream",
     "text": [
      "CPU times: user 3h 30min 56s, sys: 1h 56min 3s, total: 5h 27min\n",
      "Wall time: 1h 24min 5s\n"
     ]
    }
   ],
   "source": [
    "%%time\n",
    "if IS_EMBEDDING_USED:\n",
    "    als.fit(mat)"
   ]
  },
  {
   "cell_type": "code",
   "execution_count": 13,
   "id": "5f1bd3b7",
   "metadata": {
    "execution": {
     "iopub.execute_input": "2023-03-27T13:10:52.454749Z",
     "iopub.status.busy": "2023-03-27T13:10:52.454233Z",
     "iopub.status.idle": "2023-03-27T13:10:52.462449Z",
     "shell.execute_reply": "2023-03-27T13:10:52.461341Z"
    },
    "papermill": {
     "duration": 0.024616,
     "end_time": "2023-03-27T13:10:52.464695",
     "exception": false,
     "start_time": "2023-03-27T13:10:52.440079",
     "status": "completed"
    },
    "tags": []
   },
   "outputs": [
    {
     "name": "stdout",
     "output_type": "stream",
     "text": [
      "198032\n"
     ]
    }
   ],
   "source": [
    "if IS_EMBEDDING_USED:\n",
    "    u_factors = als.user_factors \n",
    "    print(len(u_factors))"
   ]
  },
  {
   "cell_type": "code",
   "execution_count": 14,
   "id": "3d9f6795",
   "metadata": {
    "execution": {
     "iopub.execute_input": "2023-03-27T13:10:52.489264Z",
     "iopub.status.busy": "2023-03-27T13:10:52.488539Z",
     "iopub.status.idle": "2023-03-27T13:10:52.499512Z",
     "shell.execute_reply": "2023-03-27T13:10:52.493424Z"
    },
    "papermill": {
     "duration": 0.027293,
     "end_time": "2023-03-27T13:10:52.503314",
     "exception": false,
     "start_time": "2023-03-27T13:10:52.476021",
     "status": "completed"
    },
    "tags": []
   },
   "outputs": [
    {
     "name": "stdout",
     "output_type": "stream",
     "text": [
      "404614\n"
     ]
    }
   ],
   "source": [
    "if IS_EMBEDDING_USED:\n",
    "    d_factors = als.item_factors\n",
    "    print(len(d_factors))"
   ]
  },
  {
   "cell_type": "markdown",
   "id": "ac684578",
   "metadata": {
    "papermill": {
     "duration": 0.015262,
     "end_time": "2023-03-27T13:10:52.532287",
     "exception": false,
     "start_time": "2023-03-27T13:10:52.517025",
     "status": "completed"
    },
    "tags": []
   },
   "source": [
    "## Sex prediction"
   ]
  },
  {
   "cell_type": "code",
   "execution_count": 15,
   "id": "48e6dfd3",
   "metadata": {
    "execution": {
     "iopub.execute_input": "2023-03-27T13:10:52.562894Z",
     "iopub.status.busy": "2023-03-27T13:10:52.562496Z",
     "iopub.status.idle": "2023-03-27T13:10:54.350046Z",
     "shell.execute_reply": "2023-03-27T13:10:54.349115Z"
    },
    "papermill": {
     "duration": 1.803209,
     "end_time": "2023-03-27T13:10:54.352523",
     "exception": false,
     "start_time": "2023-03-27T13:10:52.549314",
     "status": "completed"
    },
    "scrolled": true,
    "tags": []
   },
   "outputs": [
    {
     "name": "stdout",
     "output_type": "stream",
     "text": [
      "1    130899\n",
      "0    125855\n",
      "Name: is_male, dtype: int64\n"
     ]
    }
   ],
   "source": [
    "if IS_EMBEDDING_USED:\n",
    "    inv_usr_map = {v: k for k, v in usr_dict.items()}\n",
    "    usr_emb = pd.DataFrame(d_factors)\n",
    "    usr_emb['user_id'] = usr_emb.index.map(inv_usr_map)\n",
    "    usr_targets = targets.to_pandas()\n",
    "    df = usr_targets.merge(usr_emb, how = 'inner', on = ['user_id'])\n",
    "    df = df[df['is_male'] != 'NA']\n",
    "    df = df.dropna()\n",
    "    df['is_male'] = df['is_male'].map(int)\n",
    "    print(df['is_male'].value_counts())"
   ]
  },
  {
   "cell_type": "markdown",
   "id": "68055b5b",
   "metadata": {
    "papermill": {
     "duration": 0.011148,
     "end_time": "2023-03-27T13:10:54.374984",
     "exception": false,
     "start_time": "2023-03-27T13:10:54.363836",
     "status": "completed"
    },
    "tags": []
   },
   "source": [
    "#### Model trainings"
   ]
  },
  {
   "cell_type": "code",
   "execution_count": 16,
   "id": "d62e2816",
   "metadata": {
    "execution": {
     "iopub.execute_input": "2023-03-27T13:10:54.399789Z",
     "iopub.status.busy": "2023-03-27T13:10:54.398822Z",
     "iopub.status.idle": "2023-03-27T13:10:54.410004Z",
     "shell.execute_reply": "2023-03-27T13:10:54.409028Z"
    },
    "papermill": {
     "duration": 0.026419,
     "end_time": "2023-03-27T13:10:54.412611",
     "exception": false,
     "start_time": "2023-03-27T13:10:54.386192",
     "status": "completed"
    },
    "tags": []
   },
   "outputs": [],
   "source": [
    "max_gini = 0\n",
    "train_index = 0\n",
    "test_index = 0\n",
    "\n",
    "if IS_MODEL_CATBOOST:\n",
    "    clf = CatBoostClassifier()\n",
    "elif IS_MODEL_RANDFOREST:\n",
    "    clf = RandomForestClassifier(random_state=SPLIT_SEED)"
   ]
  },
  {
   "cell_type": "code",
   "execution_count": 17,
   "id": "bd21bfac",
   "metadata": {
    "execution": {
     "iopub.execute_input": "2023-03-27T13:10:54.437838Z",
     "iopub.status.busy": "2023-03-27T13:10:54.436679Z",
     "iopub.status.idle": "2023-03-27T13:18:35.471861Z",
     "shell.execute_reply": "2023-03-27T13:18:35.470491Z"
    },
    "papermill": {
     "duration": 461.062408,
     "end_time": "2023-03-27T13:18:35.486422",
     "exception": false,
     "start_time": "2023-03-27T13:10:54.424014",
     "status": "completed"
    },
    "tags": []
   },
   "outputs": [
    {
     "name": "stdout",
     "output_type": "stream",
     "text": [
      "Train indexes: [51351 51352 51353 51354 51355]; Test indexes: [0 1 2 3 4];\n",
      "Train length: 205403; Test length: 51351; Dataset length: 256754;\n",
      "Current GINI is 0.671, current max is 0.671\n",
      "\n",
      "Train indexes: [0 1 2 3 4]; Test indexes: [51351 51352 51353 51354 51355];\n",
      "Train length: 205403; Test length: 51351; Dataset length: 256754;\n",
      "Current GINI is 0.667, current max is 0.671\n",
      "\n",
      "Train indexes: [0 1 2 3 4]; Test indexes: [102702 102703 102704 102705 102706];\n",
      "Train length: 205403; Test length: 51351; Dataset length: 256754;\n",
      "Current GINI is 0.664, current max is 0.671\n",
      "\n",
      "Train indexes: [0 1 2 3 4]; Test indexes: [154053 154054 154055 154056 154057];\n",
      "Train length: 205403; Test length: 51351; Dataset length: 256754;\n",
      "Current GINI is 0.663, current max is 0.671\n",
      "\n",
      "Train indexes: [0 1 2 3 4]; Test indexes: [205404 205405 205406 205407 205408];\n",
      "Train length: 205404; Test length: 51350; Dataset length: 256754;\n",
      "Current GINI is 0.666, current max is 0.671\n",
      "\n",
      "CPU times: user 29min 23s, sys: 29.1 s, total: 29min 52s\n",
      "Wall time: 7min 41s\n"
     ]
    }
   ],
   "source": [
    "%%time\n",
    "if IS_MODEL_CATBOOST or IS_MODEL_RANDFOREST:\n",
    "    x = df.drop(['user_id', 'age', 'is_male'], axis = 1)\n",
    "    y = df['is_male']\n",
    "\n",
    "    kf = KFold(n_splits=KFOLD_SPLITS)\n",
    "\n",
    "    for train_index, test_index in kf.split(x):\n",
    "        print(\"Train indexes: \", train_index[:5],\n",
    "              \"; Test indexes: \", test_index[:5], \";\\n\",\n",
    "              \"Train length: \", len(train_index), \n",
    "              \"; Test length: \", len(test_index), \n",
    "              \"; Dataset length: \", len(x), ';', sep='', end='\\n')\n",
    "        \n",
    "        x_train, x_test = x.iloc[train_index], x.iloc[test_index]\n",
    "        y_train, y_test = y.iloc[train_index], y.iloc[test_index]\n",
    "        \n",
    "        if IS_MODEL_CATBOOST:\n",
    "            clf.fit(x_train, y_train, verbose = False)\n",
    "        elif IS_MODEL_RANDFOREST:\n",
    "            clf.fit(x_train, y_train)\n",
    "        \n",
    "        gini = float(f'{2 * m.roc_auc_score(y_test, clf.predict_proba(x_test)[:,1]) - 1:2.3f}')\n",
    "        if gini > max_gini:\n",
    "            max_gini = gini\n",
    "            max_train_index = train_index\n",
    "            max_test_index = test_index\n",
    "        \n",
    "        print(f'Current GINI is {gini}, current max is {max_gini}', end=\"\\n\\n\")"
   ]
  },
  {
   "cell_type": "code",
   "execution_count": 18,
   "id": "8eec7169",
   "metadata": {
    "execution": {
     "iopub.execute_input": "2023-03-27T13:18:35.512836Z",
     "iopub.status.busy": "2023-03-27T13:18:35.512401Z",
     "iopub.status.idle": "2023-03-27T13:18:35.519105Z",
     "shell.execute_reply": "2023-03-27T13:18:35.517969Z"
    },
    "papermill": {
     "duration": 0.023163,
     "end_time": "2023-03-27T13:18:35.521705",
     "exception": false,
     "start_time": "2023-03-27T13:18:35.498542",
     "status": "completed"
    },
    "tags": []
   },
   "outputs": [
    {
     "name": "stdout",
     "output_type": "stream",
     "text": [
      "Max GINI is 0.671\n",
      "Max train index is [51351 51352 51353 51354 51355]\n",
      "Max test index is [0 1 2 3 4]\n"
     ]
    }
   ],
   "source": [
    "print(f'Max GINI is {max_gini}')\n",
    "print(f'Max train index is {max_train_index[:5]}')\n",
    "print(f'Max test index is {max_test_index[:5]}')"
   ]
  },
  {
   "cell_type": "code",
   "execution_count": 19,
   "id": "71dc21c7",
   "metadata": {
    "execution": {
     "iopub.execute_input": "2023-03-27T13:18:35.548807Z",
     "iopub.status.busy": "2023-03-27T13:18:35.548334Z",
     "iopub.status.idle": "2023-03-27T13:20:08.324534Z",
     "shell.execute_reply": "2023-03-27T13:20:08.323286Z"
    },
    "papermill": {
     "duration": 92.805988,
     "end_time": "2023-03-27T13:20:08.340150",
     "exception": false,
     "start_time": "2023-03-27T13:18:35.534162",
     "status": "completed"
    },
    "tags": []
   },
   "outputs": [
    {
     "data": {
      "text/html": [
       "<div>\n",
       "<style scoped>\n",
       "    .dataframe tbody tr th:only-of-type {\n",
       "        vertical-align: middle;\n",
       "    }\n",
       "\n",
       "    .dataframe tbody tr th {\n",
       "        vertical-align: top;\n",
       "    }\n",
       "\n",
       "    .dataframe thead th {\n",
       "        text-align: right;\n",
       "    }\n",
       "</style>\n",
       "<table border=\"1\" class=\"dataframe\">\n",
       "  <thead>\n",
       "    <tr style=\"text-align: right;\">\n",
       "      <th></th>\n",
       "      <th>user_id</th>\n",
       "      <th>is_male</th>\n",
       "    </tr>\n",
       "  </thead>\n",
       "  <tbody>\n",
       "    <tr>\n",
       "      <th>0</th>\n",
       "      <td>221301</td>\n",
       "      <td>0.949619</td>\n",
       "    </tr>\n",
       "    <tr>\n",
       "      <th>1</th>\n",
       "      <td>31271</td>\n",
       "      <td>0.500938</td>\n",
       "    </tr>\n",
       "    <tr>\n",
       "      <th>2</th>\n",
       "      <td>211594</td>\n",
       "      <td>0.495175</td>\n",
       "    </tr>\n",
       "    <tr>\n",
       "      <th>3</th>\n",
       "      <td>253119</td>\n",
       "      <td>0.510830</td>\n",
       "    </tr>\n",
       "    <tr>\n",
       "      <th>4</th>\n",
       "      <td>192578</td>\n",
       "      <td>0.779968</td>\n",
       "    </tr>\n",
       "  </tbody>\n",
       "</table>\n",
       "</div>"
      ],
      "text/plain": [
       "   user_id   is_male\n",
       "0   221301  0.949619\n",
       "1    31271  0.500938\n",
       "2   211594  0.495175\n",
       "3   253119  0.510830\n",
       "4   192578  0.779968"
      ]
     },
     "execution_count": 19,
     "metadata": {},
     "output_type": "execute_result"
    }
   ],
   "source": [
    "if IS_MODEL_CATBOOST or IS_MODEL_RANDFOREST:\n",
    "    if IS_MODEL_CATBOOST:\n",
    "        clf.fit(x.iloc[max_train_index], y.iloc[max_train_index], verbose = False)\n",
    "    elif IS_MODEL_RANDFOREST:\n",
    "        clf.fit(x.iloc[max_train_index], y.iloc[max_train_index])\n",
    "    id_to_submit['user_id'].unique\n",
    "    id_to_submit['is_male'] = clf.predict_proba(id_to_submit.merge(usr_emb, how = 'left', on = ['user_id']).drop(['user_id'], axis = 1))[:,1]\n",
    "    \n",
    "id_to_submit.head()"
   ]
  },
  {
   "cell_type": "code",
   "execution_count": 20,
   "id": "ae12595e",
   "metadata": {
    "execution": {
     "iopub.execute_input": "2023-03-27T13:20:08.366193Z",
     "iopub.status.busy": "2023-03-27T13:20:08.365745Z",
     "iopub.status.idle": "2023-03-27T13:20:08.476285Z",
     "shell.execute_reply": "2023-03-27T13:20:08.475086Z"
    },
    "papermill": {
     "duration": 0.126801,
     "end_time": "2023-03-27T13:20:08.479091",
     "exception": false,
     "start_time": "2023-03-27T13:20:08.352290",
     "status": "completed"
    },
    "tags": []
   },
   "outputs": [
    {
     "name": "stdout",
     "output_type": "stream",
     "text": [
      "Current GINI score:  0.671\n"
     ]
    }
   ],
   "source": [
    "print(\"Current GINI score: \", float(f'{2 * m.roc_auc_score(y.iloc[max_test_index], clf.predict_proba(x.iloc[max_test_index])[:,1]) - 1:2.3f}'))"
   ]
  },
  {
   "cell_type": "markdown",
   "id": "130c6868",
   "metadata": {
    "papermill": {
     "duration": 0.01756,
     "end_time": "2023-03-27T13:20:08.509293",
     "exception": false,
     "start_time": "2023-03-27T13:20:08.491733",
     "status": "completed"
    },
    "tags": []
   },
   "source": [
    "## Age prediction"
   ]
  },
  {
   "cell_type": "code",
   "execution_count": 21,
   "id": "a18b95f8",
   "metadata": {
    "execution": {
     "iopub.execute_input": "2023-03-27T13:20:08.544012Z",
     "iopub.status.busy": "2023-03-27T13:20:08.543556Z",
     "iopub.status.idle": "2023-03-27T13:20:08.550206Z",
     "shell.execute_reply": "2023-03-27T13:20:08.549262Z"
    },
    "papermill": {
     "duration": 0.028675,
     "end_time": "2023-03-27T13:20:08.552469",
     "exception": false,
     "start_time": "2023-03-27T13:20:08.523794",
     "status": "completed"
    },
    "tags": []
   },
   "outputs": [],
   "source": [
    "def age_bucket(x):\n",
    "    return bisect.bisect_left([18,25,35,45,55,65], x)"
   ]
  },
  {
   "cell_type": "code",
   "execution_count": 22,
   "id": "5a271525",
   "metadata": {
    "execution": {
     "iopub.execute_input": "2023-03-27T13:20:08.579163Z",
     "iopub.status.busy": "2023-03-27T13:20:08.578496Z",
     "iopub.status.idle": "2023-03-27T13:20:10.260664Z",
     "shell.execute_reply": "2023-03-27T13:20:10.259830Z"
    },
    "papermill": {
     "duration": 1.697633,
     "end_time": "2023-03-27T13:20:10.262854",
     "exception": false,
     "start_time": "2023-03-27T13:20:08.565221",
     "status": "completed"
    },
    "tags": []
   },
   "outputs": [
    {
     "data": {
      "text/plain": [
       "<AxesSubplot:xlabel='age', ylabel='Count'>"
      ]
     },
     "execution_count": 22,
     "metadata": {},
     "output_type": "execute_result"
    },
    {
     "data": {
      "image/png": "[encoded data removed]",
      "text/plain": [
       "<Figure size 432x288 with 1 Axes>"
      ]
     },
     "metadata": {},
     "output_type": "display_data"
    }
   ],
   "source": [
    "df = usr_targets.merge(usr_emb, how = 'inner', on = ['user_id'])\n",
    "df = df[df['age'] != 'NA']\n",
    "df = df.dropna()\n",
    "df['age'] = df['age'].map(age_bucket)\n",
    "sns.histplot(df['age'], bins = 7)"
   ]
  },
  {
   "cell_type": "code",
   "execution_count": 23,
   "id": "ecbaf328",
   "metadata": {
    "execution": {
     "iopub.execute_input": "2023-03-27T13:20:10.291050Z",
     "iopub.status.busy": "2023-03-27T13:20:10.290378Z",
     "iopub.status.idle": "2023-03-27T13:20:10.295895Z",
     "shell.execute_reply": "2023-03-27T13:20:10.295146Z"
    },
    "papermill": {
     "duration": 0.02193,
     "end_time": "2023-03-27T13:20:10.298192",
     "exception": false,
     "start_time": "2023-03-27T13:20:10.276262",
     "status": "completed"
    },
    "tags": []
   },
   "outputs": [],
   "source": [
    "max_f1 = 0\n",
    "train_index = 0\n",
    "test_index = 0\n",
    "\n",
    "if IS_MODEL_CATBOOST:\n",
    "    clf = CatBoostClassifier()\n",
    "elif IS_MODEL_RANDFOREST:\n",
    "    clf = RandomForestClassifier(random_state=SPLIT_SEED)"
   ]
  },
  {
   "cell_type": "code",
   "execution_count": 24,
   "id": "469f8ac3",
   "metadata": {
    "execution": {
     "iopub.execute_input": "2023-03-27T13:20:10.325472Z",
     "iopub.status.busy": "2023-03-27T13:20:10.324818Z",
     "iopub.status.idle": "2023-03-27T13:56:59.681561Z",
     "shell.execute_reply": "2023-03-27T13:56:59.680328Z"
    },
    "papermill": {
     "duration": 2209.387238,
     "end_time": "2023-03-27T13:56:59.698052",
     "exception": false,
     "start_time": "2023-03-27T13:20:10.310814",
     "status": "completed"
    },
    "tags": []
   },
   "outputs": [
    {
     "name": "stdout",
     "output_type": "stream",
     "text": [
      "Train indexes: [51351 51352 51353 51354 51355]; Test indexes: [0 1 2 3 4];\n",
      "Train length: 205403; Test length: 51351; Dataset length: 256754;\n",
      "Current F1 is 0.4140250652445793, current max is 0.4140250652445793\n",
      "\n",
      "Train indexes: [0 1 2 3 4]; Test indexes: [51351 51352 51353 51354 51355];\n",
      "Train length: 205403; Test length: 51351; Dataset length: 256754;\n",
      "Current F1 is 0.4145369334090294, current max is 0.4145369334090294\n",
      "\n",
      "Train indexes: [0 1 2 3 4]; Test indexes: [102702 102703 102704 102705 102706];\n",
      "Train length: 205403; Test length: 51351; Dataset length: 256754;\n",
      "Current F1 is 0.41490842578837317, current max is 0.41490842578837317\n",
      "\n",
      "Train indexes: [0 1 2 3 4]; Test indexes: [154053 154054 154055 154056 154057];\n",
      "Train length: 205403; Test length: 51351; Dataset length: 256754;\n",
      "Current F1 is 0.4101823607139111, current max is 0.41490842578837317\n",
      "\n",
      "Train indexes: [0 1 2 3 4]; Test indexes: [205404 205405 205406 205407 205408];\n",
      "Train length: 205404; Test length: 51350; Dataset length: 256754;\n",
      "Current F1 is 0.4120975410617259, current max is 0.41490842578837317\n",
      "\n"
     ]
    }
   ],
   "source": [
    "if IS_MODEL_CATBOOST or IS_MODEL_RANDFOREST:\n",
    "    x = df.drop(['user_id', 'age', 'is_male'], axis = 1)\n",
    "    y = df['age']\n",
    "\n",
    "    kf = KFold(n_splits=KFOLD_SPLITS)\n",
    "\n",
    "    for train_index, test_index in kf.split(x):\n",
    "        print(\"Train indexes: \", train_index[:5],\n",
    "              \"; Test indexes: \", test_index[:5], \";\\n\",\n",
    "              \"Train length: \", len(train_index), \n",
    "              \"; Test length: \", len(test_index), \n",
    "              \"; Dataset length: \", len(x), ';', sep='', end='\\n')\n",
    "        \n",
    "        x_train, x_test = x.iloc[train_index], x.iloc[test_index]\n",
    "        y_train, y_test = y.iloc[train_index], y.iloc[test_index]\n",
    "        if IS_MODEL_CATBOOST:\n",
    "            clf.fit(x_train, y_train, verbose = False)\n",
    "        elif IS_MODEL_RANDFOREST:\n",
    "            clf.fit(x_train, y_train)\n",
    "        \n",
    "        f1 = m.f1_score(y_test, clf.predict(x_test), average='weighted')\n",
    "        if f1 > max_f1:\n",
    "            max_f1 = f1\n",
    "            max_train_index = train_index\n",
    "            max_test_index = test_index\n",
    "        \n",
    "        print(f'Current F1 is {f1}, current max is {max_f1}', end=\"\\n\\n\")"
   ]
  },
  {
   "cell_type": "code",
   "execution_count": 25,
   "id": "d96691cd",
   "metadata": {
    "execution": {
     "iopub.execute_input": "2023-03-27T13:56:59.726869Z",
     "iopub.status.busy": "2023-03-27T13:56:59.726134Z",
     "iopub.status.idle": "2023-03-27T13:56:59.731931Z",
     "shell.execute_reply": "2023-03-27T13:56:59.731006Z"
    },
    "papermill": {
     "duration": 0.022483,
     "end_time": "2023-03-27T13:56:59.734136",
     "exception": false,
     "start_time": "2023-03-27T13:56:59.711653",
     "status": "completed"
    },
    "tags": []
   },
   "outputs": [
    {
     "name": "stdout",
     "output_type": "stream",
     "text": [
      "Max F1 is 0.41490842578837317\n",
      "Max train index is [0 1 2 3 4]\n",
      "Max test index is [102702 102703 102704 102705 102706]\n"
     ]
    }
   ],
   "source": [
    "print(f'Max F1 is {max_f1}')\n",
    "print(f'Max train index is {max_train_index[:5]}')\n",
    "print(f'Max test index is {max_test_index[:5]}')"
   ]
  },
  {
   "cell_type": "code",
   "execution_count": 26,
   "id": "08ff5e4c",
   "metadata": {
    "execution": {
     "iopub.execute_input": "2023-03-27T13:56:59.761593Z",
     "iopub.status.busy": "2023-03-27T13:56:59.761174Z",
     "iopub.status.idle": "2023-03-27T14:04:20.889270Z",
     "shell.execute_reply": "2023-03-27T14:04:20.888014Z"
    },
    "papermill": {
     "duration": 441.158175,
     "end_time": "2023-03-27T14:04:20.905260",
     "exception": false,
     "start_time": "2023-03-27T13:56:59.747085",
     "status": "completed"
    },
    "tags": []
   },
   "outputs": [
    {
     "data": {
      "text/html": [
       "<div>\n",
       "<style scoped>\n",
       "    .dataframe tbody tr th:only-of-type {\n",
       "        vertical-align: middle;\n",
       "    }\n",
       "\n",
       "    .dataframe tbody tr th {\n",
       "        vertical-align: top;\n",
       "    }\n",
       "\n",
       "    .dataframe thead th {\n",
       "        text-align: right;\n",
       "    }\n",
       "</style>\n",
       "<table border=\"1\" class=\"dataframe\">\n",
       "  <thead>\n",
       "    <tr style=\"text-align: right;\">\n",
       "      <th></th>\n",
       "      <th>user_id</th>\n",
       "      <th>is_male</th>\n",
       "      <th>age</th>\n",
       "    </tr>\n",
       "  </thead>\n",
       "  <tbody>\n",
       "    <tr>\n",
       "      <th>0</th>\n",
       "      <td>221301</td>\n",
       "      <td>0.949619</td>\n",
       "      <td>2</td>\n",
       "    </tr>\n",
       "    <tr>\n",
       "      <th>1</th>\n",
       "      <td>31271</td>\n",
       "      <td>0.500938</td>\n",
       "      <td>3</td>\n",
       "    </tr>\n",
       "    <tr>\n",
       "      <th>2</th>\n",
       "      <td>211594</td>\n",
       "      <td>0.495175</td>\n",
       "      <td>2</td>\n",
       "    </tr>\n",
       "    <tr>\n",
       "      <th>3</th>\n",
       "      <td>253119</td>\n",
       "      <td>0.510830</td>\n",
       "      <td>2</td>\n",
       "    </tr>\n",
       "    <tr>\n",
       "      <th>4</th>\n",
       "      <td>192578</td>\n",
       "      <td>0.779968</td>\n",
       "      <td>2</td>\n",
       "    </tr>\n",
       "  </tbody>\n",
       "</table>\n",
       "</div>"
      ],
      "text/plain": [
       "   user_id   is_male  age\n",
       "0   221301  0.949619    2\n",
       "1    31271  0.500938    3\n",
       "2   211594  0.495175    2\n",
       "3   253119  0.510830    2\n",
       "4   192578  0.779968    2"
      ]
     },
     "execution_count": 26,
     "metadata": {},
     "output_type": "execute_result"
    }
   ],
   "source": [
    "if IS_MODEL_CATBOOST or IS_MODEL_RANDFOREST:\n",
    "    if IS_MODEL_CATBOOST:\n",
    "        clf.fit(x.iloc[max_train_index], y.iloc[max_train_index], verbose = False)\n",
    "    elif IS_MODEL_RANDFOREST:\n",
    "        clf.fit(x.iloc[max_train_index], y.iloc[max_train_index])\n",
    "    id_to_submit['age'] = clf.predict(id_to_submit[['user_id']].merge(usr_emb, how = 'left', on = ['user_id']).drop(['user_id'], axis = 1))\n",
    "    \n",
    "id_to_submit.head()"
   ]
  },
  {
   "cell_type": "code",
   "execution_count": 27,
   "id": "2d3a3676",
   "metadata": {
    "execution": {
     "iopub.execute_input": "2023-03-27T14:04:20.933292Z",
     "iopub.status.busy": "2023-03-27T14:04:20.932842Z",
     "iopub.status.idle": "2023-03-27T14:04:21.222831Z",
     "shell.execute_reply": "2023-03-27T14:04:21.221444Z"
    },
    "papermill": {
     "duration": 0.306962,
     "end_time": "2023-03-27T14:04:21.225245",
     "exception": false,
     "start_time": "2023-03-27T14:04:20.918283",
     "status": "completed"
    },
    "tags": []
   },
   "outputs": [
    {
     "name": "stdout",
     "output_type": "stream",
     "text": [
      "              precision    recall  f1-score   support\n",
      "\n",
      "       18-25       0.54      0.30      0.38      6256\n",
      "       25-34       0.48      0.63      0.54     16816\n",
      "       35-44       0.39      0.52      0.45     14879\n",
      "       45-54       0.36      0.18      0.24      7881\n",
      "       55-65       0.43      0.19      0.26      4442\n",
      "         65+       0.43      0.01      0.03      1077\n",
      "\n",
      "    accuracy                           0.44     51351\n",
      "   macro avg       0.44      0.31      0.32     51351\n",
      "weighted avg       0.44      0.44      0.41     51351\n",
      "\n"
     ]
    }
   ],
   "source": [
    "if IS_MODEL_CATBOOST or IS_MODEL_RANDFOREST:\n",
    "    print(m.classification_report(\n",
    "          y.iloc[max_test_index], \n",
    "          clf.predict(x.iloc[max_test_index]), \n",
    "          target_names = ['18-25','25-34', '35-44', '45-54', '55-65', '65+']\n",
    "    ))"
   ]
  },
  {
   "cell_type": "markdown",
   "id": "cfb668e8",
   "metadata": {
    "papermill": {
     "duration": 0.012842,
     "end_time": "2023-03-27T14:04:21.251332",
     "exception": false,
     "start_time": "2023-03-27T14:04:21.238490",
     "status": "completed"
    },
    "tags": []
   },
   "source": [
    "## Submission"
   ]
  },
  {
   "cell_type": "code",
   "execution_count": 28,
   "id": "f0a58b01",
   "metadata": {
    "execution": {
     "iopub.execute_input": "2023-03-27T14:04:21.279671Z",
     "iopub.status.busy": "2023-03-27T14:04:21.279230Z",
     "iopub.status.idle": "2023-03-27T14:04:21.681173Z",
     "shell.execute_reply": "2023-03-27T14:04:21.679975Z"
    },
    "papermill": {
     "duration": 0.419258,
     "end_time": "2023-03-27T14:04:21.684042",
     "exception": false,
     "start_time": "2023-03-27T14:04:21.264784",
     "status": "completed"
    },
    "tags": []
   },
   "outputs": [
    {
     "data": {
      "text/html": [
       "<div>\n",
       "<style scoped>\n",
       "    .dataframe tbody tr th:only-of-type {\n",
       "        vertical-align: middle;\n",
       "    }\n",
       "\n",
       "    .dataframe tbody tr th {\n",
       "        vertical-align: top;\n",
       "    }\n",
       "\n",
       "    .dataframe thead th {\n",
       "        text-align: right;\n",
       "    }\n",
       "</style>\n",
       "<table border=\"1\" class=\"dataframe\">\n",
       "  <thead>\n",
       "    <tr style=\"text-align: right;\">\n",
       "      <th></th>\n",
       "      <th>user_id</th>\n",
       "      <th>is_male</th>\n",
       "      <th>age</th>\n",
       "    </tr>\n",
       "  </thead>\n",
       "  <tbody>\n",
       "    <tr>\n",
       "      <th>0</th>\n",
       "      <td>221301</td>\n",
       "      <td>0.949619</td>\n",
       "      <td>2</td>\n",
       "    </tr>\n",
       "    <tr>\n",
       "      <th>1</th>\n",
       "      <td>31271</td>\n",
       "      <td>0.500938</td>\n",
       "      <td>3</td>\n",
       "    </tr>\n",
       "    <tr>\n",
       "      <th>2</th>\n",
       "      <td>211594</td>\n",
       "      <td>0.495175</td>\n",
       "      <td>2</td>\n",
       "    </tr>\n",
       "    <tr>\n",
       "      <th>3</th>\n",
       "      <td>253119</td>\n",
       "      <td>0.510830</td>\n",
       "      <td>2</td>\n",
       "    </tr>\n",
       "    <tr>\n",
       "      <th>4</th>\n",
       "      <td>192578</td>\n",
       "      <td>0.779968</td>\n",
       "      <td>2</td>\n",
       "    </tr>\n",
       "  </tbody>\n",
       "</table>\n",
       "</div>"
      ],
      "text/plain": [
       "   user_id   is_male  age\n",
       "0   221301  0.949619    2\n",
       "1    31271  0.500938    3\n",
       "2   211594  0.495175    2\n",
       "3   253119  0.510830    2\n",
       "4   192578  0.779968    2"
      ]
     },
     "metadata": {},
     "output_type": "display_data"
    },
    {
     "data": {
      "text/plain": [
       "0.929039    3777\n",
       "0.512619     122\n",
       "0.497553      94\n",
       "0.487490      84\n",
       "0.516534      75\n",
       "            ... \n",
       "0.575533       1\n",
       "0.954238       1\n",
       "0.211251       1\n",
       "0.623925       1\n",
       "0.526347       1\n",
       "Name: is_male, Length: 138232, dtype: int64"
      ]
     },
     "metadata": {},
     "output_type": "display_data"
    },
    {
     "data": {
      "text/plain": [
       "2    60220\n",
       "3    58454\n",
       "4    11059\n",
       "1     9530\n",
       "5     5352\n",
       "6      109\n",
       "Name: age, dtype: int64"
      ]
     },
     "metadata": {},
     "output_type": "display_data"
    }
   ],
   "source": [
    "display(id_to_submit.head())\n",
    "display(id_to_submit.is_male.value_counts())\n",
    "display(id_to_submit.age.value_counts())\n",
    "id_to_submit.to_csv('submission.csv', index = False)"
   ]
  },
  {
   "cell_type": "code",
   "execution_count": 29,
   "id": "ac439d58",
   "metadata": {
    "execution": {
     "iopub.execute_input": "2023-03-27T14:04:21.720410Z",
     "iopub.status.busy": "2023-03-27T14:04:21.719969Z",
     "iopub.status.idle": "2023-03-27T14:04:21.725089Z",
     "shell.execute_reply": "2023-03-27T14:04:21.724269Z"
    },
    "papermill": {
     "duration": 0.027983,
     "end_time": "2023-03-27T14:04:21.727494",
     "exception": false,
     "start_time": "2023-03-27T14:04:21.699511",
     "status": "completed"
    },
    "tags": []
   },
   "outputs": [
    {
     "name": "stdout",
     "output_type": "stream",
     "text": [
      "Score: 1.5008168515767464\n"
     ]
    }
   ],
   "source": [
    "print(f'Score: {max_gini + 2*max_f1}')"
   ]
  }
 ],
 "metadata": {
  "kernelspec": {
   "display_name": "Python 3",
   "language": "python",
   "name": "python3"
  },
  "language_info": {
   "codemirror_mode": {
    "name": "ipython",
    "version": 3
   },
   "file_extension": ".py",
   "mimetype": "text/x-python",
   "name": "python",
   "nbconvert_exporter": "python",
   "pygments_lexer": "ipython3",
   "version": "3.7.12"
  },
  "papermill": {
   "default_parameters": {},
   "duration": 8459.304117,
   "end_time": "2023-03-27T14:04:25.316869",
   "environment_variables": {},
   "exception": null,
   "input_path": "__notebook__.ipynb",
   "output_path": "__notebook__.ipynb",
   "parameters": {},
   "start_time": "2023-03-27T11:43:26.012752",
   "version": "2.3.4"
  },
  "widgets": {
   "application/vnd.jupyter.widget-state+json": {
    "state": {
     "44d97c123544482c83f8e9b35b138c24": {
      "model_module": "@jupyter-widgets/base",
      "model_module_version": "1.2.0",
      "model_name": "LayoutModel",
      "state": {
       "_model_module": "@jupyter-widgets/base",
       "_model_module_version": "1.2.0",
       "_model_name": "LayoutModel",
       "_view_count": null,
       "_view_module": "@jupyter-widgets/base",
       "_view_module_version": "1.2.0",
       "_view_name": "LayoutView",
       "align_content": null,
       "align_items": null,
       "align_self": null,
       "border": null,
       "bottom": null,
       "display": null,
       "flex": null,
       "flex_flow": null,
       "grid_area": null,
       "grid_auto_columns": null,
       "grid_auto_flow": null,
       "grid_auto_rows": null,
       "grid_column": null,
       "grid_gap": null,
       "grid_row": null,
       "grid_template_areas": null,
       "grid_template_columns": null,
       "grid_template_rows": null,
       "height": null,
       "justify_content": null,
       "justify_items": null,
       "left": null,
       "margin": null,
       "max_height": null,
       "max_width": null,
       "min_height": null,
       "min_width": null,
       "object_fit": null,
       "object_position": null,
       "order": null,
       "overflow": null,
       "overflow_x": null,
       "overflow_y": null,
       "padding": null,
       "right": null,
       "top": null,
       "visibility": null,
       "width": null
      }
     },
     "51ad632344d54024812685216757d921": {
      "model_module": "@jupyter-widgets/controls",
      "model_module_version": "1.5.0",
      "model_name": "FloatProgressModel",
      "state": {
       "_dom_classes": [],
       "_model_module": "@jupyter-widgets/controls",
       "_model_module_version": "1.5.0",
       "_model_name": "FloatProgressModel",
       "_view_count": null,
       "_view_module": "@jupyter-widgets/controls",
       "_view_module_version": "1.5.0",
       "_view_name": "ProgressView",
       "bar_style": "success",
       "description": "",
       "description_tooltip": null,
       "layout": "IPY_MODEL_44d97c123544482c83f8e9b35b138c24",
       "max": 100.0,
       "min": 0.0,
       "orientation": "horizontal",
       "style": "IPY_MODEL_c52869d0a3404befa54bda2c0faecbaa",
       "value": 100.0
      }
     },
     "6a836984b08c42e0824328cbd5c8aee6": {
      "model_module": "@jupyter-widgets/controls",
      "model_module_version": "1.5.0",
      "model_name": "DescriptionStyleModel",
      "state": {
       "_model_module": "@jupyter-widgets/controls",
       "_model_module_version": "1.5.0",
       "_model_name": "DescriptionStyleModel",
       "_view_count": null,
       "_view_module": "@jupyter-widgets/base",
       "_view_module_version": "1.2.0",
       "_view_name": "StyleView",
       "description_width": ""
      }
     },
     "75deaf8f21ba4b869fb19937ec128eb6": {
      "model_module": "@jupyter-widgets/controls",
      "model_module_version": "1.5.0",
      "model_name": "HTMLModel",
      "state": {
       "_dom_classes": [],
       "_model_module": "@jupyter-widgets/controls",
       "_model_module_version": "1.5.0",
       "_model_name": "HTMLModel",
       "_view_count": null,
       "_view_module": "@jupyter-widgets/controls",
       "_view_module_version": "1.5.0",
       "_view_name": "HTMLView",
       "description": "",
       "description_tooltip": null,
       "layout": "IPY_MODEL_c9e16b230c604f47bc272621f44bad6a",
       "placeholder": "​",
       "style": "IPY_MODEL_f67c09adca6a46318f4cc434e83eccdd",
       "value": "100%"
      }
     },
     "941409e0de0543adbd47a1cdf7c8e3ef": {
      "model_module": "@jupyter-widgets/base",
      "model_module_version": "1.2.0",
      "model_name": "LayoutModel",
      "state": {
       "_model_module": "@jupyter-widgets/base",
       "_model_module_version": "1.2.0",
       "_model_name": "LayoutModel",
       "_view_count": null,
       "_view_module": "@jupyter-widgets/base",
       "_view_module_version": "1.2.0",
       "_view_name": "LayoutView",
       "align_content": null,
       "align_items": null,
       "align_self": null,
       "border": null,
       "bottom": null,
       "display": null,
       "flex": null,
       "flex_flow": null,
       "grid_area": null,
       "grid_auto_columns": null,
       "grid_auto_flow": null,
       "grid_auto_rows": null,
       "grid_column": null,
       "grid_gap": null,
       "grid_row": null,
       "grid_template_areas": null,
       "grid_template_columns": null,
       "grid_template_rows": null,
       "height": null,
       "justify_content": null,
       "justify_items": null,
       "left": null,
       "margin": null,
       "max_height": null,
       "max_width": null,
       "min_height": null,
       "min_width": null,
       "object_fit": null,
       "object_position": null,
       "order": null,
       "overflow": null,
       "overflow_x": null,
       "overflow_y": null,
       "padding": null,
       "right": null,
       "top": null,
       "visibility": null,
       "width": null
      }
     },
     "c52869d0a3404befa54bda2c0faecbaa": {
      "model_module": "@jupyter-widgets/controls",
      "model_module_version": "1.5.0",
      "model_name": "ProgressStyleModel",
      "state": {
       "_model_module": "@jupyter-widgets/controls",
       "_model_module_version": "1.5.0",
       "_model_name": "ProgressStyleModel",
       "_view_count": null,
       "_view_module": "@jupyter-widgets/base",
       "_view_module_version": "1.2.0",
       "_view_name": "StyleView",
       "bar_color": null,
       "description_width": ""
      }
     },
     "c9e16b230c604f47bc272621f44bad6a": {
      "model_module": "@jupyter-widgets/base",
      "model_module_version": "1.2.0",
      "model_name": "LayoutModel",
      "state": {
       "_model_module": "@jupyter-widgets/base",
       "_model_module_version": "1.2.0",
       "_model_name": "LayoutModel",
       "_view_count": null,
       "_view_module": "@jupyter-widgets/base",
       "_view_module_version": "1.2.0",
       "_view_name": "LayoutView",
       "align_content": null,
       "align_items": null,
       "align_self": null,
       "border": null,
       "bottom": null,
       "display": null,
       "flex": null,
       "flex_flow": null,
       "grid_area": null,
       "grid_auto_columns": null,
       "grid_auto_flow": null,
       "grid_auto_rows": null,
       "grid_column": null,
       "grid_gap": null,
       "grid_row": null,
       "grid_template_areas": null,
       "grid_template_columns": null,
       "grid_template_rows": null,
       "height": null,
       "justify_content": null,
       "justify_items": null,
       "left": null,
       "margin": null,
       "max_height": null,
       "max_width": null,
       "min_height": null,
       "min_width": null,
       "object_fit": null,
       "object_position": null,
       "order": null,
       "overflow": null,
       "overflow_x": null,
       "overflow_y": null,
       "padding": null,
       "right": null,
       "top": null,
       "visibility": null,
       "width": null
      }
     },
     "e3bb92c54d2347a2b86d75f368d076a2": {
      "model_module": "@jupyter-widgets/controls",
      "model_module_version": "1.5.0",
      "model_name": "HTMLModel",
      "state": {
       "_dom_classes": [],
       "_model_module": "@jupyter-widgets/controls",
       "_model_module_version": "1.5.0",
       "_model_name": "HTMLModel",
       "_view_count": null,
       "_view_module": "@jupyter-widgets/controls",
       "_view_module_version": "1.5.0",
       "_view_name": "HTMLView",
       "description": "",
       "description_tooltip": null,
       "layout": "IPY_MODEL_941409e0de0543adbd47a1cdf7c8e3ef",
       "placeholder": "​",
       "style": "IPY_MODEL_6a836984b08c42e0824328cbd5c8aee6",
       "value": " 100/100 [1:23:56&lt;00:00, 51.08s/it, loss=0.00025]"
      }
     },
     "ef81a3ed2db84c7f84b800dc6be9982c": {
      "model_module": "@jupyter-widgets/base",
      "model_module_version": "1.2.0",
      "model_name": "LayoutModel",
      "state": {
       "_model_module": "@jupyter-widgets/base",
       "_model_module_version": "1.2.0",
       "_model_name": "LayoutModel",
       "_view_count": null,
       "_view_module": "@jupyter-widgets/base",
       "_view_module_version": "1.2.0",
       "_view_name": "LayoutView",
       "align_content": null,
       "align_items": null,
       "align_self": null,
       "border": null,
       "bottom": null,
       "display": null,
       "flex": null,
       "flex_flow": null,
       "grid_area": null,
       "grid_auto_columns": null,
       "grid_auto_flow": null,
       "grid_auto_rows": null,
       "grid_column": null,
       "grid_gap": null,
       "grid_row": null,
       "grid_template_areas": null,
       "grid_template_columns": null,
       "grid_template_rows": null,
       "height": null,
       "justify_content": null,
       "justify_items": null,
       "left": null,
       "margin": null,
       "max_height": null,
       "max_width": null,
       "min_height": null,
       "min_width": null,
       "object_fit": null,
       "object_position": null,
       "order": null,
       "overflow": null,
       "overflow_x": null,
       "overflow_y": null,
       "padding": null,
       "right": null,
       "top": null,
       "visibility": null,
       "width": null
      }
     },
     "f67c09adca6a46318f4cc434e83eccdd": {
      "model_module": "@jupyter-widgets/controls",
      "model_module_version": "1.5.0",
      "model_name": "DescriptionStyleModel",
      "state": {
       "_model_module": "@jupyter-widgets/controls",
       "_model_module_version": "1.5.0",
       "_model_name": "DescriptionStyleModel",
       "_view_count": null,
       "_view_module": "@jupyter-widgets/base",
       "_view_module_version": "1.2.0",
       "_view_name": "StyleView",
       "description_width": ""
      }
     },
     "f9022e1d6aff4410a001b60a0ba39c1e": {
      "model_module": "@jupyter-widgets/controls",
      "model_module_version": "1.5.0",
      "model_name": "HBoxModel",
      "state": {
       "_dom_classes": [],
       "_model_module": "@jupyter-widgets/controls",
       "_model_module_version": "1.5.0",
       "_model_name": "HBoxModel",
       "_view_count": null,
       "_view_module": "@jupyter-widgets/controls",
       "_view_module_version": "1.5.0",
       "_view_name": "HBoxView",
       "box_style": "",
       "children": [
        "IPY_MODEL_75deaf8f21ba4b869fb19937ec128eb6",
        "IPY_MODEL_51ad632344d54024812685216757d921",
        "IPY_MODEL_e3bb92c54d2347a2b86d75f368d076a2"
       ],
       "layout": "IPY_MODEL_ef81a3ed2db84c7f84b800dc6be9982c"
      }
     }
    },
    "version_major": 2,
    "version_minor": 0
   }
  }
 },
 "nbformat": 4,
 "nbformat_minor": 5
}
