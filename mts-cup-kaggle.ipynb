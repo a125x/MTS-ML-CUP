{
  "cells": [
    {
      "cell_type": "markdown",
      "id": "fe4df30f",
      "metadata": {
        "papermill": {
          "duration": 0.011788,
          "end_time": "2023-03-12T17:18:54.321203",
          "exception": false,
          "start_time": "2023-03-12T17:18:54.309415",
          "status": "completed"
        },
        "tags": [],
        "id": "fe4df30f"
      },
      "source": [
        "## Imports and constants"
      ]
    },
    {
      "cell_type": "markdown",
      "id": "60a4ccd4",
      "metadata": {
        "papermill": {
          "duration": 0.009858,
          "end_time": "2023-03-12T17:18:54.341098",
          "exception": false,
          "start_time": "2023-03-12T17:18:54.331240",
          "status": "completed"
        },
        "tags": [],
        "id": "60a4ccd4"
      },
      "source": [
        "to do: \n",
        "\n",
        "transformers, features generation,\n",
        "fix left bisect as described in the changed rules"
      ]
    },
    {
      "cell_type": "code",
      "execution_count": 2,
      "id": "5ba9c091",
      "metadata": {
        "execution": {
          "iopub.execute_input": "2023-03-12T17:18:54.362469Z",
          "iopub.status.busy": "2023-03-12T17:18:54.361863Z",
          "iopub.status.idle": "2023-03-12T17:18:54.381437Z",
          "shell.execute_reply": "2023-03-12T17:18:54.380274Z"
        },
        "papermill": {
          "duration": 0.033758,
          "end_time": "2023-03-12T17:18:54.384365",
          "exception": false,
          "start_time": "2023-03-12T17:18:54.350607",
          "status": "completed"
        },
        "tags": [],
        "id": "5ba9c091"
      },
      "outputs": [],
      "source": [
        "SPLIT_SEED = 42\n",
        "KFOLD_SPLITS = 2\n",
        "\n",
        "IS_EMBEDDING_USED = False\n",
        "if (IS_EMBEDDING_USED):\n",
        "    IS_GPU_USED = False\n",
        "    FAISS_ITERATIONS = 2\n",
        "    FACTORS = 10\n",
        "    \n",
        "IS_POLARS_USED = False\n",
        "    \n",
        "IS_NOTEBOOK_ON_KAGGLE = False\n",
        "IS_NOTBOOK_ON_COLAB = True\n",
        "\n",
        "IS_MODEL_TRANSFORMERS4REC = True\n",
        "IS_MODEL_CATBOOST = False\n",
        "IS_MODEL_RANDFOREST = False"
      ]
    },
    {
      "cell_type": "code",
      "execution_count": 3,
      "id": "d93f5256",
      "metadata": {
        "execution": {
          "iopub.execute_input": "2023-03-12T17:18:54.435815Z",
          "iopub.status.busy": "2023-03-12T17:18:54.435390Z",
          "iopub.status.idle": "2023-03-12T17:19:40.375604Z",
          "shell.execute_reply": "2023-03-12T17:19:40.374215Z"
        },
        "papermill": {
          "duration": 45.954143,
          "end_time": "2023-03-12T17:19:40.378352",
          "exception": false,
          "start_time": "2023-03-12T17:18:54.424209",
          "status": "completed"
        },
        "tags": [],
        "id": "d93f5256",
        "outputId": "4764b993-1721-49c4-8961-8e3000fae6e4",
        "colab": {
          "base_uri": "https://localhost:8080/"
        }
      },
      "outputs": [
        {
          "output_type": "stream",
          "name": "stdout",
          "text": [
            "\u001b[2K     \u001b[90m━━━━━━━━━━━━━━━━━━━━━━━━━━━━━━━━━━━━━━━━\u001b[0m \u001b[32m16.2/16.2 MB\u001b[0m \u001b[31m29.9 MB/s\u001b[0m eta \u001b[36m0:00:00\u001b[0m\n",
            "\u001b[2K     \u001b[90m━━━━━━━━━━━━━━━━━━━━━━━━━━━━━━━━━━━━━━━━\u001b[0m \u001b[32m1.0/1.0 MB\u001b[0m \u001b[31m18.9 MB/s\u001b[0m eta \u001b[36m0:00:00\u001b[0m\n",
            "\u001b[?25h  Installing build dependencies ... \u001b[?25l\u001b[?25hdone\n",
            "  Getting requirements to build wheel ... \u001b[?25l\u001b[?25hdone\n",
            "  Preparing metadata (pyproject.toml) ... \u001b[?25l\u001b[?25hdone\n",
            "\u001b[2K     \u001b[90m━━━━━━━━━━━━━━━━━━━━━━━━━━━━━━━━━━━━━━━━\u001b[0m \u001b[32m4.0/4.0 MB\u001b[0m \u001b[31m61.8 MB/s\u001b[0m eta \u001b[36m0:00:00\u001b[0m\n",
            "\u001b[?25h  Installing build dependencies ... \u001b[?25l\u001b[?25hdone\n",
            "  Getting requirements to build wheel ... \u001b[?25l\u001b[?25hdone\n",
            "  Preparing metadata (pyproject.toml) ... \u001b[?25l\u001b[?25hdone\n",
            "\u001b[2K     \u001b[90m━━━━━━━━━━━━━━━━━━━━━━━━━━━━━━━━━━━━━━━━\u001b[0m \u001b[32m62.1/62.1 KB\u001b[0m \u001b[31m6.2 MB/s\u001b[0m eta \u001b[36m0:00:00\u001b[0m\n",
            "\u001b[?25h  Installing build dependencies ... \u001b[?25l\u001b[?25hdone\n",
            "  Getting requirements to build wheel ... \u001b[?25l\u001b[?25hdone\n",
            "  Preparing metadata (pyproject.toml) ... \u001b[?25l\u001b[?25hdone\n",
            "  Preparing metadata (setup.py) ... \u001b[?25l\u001b[?25hdone\n",
            "\u001b[2K     \u001b[90m━━━━━━━━━━━━━━━━━━━━━━━━━━━━━━━━━━━━━━\u001b[0m \u001b[32m880.6/880.6 KB\u001b[0m \u001b[31m55.9 MB/s\u001b[0m eta \u001b[36m0:00:00\u001b[0m\n",
            "\u001b[?25h  Preparing metadata (setup.py) ... \u001b[?25l\u001b[?25hdone\n",
            "\u001b[2K     \u001b[90m━━━━━━━━━━━━━━━━━━━━━━━━━━━━━━━━━━━━━━━━\u001b[0m \u001b[32m6.6/6.6 MB\u001b[0m \u001b[31m89.5 MB/s\u001b[0m eta \u001b[36m0:00:00\u001b[0m\n",
            "\u001b[2K     \u001b[90m━━━━━━━━━━━━━━━━━━━━━━━━━━━━━━━━━━━━━━\u001b[0m \u001b[32m199.8/199.8 KB\u001b[0m \u001b[31m18.7 MB/s\u001b[0m eta \u001b[36m0:00:00\u001b[0m\n",
            "\u001b[2K     \u001b[90m━━━━━━━━━━━━━━━━━━━━━━━━━━━━━━━━━━━━━━\u001b[0m \u001b[32m114.2/114.2 KB\u001b[0m \u001b[31m13.4 MB/s\u001b[0m eta \u001b[36m0:00:00\u001b[0m\n",
            "\u001b[2K     \u001b[90m━━━━━━━━━━━━━━━━━━━━━━━━━━━━━━━━━━━━━━━━\u001b[0m \u001b[32m57.5/57.5 KB\u001b[0m \u001b[31m4.1 MB/s\u001b[0m eta \u001b[36m0:00:00\u001b[0m\n",
            "\u001b[?25h  Building wheel for transformers4rec (pyproject.toml) ... \u001b[?25l\u001b[?25hdone\n",
            "  Building wheel for betterproto (pyproject.toml) ... \u001b[?25l\u001b[?25hdone\n",
            "  Building wheel for grpclib (pyproject.toml) ... \u001b[?25l\u001b[?25hdone\n",
            "  Building wheel for sacremoses (setup.py) ... \u001b[?25l\u001b[?25hdone\n",
            "  Building wheel for stringcase (setup.py) ... \u001b[?25l\u001b[?25hdone\n",
            "\u001b[2K     \u001b[90m━━━━━━━━━━━━━━━━━━━━━━━━━━━━━━━━━━━━━━━\u001b[0m \u001b[32m302.7/302.7 KB\u001b[0m \u001b[31m9.4 MB/s\u001b[0m eta \u001b[36m0:00:00\u001b[0m\n",
            "\u001b[2K     \u001b[90m━━━━━━━━━━━━━━━━━━━━━━━━━━━━━━━━━━━━━━\u001b[0m \u001b[32m122.0/122.0 KB\u001b[0m \u001b[31m14.4 MB/s\u001b[0m eta \u001b[36m0:00:00\u001b[0m\n",
            "\u001b[?25h  Installing build dependencies ... \u001b[?25l\u001b[?25hdone\n",
            "  Getting requirements to build wheel ... \u001b[?25l\u001b[?25hdone\n",
            "  Preparing metadata (pyproject.toml) ... \u001b[?25l\u001b[?25hdone\n",
            "\u001b[2K     \u001b[90m━━━━━━━━━━━━━━━━━━━━━━━━━━━━━━━━━━━━━━━━\u001b[0m \u001b[32m49.2/49.2 KB\u001b[0m \u001b[31m6.4 MB/s\u001b[0m eta \u001b[36m0:00:00\u001b[0m\n",
            "\u001b[?25h  Installing build dependencies ... \u001b[?25l\u001b[?25hdone\n",
            "  Getting requirements to build wheel ... \u001b[?25l\u001b[?25hdone\n",
            "  Preparing metadata (pyproject.toml) ... \u001b[?25l\u001b[?25hdone\n",
            "\u001b[2K     \u001b[90m━━━━━━━━━━━━━━━━━━━━━━━━━━━━━━━━━━━━━━━━\u001b[0m \u001b[32m47.0/47.0 KB\u001b[0m \u001b[31m5.6 MB/s\u001b[0m eta \u001b[36m0:00:00\u001b[0m\n",
            "\u001b[2K     \u001b[90m━━━━━━━━━━━━━━━━━━━━━━━━━━━━━━━━━━━━━━\u001b[0m \u001b[32m140.6/140.6 KB\u001b[0m \u001b[31m17.5 MB/s\u001b[0m eta \u001b[36m0:00:00\u001b[0m\n",
            "\u001b[?25h  Building wheel for merlin-core (pyproject.toml) ... \u001b[?25l\u001b[?25hdone\n",
            "  Building wheel for merlin-dataloader (pyproject.toml) ... \u001b[?25l\u001b[?25hdone\n",
            "\u001b[2K     \u001b[90m━━━━━━━━━━━━━━━━━━━━━━━━━━━━━━━━━━━━━━\u001b[0m \u001b[32m519.2/519.2 KB\u001b[0m \u001b[31m15.4 MB/s\u001b[0m eta \u001b[36m0:00:00\u001b[0m\n",
            "\u001b[?25h"
          ]
        },
        {
          "output_type": "stream",
          "name": "stderr",
          "text": [
            "/usr/local/lib/python3.9/dist-packages/merlin/dtypes/mappings/cudf.py:57: UserWarning: cuDF dtype mappings did not load successfully due to an error: No module named 'cudf'\n",
            "  warn(f\"cuDF dtype mappings did not load successfully due to an error: {exc.msg}\")\n",
            "/usr/local/lib/python3.9/dist-packages/merlin/dtypes/mappings/triton.py:53: UserWarning: Triton dtype mappings did not load successfully due to an error: No module named 'tritonclient'\n",
            "  warn(f\"Triton dtype mappings did not load successfully due to an error: {exc.msg}\")\n"
          ]
        }
      ],
      "source": [
        "!pip install feather-format >> none -q\n",
        "!pip install polars -q\n",
        "\n",
        "import bisect\n",
        "import matplotlib.pyplot as plt\n",
        "import numpy as np\n",
        "import os\n",
        "import pandas as pd\n",
        "import plotly.express as px\n",
        "import polars as pl\n",
        "import pyarrow as pa\n",
        "import pyarrow.parquet as pq\n",
        "import seaborn as sns\n",
        "import sklearn.metrics as m\n",
        "import sys\n",
        "import tensorflow as tf\n",
        "import time\n",
        "import warnings\n",
        "\n",
        "from pathlib import Path\n",
        "from sklearn.model_selection import KFold\n",
        "\n",
        "if IS_EMBEDDING_USED:\n",
        "    !pip install faiss-cpu --no-cache -q\n",
        "    \n",
        "    import implicit\n",
        "    import scipy\n",
        "\n",
        "if IS_MODEL_RANDFOREST:\n",
        "    from sklearn.ensemble import RandomForestClassifier\n",
        "\n",
        "if IS_MODEL_CATBOOST:\n",
        "    from catboost import CatBoostClassifier, CatBoostRegressor, Pool\n",
        "\n",
        "if (IS_MODEL_TRANSFORMERS4REC):\n",
        "    !pip install transformers4rec -q\n",
        "    !pip install torch -q\n",
        "    !pip install nvtabular -q\n",
        "    !pip install torchmetrics -q\n",
        "    !pip install merlin-dataloader -q\n",
        "    \n",
        "    os.environ[\"CUDA_VISIBLE_DEVICES\"]=\"0\"\n",
        "\n",
        "    import glob\n",
        "    import merlin\n",
        "    import torch \n",
        "\n",
        "    from merlin_standard_lib import Schema\n",
        "    from merlin.io import Dataset\n",
        "    from transformers4rec import torch as tr\n",
        "    from transformers4rec.torch.ranking_metric import NDCGAt, AvgPrecisionAt, RecallAt\n",
        "    from transformers4rec.torch.utils.examples_utils import wipe_memory\n",
        "\n",
        "%matplotlib inline\n",
        "sns.set_style('darkgrid')\n",
        "warnings.filterwarnings('ignore')"
      ]
    },
    {
      "cell_type": "code",
      "source": [
        "if IS_NOTEBOOK_ON_KAGGLE:\n",
        "    LOCAL_DATA_PATH = Path('/kaggle', 'input', 'mts-ml-cookies')\n",
        "    DATA_FILE = Path('dataset_full.feather')\n",
        "    TARGET_FILE = Path('target_train.feather')\n",
        "    SUBMISSION_FILE = Path('submission.feather')\n",
        "elif IS_NOTBOOK_ON_COLAB:\n",
        "    LOCAL_DATA_PATH = Path('/content', 'mts-ml-cookies')\n",
        "    DATA_FILE = Path('dataset_full.feather')\n",
        "    TARGET_FILE = Path('target_train.feather')\n",
        "    SUBMISSION_FILE = Path('submission.feather')"
      ],
      "metadata": {
        "id": "ZKHOXiOy54qj"
      },
      "id": "ZKHOXiOy54qj",
      "execution_count": 8,
      "outputs": []
    },
    {
      "cell_type": "markdown",
      "id": "c659ad68",
      "metadata": {
        "papermill": {
          "duration": 0.009801,
          "end_time": "2023-03-12T17:19:40.398295",
          "exception": false,
          "start_time": "2023-03-12T17:19:40.388494",
          "status": "completed"
        },
        "tags": [],
        "id": "c659ad68"
      },
      "source": [
        "## Showing data"
      ]
    },
    {
      "cell_type": "code",
      "execution_count": 9,
      "id": "30630721",
      "metadata": {
        "execution": {
          "iopub.execute_input": "2023-03-12T17:19:40.420032Z",
          "iopub.status.busy": "2023-03-12T17:19:40.419348Z",
          "iopub.status.idle": "2023-03-12T17:19:40.509856Z",
          "shell.execute_reply": "2023-03-12T17:19:40.508959Z"
        },
        "papermill": {
          "duration": 0.104229,
          "end_time": "2023-03-12T17:19:40.512369",
          "exception": false,
          "start_time": "2023-03-12T17:19:40.408140",
          "status": "completed"
        },
        "tags": [],
        "id": "30630721",
        "outputId": "90656b35-a7c5-4822-ebce-9cc632415799",
        "colab": {
          "base_uri": "https://localhost:8080/",
          "height": 380
        }
      },
      "outputs": [
        {
          "output_type": "display_data",
          "data": {
            "text/plain": [
              "   user_id\n",
              "0   221301\n",
              "1    31271\n",
              "2   211594"
            ],
            "text/html": [
              "\n",
              "  <div id=\"df-5b9d2749-c38e-4255-9583-2c83dc3fbc58\">\n",
              "    <div class=\"colab-df-container\">\n",
              "      <div>\n",
              "<style scoped>\n",
              "    .dataframe tbody tr th:only-of-type {\n",
              "        vertical-align: middle;\n",
              "    }\n",
              "\n",
              "    .dataframe tbody tr th {\n",
              "        vertical-align: top;\n",
              "    }\n",
              "\n",
              "    .dataframe thead th {\n",
              "        text-align: right;\n",
              "    }\n",
              "</style>\n",
              "<table border=\"1\" class=\"dataframe\">\n",
              "  <thead>\n",
              "    <tr style=\"text-align: right;\">\n",
              "      <th></th>\n",
              "      <th>user_id</th>\n",
              "    </tr>\n",
              "  </thead>\n",
              "  <tbody>\n",
              "    <tr>\n",
              "      <th>0</th>\n",
              "      <td>221301</td>\n",
              "    </tr>\n",
              "    <tr>\n",
              "      <th>1</th>\n",
              "      <td>31271</td>\n",
              "    </tr>\n",
              "    <tr>\n",
              "      <th>2</th>\n",
              "      <td>211594</td>\n",
              "    </tr>\n",
              "  </tbody>\n",
              "</table>\n",
              "</div>\n",
              "      <button class=\"colab-df-convert\" onclick=\"convertToInteractive('df-5b9d2749-c38e-4255-9583-2c83dc3fbc58')\"\n",
              "              title=\"Convert this dataframe to an interactive table.\"\n",
              "              style=\"display:none;\">\n",
              "        \n",
              "  <svg xmlns=\"http://www.w3.org/2000/svg\" height=\"24px\"viewBox=\"0 0 24 24\"\n",
              "       width=\"24px\">\n",
              "    <path d=\"M0 0h24v24H0V0z\" fill=\"none\"/>\n",
              "    <path d=\"M18.56 5.44l.94 2.06.94-2.06 2.06-.94-2.06-.94-.94-2.06-.94 2.06-2.06.94zm-11 1L8.5 8.5l.94-2.06 2.06-.94-2.06-.94L8.5 2.5l-.94 2.06-2.06.94zm10 10l.94 2.06.94-2.06 2.06-.94-2.06-.94-.94-2.06-.94 2.06-2.06.94z\"/><path d=\"M17.41 7.96l-1.37-1.37c-.4-.4-.92-.59-1.43-.59-.52 0-1.04.2-1.43.59L10.3 9.45l-7.72 7.72c-.78.78-.78 2.05 0 2.83L4 21.41c.39.39.9.59 1.41.59.51 0 1.02-.2 1.41-.59l7.78-7.78 2.81-2.81c.8-.78.8-2.07 0-2.86zM5.41 20L4 18.59l7.72-7.72 1.47 1.35L5.41 20z\"/>\n",
              "  </svg>\n",
              "      </button>\n",
              "      \n",
              "  <style>\n",
              "    .colab-df-container {\n",
              "      display:flex;\n",
              "      flex-wrap:wrap;\n",
              "      gap: 12px;\n",
              "    }\n",
              "\n",
              "    .colab-df-convert {\n",
              "      background-color: #E8F0FE;\n",
              "      border: none;\n",
              "      border-radius: 50%;\n",
              "      cursor: pointer;\n",
              "      display: none;\n",
              "      fill: #1967D2;\n",
              "      height: 32px;\n",
              "      padding: 0 0 0 0;\n",
              "      width: 32px;\n",
              "    }\n",
              "\n",
              "    .colab-df-convert:hover {\n",
              "      background-color: #E2EBFA;\n",
              "      box-shadow: 0px 1px 2px rgba(60, 64, 67, 0.3), 0px 1px 3px 1px rgba(60, 64, 67, 0.15);\n",
              "      fill: #174EA6;\n",
              "    }\n",
              "\n",
              "    [theme=dark] .colab-df-convert {\n",
              "      background-color: #3B4455;\n",
              "      fill: #D2E3FC;\n",
              "    }\n",
              "\n",
              "    [theme=dark] .colab-df-convert:hover {\n",
              "      background-color: #434B5C;\n",
              "      box-shadow: 0px 1px 3px 1px rgba(0, 0, 0, 0.15);\n",
              "      filter: drop-shadow(0px 1px 2px rgba(0, 0, 0, 0.3));\n",
              "      fill: #FFFFFF;\n",
              "    }\n",
              "  </style>\n",
              "\n",
              "      <script>\n",
              "        const buttonEl =\n",
              "          document.querySelector('#df-5b9d2749-c38e-4255-9583-2c83dc3fbc58 button.colab-df-convert');\n",
              "        buttonEl.style.display =\n",
              "          google.colab.kernel.accessAllowed ? 'block' : 'none';\n",
              "\n",
              "        async function convertToInteractive(key) {\n",
              "          const element = document.querySelector('#df-5b9d2749-c38e-4255-9583-2c83dc3fbc58');\n",
              "          const dataTable =\n",
              "            await google.colab.kernel.invokeFunction('convertToInteractive',\n",
              "                                                     [key], {});\n",
              "          if (!dataTable) return;\n",
              "\n",
              "          const docLinkHtml = 'Like what you see? Visit the ' +\n",
              "            '<a target=\"_blank\" href=https://colab.research.google.com/notebooks/data_table.ipynb>data table notebook</a>'\n",
              "            + ' to learn more about interactive tables.';\n",
              "          element.innerHTML = '';\n",
              "          dataTable['output_type'] = 'display_data';\n",
              "          await google.colab.output.renderOutput(dataTable, element);\n",
              "          const docLink = document.createElement('div');\n",
              "          docLink.innerHTML = docLinkHtml;\n",
              "          element.appendChild(docLink);\n",
              "        }\n",
              "      </script>\n",
              "    </div>\n",
              "  </div>\n",
              "  "
            ]
          },
          "metadata": {}
        },
        {
          "output_type": "execute_result",
          "data": {
            "text/plain": [
              "<bound method DataFrame.info of         user_id\n",
              "0        221301\n",
              "1         31271\n",
              "2        211594\n",
              "3        253119\n",
              "4        192578\n",
              "...         ...\n",
              "144719   415284\n",
              "144720   415285\n",
              "144721   415286\n",
              "144722   415306\n",
              "144723   415315\n",
              "\n",
              "[144724 rows x 1 columns]>"
            ]
          },
          "metadata": {},
          "execution_count": 9
        }
      ],
      "source": [
        "id_to_submit = pd.read_feather(Path(LOCAL_DATA_PATH, SUBMISSION_FILE))\n",
        "display(id_to_submit.head(3))\n",
        "id_to_submit.info"
      ]
    },
    {
      "cell_type": "code",
      "execution_count": 11,
      "id": "d02aee6d",
      "metadata": {
        "execution": {
          "iopub.execute_input": "2023-03-12T17:19:40.580159Z",
          "iopub.status.busy": "2023-03-12T17:19:40.579752Z",
          "iopub.status.idle": "2023-03-12T17:20:20.338441Z",
          "shell.execute_reply": "2023-03-12T17:20:20.337070Z"
        },
        "papermill": {
          "duration": 39.773472,
          "end_time": "2023-03-12T17:20:20.341396",
          "exception": false,
          "start_time": "2023-03-12T17:19:40.567924",
          "status": "completed"
        },
        "tags": [],
        "id": "d02aee6d",
        "outputId": "86c9dbe7-afca-45b4-be6d-8039f3268ec2",
        "colab": {
          "base_uri": "https://localhost:8080/",
          "height": 256
        }
      },
      "outputs": [
        {
          "output_type": "error",
          "ename": "ArrowInvalid",
          "evalue": "ignored",
          "traceback": [
            "\u001b[0;31m---------------------------------------------------------------------------\u001b[0m",
            "\u001b[0;31mArrowInvalid\u001b[0m                              Traceback (most recent call last)",
            "\u001b[0;32m<ipython-input-11-7d3085418238>\u001b[0m in \u001b[0;36m<module>\u001b[0;34m\u001b[0m\n\u001b[0;32m----> 1\u001b[0;31m \u001b[0mdata\u001b[0m \u001b[0;34m=\u001b[0m \u001b[0mpd\u001b[0m\u001b[0;34m.\u001b[0m\u001b[0mread_feather\u001b[0m\u001b[0;34m(\u001b[0m\u001b[0mPath\u001b[0m\u001b[0;34m(\u001b[0m\u001b[0mLOCAL_DATA_PATH\u001b[0m\u001b[0;34m,\u001b[0m \u001b[0mDATA_FILE\u001b[0m\u001b[0;34m)\u001b[0m\u001b[0;34m)\u001b[0m\u001b[0;34m\u001b[0m\u001b[0;34m\u001b[0m\u001b[0m\n\u001b[0m\u001b[1;32m      2\u001b[0m \u001b[0mdisplay\u001b[0m\u001b[0;34m(\u001b[0m\u001b[0mdata\u001b[0m\u001b[0;34m.\u001b[0m\u001b[0mhead\u001b[0m\u001b[0;34m(\u001b[0m\u001b[0;34m)\u001b[0m\u001b[0;34m)\u001b[0m\u001b[0;34m\u001b[0m\u001b[0;34m\u001b[0m\u001b[0m\n\u001b[1;32m      3\u001b[0m \u001b[0mdata\u001b[0m\u001b[0;34m.\u001b[0m\u001b[0mdescribe\u001b[0m\u001b[0;34m(\u001b[0m\u001b[0;34m)\u001b[0m\u001b[0;34m\u001b[0m\u001b[0;34m\u001b[0m\u001b[0m\n",
            "\u001b[0;32m/usr/local/lib/python3.9/dist-packages/pandas/io/feather_format.py\u001b[0m in \u001b[0;36mread_feather\u001b[0;34m(path, columns, use_threads, storage_options)\u001b[0m\n\u001b[1;32m    130\u001b[0m     ) as handles:\n\u001b[1;32m    131\u001b[0m \u001b[0;34m\u001b[0m\u001b[0m\n\u001b[0;32m--> 132\u001b[0;31m         return feather.read_feather(\n\u001b[0m\u001b[1;32m    133\u001b[0m             \u001b[0mhandles\u001b[0m\u001b[0;34m.\u001b[0m\u001b[0mhandle\u001b[0m\u001b[0;34m,\u001b[0m \u001b[0mcolumns\u001b[0m\u001b[0;34m=\u001b[0m\u001b[0mcolumns\u001b[0m\u001b[0;34m,\u001b[0m \u001b[0muse_threads\u001b[0m\u001b[0;34m=\u001b[0m\u001b[0mbool\u001b[0m\u001b[0;34m(\u001b[0m\u001b[0muse_threads\u001b[0m\u001b[0;34m)\u001b[0m\u001b[0;34m\u001b[0m\u001b[0;34m\u001b[0m\u001b[0m\n\u001b[1;32m    134\u001b[0m         )\n",
            "\u001b[0;32m/usr/local/lib/python3.9/dist-packages/pyarrow/feather.py\u001b[0m in \u001b[0;36mread_feather\u001b[0;34m(source, columns, use_threads, memory_map)\u001b[0m\n\u001b[1;32m    229\u001b[0m     \"\"\"\n\u001b[1;32m    230\u001b[0m     \u001b[0m_check_pandas_version\u001b[0m\u001b[0;34m(\u001b[0m\u001b[0;34m)\u001b[0m\u001b[0;34m\u001b[0m\u001b[0;34m\u001b[0m\u001b[0m\n\u001b[0;32m--> 231\u001b[0;31m     return (read_table(\n\u001b[0m\u001b[1;32m    232\u001b[0m         \u001b[0msource\u001b[0m\u001b[0;34m,\u001b[0m \u001b[0mcolumns\u001b[0m\u001b[0;34m=\u001b[0m\u001b[0mcolumns\u001b[0m\u001b[0;34m,\u001b[0m \u001b[0mmemory_map\u001b[0m\u001b[0;34m=\u001b[0m\u001b[0mmemory_map\u001b[0m\u001b[0;34m,\u001b[0m\u001b[0;34m\u001b[0m\u001b[0;34m\u001b[0m\u001b[0m\n\u001b[1;32m    233\u001b[0m         use_threads=use_threads).to_pandas(use_threads=use_threads))\n",
            "\u001b[0;32m/usr/local/lib/python3.9/dist-packages/pyarrow/feather.py\u001b[0m in \u001b[0;36mread_table\u001b[0;34m(source, columns, memory_map, use_threads)\u001b[0m\n\u001b[1;32m    254\u001b[0m     \u001b[0mtable\u001b[0m \u001b[0;34m:\u001b[0m \u001b[0mpyarrow\u001b[0m\u001b[0;34m.\u001b[0m\u001b[0mTable\u001b[0m\u001b[0;34m\u001b[0m\u001b[0;34m\u001b[0m\u001b[0m\n\u001b[1;32m    255\u001b[0m     \"\"\"\n\u001b[0;32m--> 256\u001b[0;31m     reader = _feather.FeatherReader(\n\u001b[0m\u001b[1;32m    257\u001b[0m         source, use_memory_map=memory_map, use_threads=use_threads)\n\u001b[1;32m    258\u001b[0m \u001b[0;34m\u001b[0m\u001b[0m\n",
            "\u001b[0;32m/usr/local/lib/python3.9/dist-packages/pyarrow/_feather.pyx\u001b[0m in \u001b[0;36mpyarrow._feather.FeatherReader.__cinit__\u001b[0;34m()\u001b[0m\n",
            "\u001b[0;32m/usr/local/lib/python3.9/dist-packages/pyarrow/error.pxi\u001b[0m in \u001b[0;36mpyarrow.lib.pyarrow_internal_check_status\u001b[0;34m()\u001b[0m\n",
            "\u001b[0;32m/usr/local/lib/python3.9/dist-packages/pyarrow/error.pxi\u001b[0m in \u001b[0;36mpyarrow.lib.check_status\u001b[0;34m()\u001b[0m\n",
            "\u001b[0;31mArrowInvalid\u001b[0m: Not an Arrow file"
          ]
        }
      ],
      "source": [
        "data = pd.read_feather(Path(LOCAL_DATA_PATH, DATA_FILE))\n",
        "display(data.head())\n",
        "data.describe()"
      ]
    },
    {
      "cell_type": "code",
      "execution_count": null,
      "id": "4de72ffc",
      "metadata": {
        "execution": {
          "iopub.execute_input": "2023-03-12T17:20:52.577808Z",
          "iopub.status.busy": "2023-03-12T17:20:52.577415Z",
          "iopub.status.idle": "2023-03-12T17:21:01.532475Z",
          "shell.execute_reply": "2023-03-12T17:21:01.531290Z"
        },
        "papermill": {
          "duration": 8.969482,
          "end_time": "2023-03-12T17:21:01.535047",
          "exception": false,
          "start_time": "2023-03-12T17:20:52.565565",
          "status": "completed"
        },
        "tags": [],
        "id": "4de72ffc"
      },
      "outputs": [],
      "source": [
        "if IS_POLARS_USED:\n",
        "    for column in data.columns:\n",
        "        if column != \"date\" and column !=\"price\" and column !=\"user_id\" and column !=\"request_cnt\":\n",
        "            print(type(data[column]))\n",
        "            data[column] = data[column].cat.codes\n",
        "        elif column == \"date\":\n",
        "            data[\"date\"] = pd.to_datetime(data[\"date\"])\n",
        "\n",
        "    data.head()"
      ]
    },
    {
      "cell_type": "code",
      "execution_count": null,
      "id": "5a9925e8",
      "metadata": {
        "execution": {
          "iopub.execute_input": "2023-03-12T17:21:01.559118Z",
          "iopub.status.busy": "2023-03-12T17:21:01.558668Z",
          "iopub.status.idle": "2023-03-12T17:21:04.449275Z",
          "shell.execute_reply": "2023-03-12T17:21:04.448070Z"
        },
        "papermill": {
          "duration": 2.905579,
          "end_time": "2023-03-12T17:21:04.451863",
          "exception": false,
          "start_time": "2023-03-12T17:21:01.546284",
          "status": "completed"
        },
        "tags": [],
        "id": "5a9925e8"
      },
      "outputs": [],
      "source": [
        "if IS_POLARS_USED:\n",
        "    data = pl.from_pandas(data)\n",
        "    display(data.select(['cpe_type_cd']).to_pandas()['cpe_type_cd'].value_counts())\n",
        "    data['cpe_type_cd'].value_counts()"
      ]
    },
    {
      "cell_type": "code",
      "execution_count": null,
      "id": "c93985a7",
      "metadata": {
        "execution": {
          "iopub.execute_input": "2023-03-12T17:21:13.909401Z",
          "iopub.status.busy": "2023-03-12T17:21:13.908494Z",
          "iopub.status.idle": "2023-03-12T17:21:14.018682Z",
          "shell.execute_reply": "2023-03-12T17:21:14.017867Z"
        },
        "papermill": {
          "duration": 0.124828,
          "end_time": "2023-03-12T17:21:14.020769",
          "exception": false,
          "start_time": "2023-03-12T17:21:13.895941",
          "status": "completed"
        },
        "tags": [],
        "id": "c93985a7"
      },
      "outputs": [],
      "source": [
        "targets = pd.read_feather(Path(LOCAL_DATA_PATH, TARGET_FILE))\n",
        "display(targets.head())\n",
        "targets = pa.Table.from_pandas(targets)\n",
        "pd.DataFrame([(z.name, z.type) for z in targets.schema], columns = [['field', 'type']])"
      ]
    },
    {
      "cell_type": "markdown",
      "id": "c6465629",
      "metadata": {
        "papermill": {
          "duration": 0.011667,
          "end_time": "2023-03-12T17:21:14.095958",
          "exception": false,
          "start_time": "2023-03-12T17:21:14.084291",
          "status": "completed"
        },
        "tags": [],
        "id": "c6465629"
      },
      "source": [
        "## Counting users <-> items embedding"
      ]
    },
    {
      "cell_type": "code",
      "execution_count": null,
      "id": "ea5a2506",
      "metadata": {
        "execution": {
          "iopub.execute_input": "2023-03-12T17:21:14.122361Z",
          "iopub.status.busy": "2023-03-12T17:21:14.121954Z",
          "iopub.status.idle": "2023-03-12T17:21:50.936745Z",
          "shell.execute_reply": "2023-03-12T17:21:50.935918Z"
        },
        "papermill": {
          "duration": 36.831437,
          "end_time": "2023-03-12T17:21:50.939871",
          "exception": false,
          "start_time": "2023-03-12T17:21:14.108434",
          "status": "completed"
        },
        "tags": [],
        "id": "ea5a2506"
      },
      "outputs": [],
      "source": [
        "%%time\n",
        "if IS_EMBEDDING_USED:\n",
        "    data_agg = data.groupby(['user_id', 'url_host'], maintain_order=True).agg(\n",
        "        pl.sum(\"request_cnt\")\n",
        "    )\n",
        "    url_set = set(data_agg.select(['url_host']).to_pandas()['url_host'])\n",
        "    print(f'{len(url_set)} urls')\n",
        "    url_dict = {url: idurl for url, idurl in zip(url_set, range(len(url_set)))}\n",
        "    usr_set = set(data_agg.select(['user_id']).to_pandas()['user_id'])\n",
        "    print(f'{len(usr_set)} users')\n",
        "    usr_dict = {usr: user_id for usr, user_id in zip(usr_set, range(len(usr_set)))}"
      ]
    },
    {
      "cell_type": "code",
      "execution_count": null,
      "id": "c5d1d232",
      "metadata": {
        "execution": {
          "iopub.execute_input": "2023-03-12T17:21:50.967388Z",
          "iopub.status.busy": "2023-03-12T17:21:50.966369Z",
          "iopub.status.idle": "2023-03-12T17:21:53.222070Z",
          "shell.execute_reply": "2023-03-12T17:21:53.220633Z"
        },
        "papermill": {
          "duration": 2.271478,
          "end_time": "2023-03-12T17:21:53.224707",
          "exception": false,
          "start_time": "2023-03-12T17:21:50.953229",
          "status": "completed"
        },
        "tags": [],
        "id": "c5d1d232"
      },
      "outputs": [],
      "source": [
        "%%time\n",
        "if IS_EMBEDDING_USED:\n",
        "    values = np.array(data_agg['request_cnt'].to_pandas())\n",
        "    rows = np.array(data_agg['user_id'].to_pandas().map(usr_dict))\n",
        "    cols = np.array(data_agg['url_host'].to_pandas().map(url_dict))\n",
        "    mat = scipy.sparse.coo_matrix((values, (rows, cols)), shape=(rows.max() + 1, cols.max() + 1))\n",
        "    als = implicit.approximate_als.FaissAlternatingLeastSquares(\n",
        "        factors = FACTORS, iterations = FAISS_ITERATIONS, use_gpu = IS_GPU_USED, calculate_training_loss = True, regularization = 0.1\n",
        "    )"
      ]
    },
    {
      "cell_type": "code",
      "execution_count": null,
      "id": "6aad5ea5",
      "metadata": {
        "execution": {
          "iopub.execute_input": "2023-03-12T17:21:53.251071Z",
          "iopub.status.busy": "2023-03-12T17:21:53.249889Z",
          "iopub.status.idle": "2023-03-12T23:05:22.252623Z",
          "shell.execute_reply": "2023-03-12T23:05:22.251124Z"
        },
        "papermill": {
          "duration": 20609.019324,
          "end_time": "2023-03-12T23:05:22.255928",
          "exception": false,
          "start_time": "2023-03-12T17:21:53.236604",
          "status": "completed"
        },
        "tags": [],
        "id": "6aad5ea5"
      },
      "outputs": [],
      "source": [
        "%%time\n",
        "if IS_EMBEDDING_USED:\n",
        "    als.fit(mat)"
      ]
    },
    {
      "cell_type": "code",
      "execution_count": null,
      "id": "021297f7",
      "metadata": {
        "execution": {
          "iopub.execute_input": "2023-03-12T23:05:22.285265Z",
          "iopub.status.busy": "2023-03-12T23:05:22.284660Z",
          "iopub.status.idle": "2023-03-12T23:05:22.294877Z",
          "shell.execute_reply": "2023-03-12T23:05:22.293463Z"
        },
        "papermill": {
          "duration": 0.028069,
          "end_time": "2023-03-12T23:05:22.297535",
          "exception": false,
          "start_time": "2023-03-12T23:05:22.269466",
          "status": "completed"
        },
        "tags": [],
        "id": "021297f7"
      },
      "outputs": [],
      "source": [
        "if IS_EMBEDDING_USED:\n",
        "    u_factors = als.user_factors \n",
        "    print(len(u_factors))"
      ]
    },
    {
      "cell_type": "code",
      "execution_count": null,
      "id": "c6e65cab",
      "metadata": {
        "execution": {
          "iopub.execute_input": "2023-03-12T23:05:22.324211Z",
          "iopub.status.busy": "2023-03-12T23:05:22.323496Z",
          "iopub.status.idle": "2023-03-12T23:05:22.330813Z",
          "shell.execute_reply": "2023-03-12T23:05:22.328985Z"
        },
        "papermill": {
          "duration": 0.023353,
          "end_time": "2023-03-12T23:05:22.333441",
          "exception": false,
          "start_time": "2023-03-12T23:05:22.310088",
          "status": "completed"
        },
        "tags": [],
        "id": "c6e65cab"
      },
      "outputs": [],
      "source": [
        "if IS_EMBEDDING_USED:\n",
        "    d_factors = als.item_factors\n",
        "    print(len(d_factors))"
      ]
    },
    {
      "cell_type": "markdown",
      "source": [
        "## Data loading with merlin"
      ],
      "metadata": {
        "id": "fOaCO5ViORAq"
      },
      "id": "fOaCO5ViORAq"
    },
    {
      "cell_type": "code",
      "source": [
        "train = Dataset(data)\n",
        "schema = train.schema\n",
        "schema"
      ],
      "metadata": {
        "id": "mvYnaCheOSII"
      },
      "id": "mvYnaCheOSII",
      "execution_count": null,
      "outputs": []
    },
    {
      "cell_type": "code",
      "source": [
        "inputs = tr.TabularSequenceFeatures.from_schema(\n",
        "        schema,\n",
        "        max_sequence_length=20,\n",
        "        continuous_projection=64,\n",
        "        masking=\"mlm\",\n",
        "        d_output=100,\n",
        ")"
      ],
      "metadata": {
        "id": "1dog7B1zOYWK"
      },
      "id": "1dog7B1zOYWK",
      "execution_count": null,
      "outputs": []
    },
    {
      "cell_type": "code",
      "source": [
        "# Define XLNetConfig class and set default parameters for HF XLNet config  \n",
        "transformer_config = tr.XLNetConfig.build(\n",
        "    d_model=64, n_head=4, n_layer=2, total_seq_length=20\n",
        ")\n",
        "# Define the model block including: inputs, masking, projection and transformer block.\n",
        "body = tr.SequentialBlock(\n",
        "    inputs, tr.MLPBlock([64]), tr.TransformerBlock(transformer_config, masking=inputs.masking)\n",
        ")\n",
        "\n",
        "# Define the evaluation top-N metrics and the cut-offs\n",
        "metrics = [NDCGAt(top_ks=[20, 40], labels_onehot=True),  \n",
        "           RecallAt(top_ks=[20, 40], labels_onehot=True)]\n",
        "\n",
        "# Define a head related to next item prediction task \n",
        "head = tr.Head(\n",
        "    body,\n",
        "    tr.NextItemPredictionTask(weight_tying=True, \n",
        "                              metrics=metrics),\n",
        "    inputs=inputs,\n",
        ")\n",
        "\n",
        "# Get the end-to-end Model class \n",
        "model = tr.Model(head)"
      ],
      "metadata": {
        "id": "LhPeDSrdObWZ"
      },
      "id": "LhPeDSrdObWZ",
      "execution_count": null,
      "outputs": []
    },
    {
      "cell_type": "code",
      "source": [
        "per_device_train_batch_size = int(os.environ.get(\n",
        "    \"per_device_train_batch_size\", \n",
        "    '128'\n",
        "))\n",
        "\n",
        "per_device_eval_batch_size = int(os.environ.get(\n",
        "    \"per_device_eval_batch_size\", \n",
        "    '32'\n",
        "))"
      ],
      "metadata": {
        "id": "hu5BS_qMOkGZ"
      },
      "id": "hu5BS_qMOkGZ",
      "execution_count": null,
      "outputs": []
    },
    {
      "cell_type": "code",
      "source": [
        "from transformers4rec.config.trainer import T4RecTrainingArguments\n",
        "from transformers4rec.torch import Trainer\n",
        "# Set hyperparameters for training \n",
        "train_args = T4RecTrainingArguments(data_loader_engine='merlin', \n",
        "                                    dataloader_drop_last = True,\n",
        "                                    gradient_accumulation_steps = 1,\n",
        "                                    per_device_train_batch_size = per_device_train_batch_size, \n",
        "                                    per_device_eval_batch_size = per_device_eval_batch_size,\n",
        "                                    output_dir = \"./tmp\", \n",
        "                                    learning_rate=0.0005,\n",
        "                                    lr_scheduler_type='cosine', \n",
        "                                    learning_rate_num_cosine_cycles_by_epoch=1.5,\n",
        "                                    num_train_epochs=5,\n",
        "                                    max_sequence_length=20, \n",
        "                                    report_to = [],\n",
        "                                    logging_steps=50,\n",
        "                                    no_cuda=False)"
      ],
      "metadata": {
        "id": "j0xZUw-DOoLO"
      },
      "id": "j0xZUw-DOoLO",
      "execution_count": null,
      "outputs": []
    },
    {
      "cell_type": "code",
      "source": [
        "# Instantiate the T4Rec Trainer, which manages training and evaluation for the PyTorch API\n",
        "trainer = Trainer(\n",
        "    model=model,\n",
        "    args=train_args,\n",
        "    schema=schema,\n",
        "    compute_metrics=True,\n",
        ")"
      ],
      "metadata": {
        "id": "dddb8NOnOsXx"
      },
      "id": "dddb8NOnOsXx",
      "execution_count": null,
      "outputs": []
    },
    {
      "cell_type": "code",
      "source": [
        "start_window_index = int(os.environ.get(\n",
        "    \"start_window_index\", \n",
        "    '1'\n",
        "))\n",
        "\n",
        "final_window_index = int(os.environ.get(\n",
        "    \"final_window_index\", \n",
        "    '8'\n",
        "))"
      ],
      "metadata": {
        "id": "QT0MhoBSOvsQ"
      },
      "id": "QT0MhoBSOvsQ",
      "execution_count": null,
      "outputs": []
    },
    {
      "cell_type": "code",
      "source": [
        "start_time_window_index = start_window_index\n",
        "final_time_window_index = final_window_index\n",
        "#Iterating over days of one week\n",
        "for time_index in range(start_time_window_index, final_time_window_index):\n",
        "    # Set data \n",
        "    time_index_train = time_index\n",
        "    time_index_eval = time_index + 1\n",
        "    train_paths = glob.glob(os.path.join(OUTPUT_DIR, f\"{time_index_train}/train.parquet\"))\n",
        "    eval_paths = glob.glob(os.path.join(OUTPUT_DIR, f\"{time_index_eval}/valid.parquet\"))\n",
        "    print(train_paths)\n",
        "    \n",
        "    # Train on day related to time_index \n",
        "    print('*'*20)\n",
        "    print(\"Launch training for day %s are:\" %time_index)\n",
        "    print('*'*20 + '\\n')\n",
        "    trainer.train_dataset_or_path = train_paths\n",
        "    trainer.reset_lr_scheduler()\n",
        "    trainer.train()\n",
        "    trainer.state.global_step +=1\n",
        "    print('finished')\n",
        "    \n",
        "    # Evaluate on the following day\n",
        "    trainer.eval_dataset_or_path = eval_paths\n",
        "    train_metrics = trainer.evaluate(metric_key_prefix='eval')\n",
        "    print('*'*20)\n",
        "    print(\"Eval results for day %s are:\\t\" %time_index_eval)\n",
        "    print('\\n' + '*'*20 + '\\n')\n",
        "    for key in sorted(train_metrics.keys()):\n",
        "        print(\" %s = %s\" % (key, str(train_metrics[key]))) \n",
        "    wipe_memory()"
      ],
      "metadata": {
        "id": "Bx31ePT9QDk2"
      },
      "id": "Bx31ePT9QDk2",
      "execution_count": null,
      "outputs": []
    },
    {
      "cell_type": "code",
      "source": [
        "eval_data_paths = glob.glob(os.path.join(OUTPUT_DIR, f\"{time_index_eval}/valid.parquet\"))"
      ],
      "metadata": {
        "id": "SFqibc1SQJ-v"
      },
      "id": "SFqibc1SQJ-v",
      "execution_count": null,
      "outputs": []
    },
    {
      "cell_type": "code",
      "source": [
        "# set new data from day 7\n",
        "eval_metrics = trainer.evaluate(eval_dataset=eval_data_paths, metric_key_prefix='eval')\n",
        "for key in sorted(eval_metrics.keys()):\n",
        "    print(\"  %s = %s\" % (key, str(eval_metrics[key])))"
      ],
      "metadata": {
        "id": "HVRx2voCQNuz"
      },
      "id": "HVRx2voCQNuz",
      "execution_count": null,
      "outputs": []
    },
    {
      "cell_type": "code",
      "source": [
        "model_path= os.environ.get(\"OUTPUT_DIR\", f\"{INPUT_DATA_DIR}/saved_model\")\n",
        "model.save(model_path)"
      ],
      "metadata": {
        "id": "Msl19xTMQQ29"
      },
      "id": "Msl19xTMQQ29",
      "execution_count": null,
      "outputs": []
    },
    {
      "cell_type": "markdown",
      "id": "988fde3d",
      "metadata": {
        "papermill": {
          "duration": 0.012077,
          "end_time": "2023-03-12T23:05:22.358636",
          "exception": false,
          "start_time": "2023-03-12T23:05:22.346559",
          "status": "completed"
        },
        "tags": [],
        "id": "988fde3d"
      },
      "source": [
        "## Sex prediction"
      ]
    },
    {
      "cell_type": "code",
      "execution_count": null,
      "id": "6b0fcd61",
      "metadata": {
        "execution": {
          "iopub.execute_input": "2023-03-12T23:05:22.385221Z",
          "iopub.status.busy": "2023-03-12T23:05:22.384520Z",
          "iopub.status.idle": "2023-03-12T23:05:22.419541Z",
          "shell.execute_reply": "2023-03-12T23:05:22.418542Z"
        },
        "papermill": {
          "duration": 0.051346,
          "end_time": "2023-03-12T23:05:22.422095",
          "exception": false,
          "start_time": "2023-03-12T23:05:22.370749",
          "status": "completed"
        },
        "tags": [],
        "id": "6b0fcd61"
      },
      "outputs": [],
      "source": [
        "id_to_submit = pd.read_feather(f'{LOCAL_DATA_PATH}/{SUBMISSION_FILE}')"
      ]
    },
    {
      "cell_type": "code",
      "execution_count": null,
      "id": "35f86b67",
      "metadata": {
        "execution": {
          "iopub.execute_input": "2023-03-12T23:05:22.449081Z",
          "iopub.status.busy": "2023-03-12T23:05:22.448636Z",
          "iopub.status.idle": "2023-03-12T23:05:24.393448Z",
          "shell.execute_reply": "2023-03-12T23:05:24.391811Z"
        },
        "papermill": {
          "duration": 1.962323,
          "end_time": "2023-03-12T23:05:24.397203",
          "exception": false,
          "start_time": "2023-03-12T23:05:22.434880",
          "status": "completed"
        },
        "scrolled": true,
        "tags": [],
        "id": "35f86b67"
      },
      "outputs": [],
      "source": [
        "if IS_EMBEDDING_USED:\n",
        "    inv_usr_map = {v: k for k, v in usr_dict.items()}\n",
        "    usr_emb = pd.DataFrame(d_factors)\n",
        "    usr_emb['user_id'] = usr_emb.index.map(inv_usr_map)\n",
        "    usr_targets = targets.to_pandas()\n",
        "    df = usr_targets.merge(usr_emb, how = 'inner', on = ['user_id'])\n",
        "    df = df[df['is_male'] != 'NA']\n",
        "    df = df.dropna()\n",
        "    df['is_male'] = df['is_male'].map(int)\n",
        "    print(df['is_male'].value_counts())"
      ]
    },
    {
      "cell_type": "markdown",
      "id": "ac81e742",
      "metadata": {
        "papermill": {
          "duration": 0.012827,
          "end_time": "2023-03-12T23:05:24.423161",
          "exception": false,
          "start_time": "2023-03-12T23:05:24.410334",
          "status": "completed"
        },
        "tags": [],
        "id": "ac81e742"
      },
      "source": [
        "#### Model trainings"
      ]
    },
    {
      "cell_type": "code",
      "execution_count": null,
      "id": "2b6e64ff",
      "metadata": {
        "execution": {
          "iopub.execute_input": "2023-03-12T23:05:24.451074Z",
          "iopub.status.busy": "2023-03-12T23:05:24.449856Z",
          "iopub.status.idle": "2023-03-12T23:05:24.460523Z",
          "shell.execute_reply": "2023-03-12T23:05:24.459607Z"
        },
        "papermill": {
          "duration": 0.026949,
          "end_time": "2023-03-12T23:05:24.462876",
          "exception": false,
          "start_time": "2023-03-12T23:05:24.435927",
          "status": "completed"
        },
        "tags": [],
        "id": "2b6e64ff"
      },
      "outputs": [],
      "source": [
        "max_gini = 0\n",
        "train_index = 0\n",
        "test_index = 0\n",
        "\n",
        "if IS_MODEL_CATBOOST:\n",
        "    clf = CatBoostClassifier()\n",
        "elif IS_MODEL_RANDFOREST:\n",
        "    clf = RandomForestClassifier(random_state=SPLIT_SEED)"
      ]
    },
    {
      "cell_type": "code",
      "execution_count": null,
      "id": "74fd2566",
      "metadata": {
        "execution": {
          "iopub.execute_input": "2023-03-12T23:05:24.489879Z",
          "iopub.status.busy": "2023-03-12T23:05:24.488796Z",
          "iopub.status.idle": "2023-03-12T23:13:09.621123Z",
          "shell.execute_reply": "2023-03-12T23:13:09.619994Z"
        },
        "papermill": {
          "duration": 465.159397,
          "end_time": "2023-03-12T23:13:09.634746",
          "exception": false,
          "start_time": "2023-03-12T23:05:24.475349",
          "status": "completed"
        },
        "tags": [],
        "id": "74fd2566"
      },
      "outputs": [],
      "source": [
        "%%time\n",
        "if IS_MODEL_CATBOOST or IS_MODEL_RANDFOREST:\n",
        "    x = df.drop(['user_id', 'age', 'is_male'], axis = 1)\n",
        "    y = df['is_male']\n",
        "\n",
        "    kf = KFold(n_splits=KFOLD_SPLITS)\n",
        "\n",
        "    for train_index, test_index in kf.split(x):\n",
        "        print(\"Train indexes: \", train_index[:5],\n",
        "              \"; Test indexes: \", test_index[:5], \";\\n\",\n",
        "              \"Train length: \", len(train_index), \n",
        "              \"; Test length: \", len(test_index), \n",
        "              \"; Dataset length: \", len(x), ';', sep='', end='\\n')\n",
        "        \n",
        "        x_train, x_test = x.iloc[train_index], x.iloc[test_index]\n",
        "        y_train, y_test = y.iloc[train_index], y.iloc[test_index]\n",
        "        \n",
        "        if IS_MODEL_CATBOOST:\n",
        "            clf.fit(x_train, y_train, verbose = False)\n",
        "        elif IS_MODEL_RANDFOREST:\n",
        "            clf.fit(x_train, y_train)\n",
        "        \n",
        "        gini = float(f'{2 * m.roc_auc_score(y_test, clf.predict_proba(x_test)[:,1]) - 1:2.3f}')\n",
        "        if gini > max_gini:\n",
        "            max_gini = gini\n",
        "            max_train_index = train_index\n",
        "            max_test_index = test_index\n",
        "        \n",
        "        print(f'Current GINI is {gini}, current max is {max_gini}', end=\"\\n\\n\")"
      ]
    },
    {
      "cell_type": "code",
      "execution_count": null,
      "id": "195f7576",
      "metadata": {
        "execution": {
          "iopub.execute_input": "2023-03-12T23:13:09.661734Z",
          "iopub.status.busy": "2023-03-12T23:13:09.661318Z",
          "iopub.status.idle": "2023-03-12T23:13:09.668084Z",
          "shell.execute_reply": "2023-03-12T23:13:09.666723Z"
        },
        "papermill": {
          "duration": 0.023014,
          "end_time": "2023-03-12T23:13:09.670203",
          "exception": false,
          "start_time": "2023-03-12T23:13:09.647189",
          "status": "completed"
        },
        "tags": [],
        "id": "195f7576"
      },
      "outputs": [],
      "source": [
        "print(f'Max GINI is {max_gini}')\n",
        "print(f'Max train index is {max_train_index[:5]}')\n",
        "print(f'Max test index is {max_test_index[:5]}')"
      ]
    },
    {
      "cell_type": "markdown",
      "id": "3b8a7060",
      "metadata": {
        "papermill": {
          "duration": 0.012314,
          "end_time": "2023-03-12T23:13:09.695345",
          "exception": false,
          "start_time": "2023-03-12T23:13:09.683031",
          "status": "completed"
        },
        "tags": [],
        "id": "3b8a7060"
      },
      "source": [
        "have to use predict_proba because we need probability of the sex"
      ]
    },
    {
      "cell_type": "code",
      "execution_count": null,
      "id": "cdda3180",
      "metadata": {
        "execution": {
          "iopub.execute_input": "2023-03-12T23:13:09.722306Z",
          "iopub.status.busy": "2023-03-12T23:13:09.721863Z",
          "iopub.status.idle": "2023-03-12T23:14:43.326722Z",
          "shell.execute_reply": "2023-03-12T23:14:43.325482Z"
        },
        "papermill": {
          "duration": 93.634704,
          "end_time": "2023-03-12T23:14:43.342770",
          "exception": false,
          "start_time": "2023-03-12T23:13:09.708066",
          "status": "completed"
        },
        "tags": [],
        "id": "cdda3180"
      },
      "outputs": [],
      "source": [
        "if IS_MODEL_CATBOOST or IS_MODEL_RANDFOREST:\n",
        "    if IS_MODEL_CATBOOST:\n",
        "        clf.fit(x.iloc[max_train_index], y.iloc[max_train_index], verbose = False)\n",
        "    elif IS_MODEL_RANDFOREST:\n",
        "        clf.fit(x.iloc[max_train_index], y.iloc[max_train_index])\n",
        "    id_to_submit['user_id'].unique\n",
        "    id_to_submit['is_male'] = clf.predict_proba(id_to_submit.merge(usr_emb, how = 'left', on = ['user_id']).drop(['user_id'], axis = 1))[:,1]\n",
        "    \n",
        "id_to_submit.head()"
      ]
    },
    {
      "cell_type": "code",
      "execution_count": null,
      "id": "b6401605",
      "metadata": {
        "execution": {
          "iopub.execute_input": "2023-03-12T23:14:43.371579Z",
          "iopub.status.busy": "2023-03-12T23:14:43.370375Z",
          "iopub.status.idle": "2023-03-12T23:14:43.487399Z",
          "shell.execute_reply": "2023-03-12T23:14:43.486021Z"
        },
        "papermill": {
          "duration": 0.134417,
          "end_time": "2023-03-12T23:14:43.490132",
          "exception": false,
          "start_time": "2023-03-12T23:14:43.355715",
          "status": "completed"
        },
        "tags": [],
        "id": "b6401605"
      },
      "outputs": [],
      "source": [
        "print(\"Current GINI score: \", float(f'{2 * m.roc_auc_score(y.iloc[max_test_index], clf.predict_proba(x.iloc[max_test_index])[:,1]) - 1:2.3f}'))"
      ]
    },
    {
      "cell_type": "markdown",
      "id": "d292e34e",
      "metadata": {
        "papermill": {
          "duration": 0.012385,
          "end_time": "2023-03-12T23:14:43.515358",
          "exception": false,
          "start_time": "2023-03-12T23:14:43.502973",
          "status": "completed"
        },
        "tags": [],
        "id": "d292e34e"
      },
      "source": [
        "## Age prediction"
      ]
    },
    {
      "cell_type": "code",
      "execution_count": null,
      "id": "24613433",
      "metadata": {
        "execution": {
          "iopub.execute_input": "2023-03-12T23:14:43.542938Z",
          "iopub.status.busy": "2023-03-12T23:14:43.541923Z",
          "iopub.status.idle": "2023-03-12T23:14:43.547884Z",
          "shell.execute_reply": "2023-03-12T23:14:43.546671Z"
        },
        "papermill": {
          "duration": 0.022291,
          "end_time": "2023-03-12T23:14:43.550139",
          "exception": false,
          "start_time": "2023-03-12T23:14:43.527848",
          "status": "completed"
        },
        "tags": [],
        "id": "24613433"
      },
      "outputs": [],
      "source": [
        "def age_bucket(x):\n",
        "    return bisect.bisect_left([18,25,35,45,55,65], x)"
      ]
    },
    {
      "cell_type": "code",
      "execution_count": null,
      "id": "d3e762ff",
      "metadata": {
        "execution": {
          "iopub.execute_input": "2023-03-12T23:14:43.578077Z",
          "iopub.status.busy": "2023-03-12T23:14:43.577286Z",
          "iopub.status.idle": "2023-03-12T23:14:45.278777Z",
          "shell.execute_reply": "2023-03-12T23:14:45.277962Z"
        },
        "papermill": {
          "duration": 1.717704,
          "end_time": "2023-03-12T23:14:45.280936",
          "exception": false,
          "start_time": "2023-03-12T23:14:43.563232",
          "status": "completed"
        },
        "tags": [],
        "id": "d3e762ff"
      },
      "outputs": [],
      "source": [
        "df = usr_targets.merge(usr_emb, how = 'inner', on = ['user_id'])\n",
        "df = df[df['age'] != 'NA']\n",
        "df = df.dropna()\n",
        "df['age'] = df['age'].map(age_bucket)\n",
        "sns.histplot(df['age'], bins = 7)"
      ]
    },
    {
      "cell_type": "code",
      "execution_count": null,
      "id": "374916e2",
      "metadata": {
        "execution": {
          "iopub.execute_input": "2023-03-12T23:14:45.314197Z",
          "iopub.status.busy": "2023-03-12T23:14:45.313289Z",
          "iopub.status.idle": "2023-03-12T23:14:45.324503Z",
          "shell.execute_reply": "2023-03-12T23:14:45.323596Z"
        },
        "papermill": {
          "duration": 0.031091,
          "end_time": "2023-03-12T23:14:45.326631",
          "exception": false,
          "start_time": "2023-03-12T23:14:45.295540",
          "status": "completed"
        },
        "tags": [],
        "id": "374916e2"
      },
      "outputs": [],
      "source": [
        "max_f1 = 0\n",
        "train_index = 0\n",
        "test_index = 0\n",
        "\n",
        "if IS_MODEL_CATBOOST:\n",
        "    clf = CatBoostClassifier()\n",
        "elif IS_MODEL_RANDFOREST:\n",
        "    clf = RandomForestClassifier(random_state=SPLIT_SEED)"
      ]
    },
    {
      "cell_type": "code",
      "execution_count": null,
      "id": "0a48b168",
      "metadata": {
        "execution": {
          "iopub.execute_input": "2023-03-12T23:14:45.356134Z",
          "iopub.status.busy": "2023-03-12T23:14:45.355438Z",
          "iopub.status.idle": "2023-03-12T23:58:49.631173Z",
          "shell.execute_reply": "2023-03-12T23:58:49.629694Z"
        },
        "papermill": {
          "duration": 2644.307618,
          "end_time": "2023-03-12T23:58:49.647947",
          "exception": false,
          "start_time": "2023-03-12T23:14:45.340329",
          "status": "completed"
        },
        "tags": [],
        "id": "0a48b168"
      },
      "outputs": [],
      "source": [
        "if IS_MODEL_CATBOOST or IS_MODEL_RANDFOREST:\n",
        "    x = df.drop(['user_id', 'age', 'is_male'], axis = 1)\n",
        "    y = df['age']\n",
        "\n",
        "    kf = KFold(n_splits=KFOLD_SPLITS)\n",
        "\n",
        "    for train_index, test_index in kf.split(x):\n",
        "        print(\"Train indexes: \", train_index[:5],\n",
        "              \"; Test indexes: \", test_index[:5], \";\\n\",\n",
        "              \"Train length: \", len(train_index), \n",
        "              \"; Test length: \", len(test_index), \n",
        "              \"; Dataset length: \", len(x), ';', sep='', end='\\n')\n",
        "        \n",
        "        x_train, x_test = x.iloc[train_index], x.iloc[test_index]\n",
        "        y_train, y_test = y.iloc[train_index], y.iloc[test_index]\n",
        "        if IS_MODEL_CATBOOST:\n",
        "            clf.fit(x_train, y_train, verbose = False)\n",
        "        elif IS_MODEL_RANDFOREST:\n",
        "            clf.fit(x_train, y_train)\n",
        "        \n",
        "        f1 = m.f1_score(y_test, clf.predict(x_test), average='weighted')\n",
        "        if f1 > max_f1:\n",
        "            max_f1 = f1\n",
        "            max_train_index = train_index\n",
        "            max_test_index = test_index\n",
        "        \n",
        "        print(f'Current F1 is {f1}, current max is {max_f1}', end=\"\\n\\n\")"
      ]
    },
    {
      "cell_type": "code",
      "execution_count": null,
      "id": "f644d2f4",
      "metadata": {
        "execution": {
          "iopub.execute_input": "2023-03-12T23:58:49.677780Z",
          "iopub.status.busy": "2023-03-12T23:58:49.677367Z",
          "iopub.status.idle": "2023-03-12T23:58:49.684580Z",
          "shell.execute_reply": "2023-03-12T23:58:49.683253Z"
        },
        "papermill": {
          "duration": 0.025374,
          "end_time": "2023-03-12T23:58:49.687342",
          "exception": false,
          "start_time": "2023-03-12T23:58:49.661968",
          "status": "completed"
        },
        "tags": [],
        "id": "f644d2f4"
      },
      "outputs": [],
      "source": [
        "print(f'Max F1 is {max_f1}')\n",
        "print(f'Max train index is {max_train_index[:5]}')\n",
        "print(f'Max test index is {max_test_index[:5]}')"
      ]
    },
    {
      "cell_type": "code",
      "execution_count": null,
      "id": "29c03c07",
      "metadata": {
        "execution": {
          "iopub.execute_input": "2023-03-12T23:58:49.717776Z",
          "iopub.status.busy": "2023-03-12T23:58:49.717377Z",
          "iopub.status.idle": "2023-03-13T00:07:40.013854Z",
          "shell.execute_reply": "2023-03-13T00:07:40.012678Z"
        },
        "papermill": {
          "duration": 530.328613,
          "end_time": "2023-03-13T00:07:40.030444",
          "exception": false,
          "start_time": "2023-03-12T23:58:49.701831",
          "status": "completed"
        },
        "tags": [],
        "id": "29c03c07"
      },
      "outputs": [],
      "source": [
        "if IS_MODEL_CATBOOST or IS_MODEL_RANDFOREST:\n",
        "    if IS_MODEL_CATBOOST:\n",
        "        clf.fit(x.iloc[max_train_index], y.iloc[max_train_index], verbose = False)\n",
        "    elif IS_MODEL_RANDFOREST:\n",
        "        clf.fit(x.iloc[max_train_index], y.iloc[max_train_index])\n",
        "    id_to_submit['age'] = clf.predict(id_to_submit[['user_id']].merge(usr_emb, how = 'left', on = ['user_id']).drop(['user_id'], axis = 1))\n",
        "    \n",
        "id_to_submit.head()"
      ]
    },
    {
      "cell_type": "code",
      "execution_count": null,
      "id": "b8b0b378",
      "metadata": {
        "execution": {
          "iopub.execute_input": "2023-03-13T00:07:40.060232Z",
          "iopub.status.busy": "2023-03-13T00:07:40.059787Z",
          "iopub.status.idle": "2023-03-13T00:07:40.377691Z",
          "shell.execute_reply": "2023-03-13T00:07:40.376475Z"
        },
        "papermill": {
          "duration": 0.335542,
          "end_time": "2023-03-13T00:07:40.380111",
          "exception": false,
          "start_time": "2023-03-13T00:07:40.044569",
          "status": "completed"
        },
        "tags": [],
        "id": "b8b0b378"
      },
      "outputs": [],
      "source": [
        "if IS_MODEL_CATBOOST or IS_MODEL_RANDFOREST:\n",
        "    print(m.classification_report(\n",
        "          y.iloc[max_test_index], \n",
        "          clf.predict(x.iloc[max_test_index]), \n",
        "          target_names = ['<18', '18-25','25-34', '35-44', '45-54', '55-65', '65+']\n",
        "    ))"
      ]
    },
    {
      "cell_type": "markdown",
      "id": "3239d098",
      "metadata": {
        "papermill": {
          "duration": 0.013904,
          "end_time": "2023-03-13T00:07:40.408412",
          "exception": false,
          "start_time": "2023-03-13T00:07:40.394508",
          "status": "completed"
        },
        "tags": [],
        "id": "3239d098"
      },
      "source": [
        "## Submission"
      ]
    },
    {
      "cell_type": "code",
      "execution_count": null,
      "id": "119feda8",
      "metadata": {
        "execution": {
          "iopub.execute_input": "2023-03-13T00:07:40.439176Z",
          "iopub.status.busy": "2023-03-13T00:07:40.438753Z",
          "iopub.status.idle": "2023-03-13T00:07:40.852596Z",
          "shell.execute_reply": "2023-03-13T00:07:40.851286Z"
        },
        "papermill": {
          "duration": 0.432469,
          "end_time": "2023-03-13T00:07:40.855538",
          "exception": false,
          "start_time": "2023-03-13T00:07:40.423069",
          "status": "completed"
        },
        "tags": [],
        "id": "119feda8"
      },
      "outputs": [],
      "source": [
        "display(id_to_submit.head())\n",
        "display(id_to_submit.is_male.value_counts())\n",
        "display(id_to_submit.age.value_counts())\n",
        "id_to_submit.to_csv('submission.csv', index = False)"
      ]
    },
    {
      "cell_type": "code",
      "execution_count": null,
      "id": "1cad3b50",
      "metadata": {
        "execution": {
          "iopub.execute_input": "2023-03-13T00:07:40.886635Z",
          "iopub.status.busy": "2023-03-13T00:07:40.886243Z",
          "iopub.status.idle": "2023-03-13T00:07:40.892410Z",
          "shell.execute_reply": "2023-03-13T00:07:40.891233Z"
        },
        "papermill": {
          "duration": 0.024457,
          "end_time": "2023-03-13T00:07:40.894858",
          "exception": false,
          "start_time": "2023-03-13T00:07:40.870401",
          "status": "completed"
        },
        "tags": [],
        "id": "1cad3b50"
      },
      "outputs": [],
      "source": [
        "print(f'Score: {max_gini + 2*max_f1}')"
      ]
    }
  ],
  "metadata": {
    "kernelspec": {
      "display_name": "Python 3",
      "language": "python",
      "name": "python3"
    },
    "language_info": {
      "codemirror_mode": {
        "name": "ipython",
        "version": 3
      },
      "file_extension": ".py",
      "mimetype": "text/x-python",
      "name": "python",
      "nbconvert_exporter": "python",
      "pygments_lexer": "ipython3",
      "version": "3.7.12"
    },
    "papermill": {
      "default_parameters": {},
      "duration": 24539.674845,
      "end_time": "2023-03-13T00:07:44.330069",
      "environment_variables": {},
      "exception": null,
      "input_path": "__notebook__.ipynb",
      "output_path": "__notebook__.ipynb",
      "parameters": {},
      "start_time": "2023-03-12T17:18:44.655224",
      "version": "2.3.4"
    },
    "colab": {
      "provenance": []
    }
  },
  "nbformat": 4,
  "nbformat_minor": 5
}